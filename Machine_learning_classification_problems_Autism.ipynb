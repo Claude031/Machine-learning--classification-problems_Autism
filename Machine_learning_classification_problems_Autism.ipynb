{
  "nbformat": 4,
  "nbformat_minor": 0,
  "metadata": {
    "colab": {
      "provenance": [],
      "collapsed_sections": [
        "ie7KS5EHbDDx",
        "vJez9ss6bkmQ",
        "JFqtJTo2bkCP",
        "KM-kRP17boq0",
        "x1J2nizTiUce"
      ]
    },
    "kernelspec": {
      "name": "python3",
      "display_name": "Python 3"
    },
    "language_info": {
      "name": "python"
    }
  },
  "cells": [
    {
      "cell_type": "markdown",
      "source": [
        "#**Autism Prediction - ML classification problem**"
      ],
      "metadata": {
        "id": "1CLBcwOF4toU"
      }
    },
    {
      "cell_type": "markdown",
      "source": [
        "Project of improve Autism Screening by creating predicting the likelihood of having this condition.\n",
        "\n",
        "**What is Autism**\n",
        "\n",
        "Autism, or autism spectrum disorder (ASD), refers to a broad range of conditions characterized by challenges with social skills, repetitive behaviors, speech and nonverbal communication.\n",
        "\n",
        "https://www.kaggle.com/competitions/autismdiagnosis"
      ],
      "metadata": {
        "id": "02p5jCaz8hjN"
      }
    },
    {
      "cell_type": "markdown",
      "source": [
        "**Columns**\n",
        "* ID - ID of the patient\n",
        "* A1_Score to A10_Score - Score based on Autism Spectrum Quotient (AQ) 10 item screening tool\n",
        "* age - Age of the patient in years\n",
        "* gender - Gender of the patient\n",
        "* ethnicity - Ethnicity of the patient\n",
        "* jaundice - Whether the patient had jaundice at the time of birth\n",
        "* autism - Whether an immediate family member has been diagnosed with autism\n",
        "* contry_of_res - Country of residence of the patient\n",
        "* used_app_before - Whether the patient has undergone a screening test before\n",
        "* result - Score for AQ1-10 screening test\n",
        "* age_desc - Age of the patient\n",
        "* relation - Relation of patient who completed the test\n",
        "* Class/ASD - Classified result as 0 or 1. Here 0 represents No and 1 represents Yes. This is the target column, and during submission submit the values as 0 or 1 only.\n",
        "\n",
        "This dataset is composed of survey results for more than 700 people who filled an app form. There are labels portraying whether the person received a diagnosis of autism, allowing machine learning models to predict the likelihood of having autism, therefore allowing healthcare professionals prioritize their resources."
      ],
      "metadata": {
        "id": "guVHskxF7qbD"
      }
    },
    {
      "cell_type": "code",
      "source": [
        "import numpy as np\n",
        "import pandas as pd\n",
        "import matplotlib.pyplot as plt\n",
        "import seaborn as sns\n",
        "import plotly.graph_objects as go\n",
        "from numpy.random import RandomState\n",
        "import sklearn.metrics\n",
        "from plotly.offline import iplot\n",
        "import plotly.express as px\n",
        "import warnings\n",
        "\n",
        "#pipeline\n",
        "from sklearn.model_selection import train_test_split\n",
        "from sklearn.base import BaseEstimator, TransformerMixin\n",
        "from sklearn.pipeline import Pipeline\n",
        "from sklearn.compose import ColumnTransformer\n",
        "from sklearn.impute import SimpleImputer\n",
        "from sklearn.preprocessing import StandardScaler\n",
        "from sklearn.linear_model import LogisticRegression\n",
        "from sklearn.metrics import accuracy_score\n",
        "import time\n",
        "from sklearn.preprocessing import OneHotEncoder, LabelEncoder\n",
        "\n",
        "#metrics\n",
        "from sklearn.metrics import accuracy_score\n",
        "from sklearn.metrics import recall_score\n",
        "from sklearn.metrics import confusion_matrix\n",
        "from sklearn.metrics import precision_score\n",
        "from sklearn.metrics import f1_score\n",
        "from sklearn.metrics import roc_auc_score\n",
        "from sklearn.metrics import roc_curve\n",
        "from sklearn.metrics import RocCurveDisplay\n",
        "\n",
        "#model\n",
        "from sklearn.ensemble import RandomForestClassifier\n",
        "from sklearn.naive_bayes import GaussianNB\n",
        "from sklearn.dummy import DummyClassifier\n",
        "from sklearn.naive_bayes import GaussianNB\n",
        "from sklearn.naive_bayes import MultinomialNB\n",
        "from sklearn.naive_bayes import ComplementNB\n",
        "from sklearn.naive_bayes import BernoulliNB\n",
        "from sklearn.naive_bayes import CategoricalNB\n",
        "from sklearn.svm import SVC\n",
        "from sklearn.neighbors import KNeighborsClassifier\n",
        "from sklearn.tree import DecisionTreeClassifier\n",
        "from sklearn.ensemble import VotingClassifier\n",
        "from sklearn.ensemble import AdaBoostClassifier\n",
        "from sklearn.preprocessing import KBinsDiscretizer\n"
      ],
      "metadata": {
        "id": "dyg0MBuNWIvc"
      },
      "execution_count": null,
      "outputs": []
    },
    {
      "cell_type": "code",
      "source": [
        "df_train=pd.read_csv(\"train.csv\", sep = ',')"
      ],
      "metadata": {
        "id": "a-2ZltdeYW9c"
      },
      "execution_count": null,
      "outputs": []
    },
    {
      "cell_type": "code",
      "source": [
        "df_train.head()"
      ],
      "metadata": {
        "colab": {
          "base_uri": "https://localhost:8080/",
          "height": 366
        },
        "id": "g-SYj8mFYdFP",
        "outputId": "eeb74b40-cc2f-4d61-b858-49a0e47b74bf"
      },
      "execution_count": null,
      "outputs": [
        {
          "output_type": "execute_result",
          "data": {
            "text/plain": [
              "   ID  A1_Score  A2_Score  A3_Score  A4_Score  A5_Score  A6_Score  A7_Score  \\\n",
              "0   1         1         0         1         0         1         0         1   \n",
              "1   2         0         0         0         0         0         0         0   \n",
              "2   3         1         1         1         1         1         1         1   \n",
              "3   4         0         0         0         0         0         0         0   \n",
              "4   5         0         0         0         0         0         0         0   \n",
              "\n",
              "   A8_Score  A9_Score  ...  gender       ethnicity jaundice austim  \\\n",
              "0         0         1  ...       f               ?       no     no   \n",
              "1         0         0  ...       m               ?       no     no   \n",
              "2         1         1  ...       m  White-European       no    yes   \n",
              "3         0         0  ...       f               ?       no     no   \n",
              "4         0         0  ...       m               ?       no     no   \n",
              "\n",
              "   contry_of_res used_app_before     result     age_desc  relation Class/ASD  \n",
              "0        Austria              no   6.351166  18 and more      Self         0  \n",
              "1          India              no   2.255185  18 and more      Self         0  \n",
              "2  United States              no  14.851484  18 and more      Self         1  \n",
              "3  United States              no   2.276617  18 and more      Self         0  \n",
              "4   South Africa              no  -4.777286  18 and more      Self         0  \n",
              "\n",
              "[5 rows x 22 columns]"
            ],
            "text/html": [
              "\n",
              "  <div id=\"df-00d13116-e549-4536-b815-65cbf7c586c8\">\n",
              "    <div class=\"colab-df-container\">\n",
              "      <div>\n",
              "<style scoped>\n",
              "    .dataframe tbody tr th:only-of-type {\n",
              "        vertical-align: middle;\n",
              "    }\n",
              "\n",
              "    .dataframe tbody tr th {\n",
              "        vertical-align: top;\n",
              "    }\n",
              "\n",
              "    .dataframe thead th {\n",
              "        text-align: right;\n",
              "    }\n",
              "</style>\n",
              "<table border=\"1\" class=\"dataframe\">\n",
              "  <thead>\n",
              "    <tr style=\"text-align: right;\">\n",
              "      <th></th>\n",
              "      <th>ID</th>\n",
              "      <th>A1_Score</th>\n",
              "      <th>A2_Score</th>\n",
              "      <th>A3_Score</th>\n",
              "      <th>A4_Score</th>\n",
              "      <th>A5_Score</th>\n",
              "      <th>A6_Score</th>\n",
              "      <th>A7_Score</th>\n",
              "      <th>A8_Score</th>\n",
              "      <th>A9_Score</th>\n",
              "      <th>...</th>\n",
              "      <th>gender</th>\n",
              "      <th>ethnicity</th>\n",
              "      <th>jaundice</th>\n",
              "      <th>austim</th>\n",
              "      <th>contry_of_res</th>\n",
              "      <th>used_app_before</th>\n",
              "      <th>result</th>\n",
              "      <th>age_desc</th>\n",
              "      <th>relation</th>\n",
              "      <th>Class/ASD</th>\n",
              "    </tr>\n",
              "  </thead>\n",
              "  <tbody>\n",
              "    <tr>\n",
              "      <th>0</th>\n",
              "      <td>1</td>\n",
              "      <td>1</td>\n",
              "      <td>0</td>\n",
              "      <td>1</td>\n",
              "      <td>0</td>\n",
              "      <td>1</td>\n",
              "      <td>0</td>\n",
              "      <td>1</td>\n",
              "      <td>0</td>\n",
              "      <td>1</td>\n",
              "      <td>...</td>\n",
              "      <td>f</td>\n",
              "      <td>?</td>\n",
              "      <td>no</td>\n",
              "      <td>no</td>\n",
              "      <td>Austria</td>\n",
              "      <td>no</td>\n",
              "      <td>6.351166</td>\n",
              "      <td>18 and more</td>\n",
              "      <td>Self</td>\n",
              "      <td>0</td>\n",
              "    </tr>\n",
              "    <tr>\n",
              "      <th>1</th>\n",
              "      <td>2</td>\n",
              "      <td>0</td>\n",
              "      <td>0</td>\n",
              "      <td>0</td>\n",
              "      <td>0</td>\n",
              "      <td>0</td>\n",
              "      <td>0</td>\n",
              "      <td>0</td>\n",
              "      <td>0</td>\n",
              "      <td>0</td>\n",
              "      <td>...</td>\n",
              "      <td>m</td>\n",
              "      <td>?</td>\n",
              "      <td>no</td>\n",
              "      <td>no</td>\n",
              "      <td>India</td>\n",
              "      <td>no</td>\n",
              "      <td>2.255185</td>\n",
              "      <td>18 and more</td>\n",
              "      <td>Self</td>\n",
              "      <td>0</td>\n",
              "    </tr>\n",
              "    <tr>\n",
              "      <th>2</th>\n",
              "      <td>3</td>\n",
              "      <td>1</td>\n",
              "      <td>1</td>\n",
              "      <td>1</td>\n",
              "      <td>1</td>\n",
              "      <td>1</td>\n",
              "      <td>1</td>\n",
              "      <td>1</td>\n",
              "      <td>1</td>\n",
              "      <td>1</td>\n",
              "      <td>...</td>\n",
              "      <td>m</td>\n",
              "      <td>White-European</td>\n",
              "      <td>no</td>\n",
              "      <td>yes</td>\n",
              "      <td>United States</td>\n",
              "      <td>no</td>\n",
              "      <td>14.851484</td>\n",
              "      <td>18 and more</td>\n",
              "      <td>Self</td>\n",
              "      <td>1</td>\n",
              "    </tr>\n",
              "    <tr>\n",
              "      <th>3</th>\n",
              "      <td>4</td>\n",
              "      <td>0</td>\n",
              "      <td>0</td>\n",
              "      <td>0</td>\n",
              "      <td>0</td>\n",
              "      <td>0</td>\n",
              "      <td>0</td>\n",
              "      <td>0</td>\n",
              "      <td>0</td>\n",
              "      <td>0</td>\n",
              "      <td>...</td>\n",
              "      <td>f</td>\n",
              "      <td>?</td>\n",
              "      <td>no</td>\n",
              "      <td>no</td>\n",
              "      <td>United States</td>\n",
              "      <td>no</td>\n",
              "      <td>2.276617</td>\n",
              "      <td>18 and more</td>\n",
              "      <td>Self</td>\n",
              "      <td>0</td>\n",
              "    </tr>\n",
              "    <tr>\n",
              "      <th>4</th>\n",
              "      <td>5</td>\n",
              "      <td>0</td>\n",
              "      <td>0</td>\n",
              "      <td>0</td>\n",
              "      <td>0</td>\n",
              "      <td>0</td>\n",
              "      <td>0</td>\n",
              "      <td>0</td>\n",
              "      <td>0</td>\n",
              "      <td>0</td>\n",
              "      <td>...</td>\n",
              "      <td>m</td>\n",
              "      <td>?</td>\n",
              "      <td>no</td>\n",
              "      <td>no</td>\n",
              "      <td>South Africa</td>\n",
              "      <td>no</td>\n",
              "      <td>-4.777286</td>\n",
              "      <td>18 and more</td>\n",
              "      <td>Self</td>\n",
              "      <td>0</td>\n",
              "    </tr>\n",
              "  </tbody>\n",
              "</table>\n",
              "<p>5 rows × 22 columns</p>\n",
              "</div>\n",
              "      <button class=\"colab-df-convert\" onclick=\"convertToInteractive('df-00d13116-e549-4536-b815-65cbf7c586c8')\"\n",
              "              title=\"Convert this dataframe to an interactive table.\"\n",
              "              style=\"display:none;\">\n",
              "        \n",
              "  <svg xmlns=\"http://www.w3.org/2000/svg\" height=\"24px\"viewBox=\"0 0 24 24\"\n",
              "       width=\"24px\">\n",
              "    <path d=\"M0 0h24v24H0V0z\" fill=\"none\"/>\n",
              "    <path d=\"M18.56 5.44l.94 2.06.94-2.06 2.06-.94-2.06-.94-.94-2.06-.94 2.06-2.06.94zm-11 1L8.5 8.5l.94-2.06 2.06-.94-2.06-.94L8.5 2.5l-.94 2.06-2.06.94zm10 10l.94 2.06.94-2.06 2.06-.94-2.06-.94-.94-2.06-.94 2.06-2.06.94z\"/><path d=\"M17.41 7.96l-1.37-1.37c-.4-.4-.92-.59-1.43-.59-.52 0-1.04.2-1.43.59L10.3 9.45l-7.72 7.72c-.78.78-.78 2.05 0 2.83L4 21.41c.39.39.9.59 1.41.59.51 0 1.02-.2 1.41-.59l7.78-7.78 2.81-2.81c.8-.78.8-2.07 0-2.86zM5.41 20L4 18.59l7.72-7.72 1.47 1.35L5.41 20z\"/>\n",
              "  </svg>\n",
              "      </button>\n",
              "      \n",
              "  <style>\n",
              "    .colab-df-container {\n",
              "      display:flex;\n",
              "      flex-wrap:wrap;\n",
              "      gap: 12px;\n",
              "    }\n",
              "\n",
              "    .colab-df-convert {\n",
              "      background-color: #E8F0FE;\n",
              "      border: none;\n",
              "      border-radius: 50%;\n",
              "      cursor: pointer;\n",
              "      display: none;\n",
              "      fill: #1967D2;\n",
              "      height: 32px;\n",
              "      padding: 0 0 0 0;\n",
              "      width: 32px;\n",
              "    }\n",
              "\n",
              "    .colab-df-convert:hover {\n",
              "      background-color: #E2EBFA;\n",
              "      box-shadow: 0px 1px 2px rgba(60, 64, 67, 0.3), 0px 1px 3px 1px rgba(60, 64, 67, 0.15);\n",
              "      fill: #174EA6;\n",
              "    }\n",
              "\n",
              "    [theme=dark] .colab-df-convert {\n",
              "      background-color: #3B4455;\n",
              "      fill: #D2E3FC;\n",
              "    }\n",
              "\n",
              "    [theme=dark] .colab-df-convert:hover {\n",
              "      background-color: #434B5C;\n",
              "      box-shadow: 0px 1px 3px 1px rgba(0, 0, 0, 0.15);\n",
              "      filter: drop-shadow(0px 1px 2px rgba(0, 0, 0, 0.3));\n",
              "      fill: #FFFFFF;\n",
              "    }\n",
              "  </style>\n",
              "\n",
              "      <script>\n",
              "        const buttonEl =\n",
              "          document.querySelector('#df-00d13116-e549-4536-b815-65cbf7c586c8 button.colab-df-convert');\n",
              "        buttonEl.style.display =\n",
              "          google.colab.kernel.accessAllowed ? 'block' : 'none';\n",
              "\n",
              "        async function convertToInteractive(key) {\n",
              "          const element = document.querySelector('#df-00d13116-e549-4536-b815-65cbf7c586c8');\n",
              "          const dataTable =\n",
              "            await google.colab.kernel.invokeFunction('convertToInteractive',\n",
              "                                                     [key], {});\n",
              "          if (!dataTable) return;\n",
              "\n",
              "          const docLinkHtml = 'Like what you see? Visit the ' +\n",
              "            '<a target=\"_blank\" href=https://colab.research.google.com/notebooks/data_table.ipynb>data table notebook</a>'\n",
              "            + ' to learn more about interactive tables.';\n",
              "          element.innerHTML = '';\n",
              "          dataTable['output_type'] = 'display_data';\n",
              "          await google.colab.output.renderOutput(dataTable, element);\n",
              "          const docLink = document.createElement('div');\n",
              "          docLink.innerHTML = docLinkHtml;\n",
              "          element.appendChild(docLink);\n",
              "        }\n",
              "      </script>\n",
              "    </div>\n",
              "  </div>\n",
              "  "
            ]
          },
          "metadata": {},
          "execution_count": 8
        }
      ]
    },
    {
      "cell_type": "code",
      "execution_count": null,
      "metadata": {
        "id": "QnQuAebAsT0P"
      },
      "outputs": [],
      "source": [
        "df_test = pd.read_csv(\"test.csv\", sep = ',')"
      ]
    },
    {
      "cell_type": "code",
      "source": [
        "df_test.head()"
      ],
      "metadata": {
        "colab": {
          "base_uri": "https://localhost:8080/",
          "height": 366
        },
        "id": "Rfr674I1YZbm",
        "outputId": "02602ffc-2619-4eb7-f9b0-7a2245b0a30c"
      },
      "execution_count": null,
      "outputs": [
        {
          "output_type": "execute_result",
          "data": {
            "text/plain": [
              "   ID  A1_Score  A2_Score  A3_Score  A4_Score  A5_Score  A6_Score  A7_Score  \\\n",
              "0   1         1         1         0         0         1         1         0   \n",
              "1   2         1         0         0         0         0         0         0   \n",
              "2   3         1         1         1         0         1         1         0   \n",
              "3   4         0         0         0         0         0         0         0   \n",
              "4   5         0         0         0         1         0         0         0   \n",
              "\n",
              "   A8_Score  A9_Score  ...        age  gender       ethnicity jaundice austim  \\\n",
              "0         0         1  ...  15.599481       m  White-European      yes     no   \n",
              "1         1         0  ...  27.181099       m           Asian       no     no   \n",
              "2         1         1  ...  31.643906       m  White-European      yes     no   \n",
              "3         0         0  ...  25.369210       m               ?       no     no   \n",
              "4         0         0  ...   9.078580       m               ?       no     no   \n",
              "\n",
              "  contry_of_res used_app_before     result     age_desc relation  \n",
              "0         India              no  12.399055  18 and more     Self  \n",
              "1        Mexico              no   6.551598  18 and more     Self  \n",
              "2         Egypt              no   3.180663  18 and more     Self  \n",
              "3         India              no   2.220766  18 and more     Self  \n",
              "4         Italy              no   7.252028  18 and more     Self  \n",
              "\n",
              "[5 rows x 21 columns]"
            ],
            "text/html": [
              "\n",
              "  <div id=\"df-9e3fd0a2-5785-45cb-b0f3-a846291ed0d9\">\n",
              "    <div class=\"colab-df-container\">\n",
              "      <div>\n",
              "<style scoped>\n",
              "    .dataframe tbody tr th:only-of-type {\n",
              "        vertical-align: middle;\n",
              "    }\n",
              "\n",
              "    .dataframe tbody tr th {\n",
              "        vertical-align: top;\n",
              "    }\n",
              "\n",
              "    .dataframe thead th {\n",
              "        text-align: right;\n",
              "    }\n",
              "</style>\n",
              "<table border=\"1\" class=\"dataframe\">\n",
              "  <thead>\n",
              "    <tr style=\"text-align: right;\">\n",
              "      <th></th>\n",
              "      <th>ID</th>\n",
              "      <th>A1_Score</th>\n",
              "      <th>A2_Score</th>\n",
              "      <th>A3_Score</th>\n",
              "      <th>A4_Score</th>\n",
              "      <th>A5_Score</th>\n",
              "      <th>A6_Score</th>\n",
              "      <th>A7_Score</th>\n",
              "      <th>A8_Score</th>\n",
              "      <th>A9_Score</th>\n",
              "      <th>...</th>\n",
              "      <th>age</th>\n",
              "      <th>gender</th>\n",
              "      <th>ethnicity</th>\n",
              "      <th>jaundice</th>\n",
              "      <th>austim</th>\n",
              "      <th>contry_of_res</th>\n",
              "      <th>used_app_before</th>\n",
              "      <th>result</th>\n",
              "      <th>age_desc</th>\n",
              "      <th>relation</th>\n",
              "    </tr>\n",
              "  </thead>\n",
              "  <tbody>\n",
              "    <tr>\n",
              "      <th>0</th>\n",
              "      <td>1</td>\n",
              "      <td>1</td>\n",
              "      <td>1</td>\n",
              "      <td>0</td>\n",
              "      <td>0</td>\n",
              "      <td>1</td>\n",
              "      <td>1</td>\n",
              "      <td>0</td>\n",
              "      <td>0</td>\n",
              "      <td>1</td>\n",
              "      <td>...</td>\n",
              "      <td>15.599481</td>\n",
              "      <td>m</td>\n",
              "      <td>White-European</td>\n",
              "      <td>yes</td>\n",
              "      <td>no</td>\n",
              "      <td>India</td>\n",
              "      <td>no</td>\n",
              "      <td>12.399055</td>\n",
              "      <td>18 and more</td>\n",
              "      <td>Self</td>\n",
              "    </tr>\n",
              "    <tr>\n",
              "      <th>1</th>\n",
              "      <td>2</td>\n",
              "      <td>1</td>\n",
              "      <td>0</td>\n",
              "      <td>0</td>\n",
              "      <td>0</td>\n",
              "      <td>0</td>\n",
              "      <td>0</td>\n",
              "      <td>0</td>\n",
              "      <td>1</td>\n",
              "      <td>0</td>\n",
              "      <td>...</td>\n",
              "      <td>27.181099</td>\n",
              "      <td>m</td>\n",
              "      <td>Asian</td>\n",
              "      <td>no</td>\n",
              "      <td>no</td>\n",
              "      <td>Mexico</td>\n",
              "      <td>no</td>\n",
              "      <td>6.551598</td>\n",
              "      <td>18 and more</td>\n",
              "      <td>Self</td>\n",
              "    </tr>\n",
              "    <tr>\n",
              "      <th>2</th>\n",
              "      <td>3</td>\n",
              "      <td>1</td>\n",
              "      <td>1</td>\n",
              "      <td>1</td>\n",
              "      <td>0</td>\n",
              "      <td>1</td>\n",
              "      <td>1</td>\n",
              "      <td>0</td>\n",
              "      <td>1</td>\n",
              "      <td>1</td>\n",
              "      <td>...</td>\n",
              "      <td>31.643906</td>\n",
              "      <td>m</td>\n",
              "      <td>White-European</td>\n",
              "      <td>yes</td>\n",
              "      <td>no</td>\n",
              "      <td>Egypt</td>\n",
              "      <td>no</td>\n",
              "      <td>3.180663</td>\n",
              "      <td>18 and more</td>\n",
              "      <td>Self</td>\n",
              "    </tr>\n",
              "    <tr>\n",
              "      <th>3</th>\n",
              "      <td>4</td>\n",
              "      <td>0</td>\n",
              "      <td>0</td>\n",
              "      <td>0</td>\n",
              "      <td>0</td>\n",
              "      <td>0</td>\n",
              "      <td>0</td>\n",
              "      <td>0</td>\n",
              "      <td>0</td>\n",
              "      <td>0</td>\n",
              "      <td>...</td>\n",
              "      <td>25.369210</td>\n",
              "      <td>m</td>\n",
              "      <td>?</td>\n",
              "      <td>no</td>\n",
              "      <td>no</td>\n",
              "      <td>India</td>\n",
              "      <td>no</td>\n",
              "      <td>2.220766</td>\n",
              "      <td>18 and more</td>\n",
              "      <td>Self</td>\n",
              "    </tr>\n",
              "    <tr>\n",
              "      <th>4</th>\n",
              "      <td>5</td>\n",
              "      <td>0</td>\n",
              "      <td>0</td>\n",
              "      <td>0</td>\n",
              "      <td>1</td>\n",
              "      <td>0</td>\n",
              "      <td>0</td>\n",
              "      <td>0</td>\n",
              "      <td>0</td>\n",
              "      <td>0</td>\n",
              "      <td>...</td>\n",
              "      <td>9.078580</td>\n",
              "      <td>m</td>\n",
              "      <td>?</td>\n",
              "      <td>no</td>\n",
              "      <td>no</td>\n",
              "      <td>Italy</td>\n",
              "      <td>no</td>\n",
              "      <td>7.252028</td>\n",
              "      <td>18 and more</td>\n",
              "      <td>Self</td>\n",
              "    </tr>\n",
              "  </tbody>\n",
              "</table>\n",
              "<p>5 rows × 21 columns</p>\n",
              "</div>\n",
              "      <button class=\"colab-df-convert\" onclick=\"convertToInteractive('df-9e3fd0a2-5785-45cb-b0f3-a846291ed0d9')\"\n",
              "              title=\"Convert this dataframe to an interactive table.\"\n",
              "              style=\"display:none;\">\n",
              "        \n",
              "  <svg xmlns=\"http://www.w3.org/2000/svg\" height=\"24px\"viewBox=\"0 0 24 24\"\n",
              "       width=\"24px\">\n",
              "    <path d=\"M0 0h24v24H0V0z\" fill=\"none\"/>\n",
              "    <path d=\"M18.56 5.44l.94 2.06.94-2.06 2.06-.94-2.06-.94-.94-2.06-.94 2.06-2.06.94zm-11 1L8.5 8.5l.94-2.06 2.06-.94-2.06-.94L8.5 2.5l-.94 2.06-2.06.94zm10 10l.94 2.06.94-2.06 2.06-.94-2.06-.94-.94-2.06-.94 2.06-2.06.94z\"/><path d=\"M17.41 7.96l-1.37-1.37c-.4-.4-.92-.59-1.43-.59-.52 0-1.04.2-1.43.59L10.3 9.45l-7.72 7.72c-.78.78-.78 2.05 0 2.83L4 21.41c.39.39.9.59 1.41.59.51 0 1.02-.2 1.41-.59l7.78-7.78 2.81-2.81c.8-.78.8-2.07 0-2.86zM5.41 20L4 18.59l7.72-7.72 1.47 1.35L5.41 20z\"/>\n",
              "  </svg>\n",
              "      </button>\n",
              "      \n",
              "  <style>\n",
              "    .colab-df-container {\n",
              "      display:flex;\n",
              "      flex-wrap:wrap;\n",
              "      gap: 12px;\n",
              "    }\n",
              "\n",
              "    .colab-df-convert {\n",
              "      background-color: #E8F0FE;\n",
              "      border: none;\n",
              "      border-radius: 50%;\n",
              "      cursor: pointer;\n",
              "      display: none;\n",
              "      fill: #1967D2;\n",
              "      height: 32px;\n",
              "      padding: 0 0 0 0;\n",
              "      width: 32px;\n",
              "    }\n",
              "\n",
              "    .colab-df-convert:hover {\n",
              "      background-color: #E2EBFA;\n",
              "      box-shadow: 0px 1px 2px rgba(60, 64, 67, 0.3), 0px 1px 3px 1px rgba(60, 64, 67, 0.15);\n",
              "      fill: #174EA6;\n",
              "    }\n",
              "\n",
              "    [theme=dark] .colab-df-convert {\n",
              "      background-color: #3B4455;\n",
              "      fill: #D2E3FC;\n",
              "    }\n",
              "\n",
              "    [theme=dark] .colab-df-convert:hover {\n",
              "      background-color: #434B5C;\n",
              "      box-shadow: 0px 1px 3px 1px rgba(0, 0, 0, 0.15);\n",
              "      filter: drop-shadow(0px 1px 2px rgba(0, 0, 0, 0.3));\n",
              "      fill: #FFFFFF;\n",
              "    }\n",
              "  </style>\n",
              "\n",
              "      <script>\n",
              "        const buttonEl =\n",
              "          document.querySelector('#df-9e3fd0a2-5785-45cb-b0f3-a846291ed0d9 button.colab-df-convert');\n",
              "        buttonEl.style.display =\n",
              "          google.colab.kernel.accessAllowed ? 'block' : 'none';\n",
              "\n",
              "        async function convertToInteractive(key) {\n",
              "          const element = document.querySelector('#df-9e3fd0a2-5785-45cb-b0f3-a846291ed0d9');\n",
              "          const dataTable =\n",
              "            await google.colab.kernel.invokeFunction('convertToInteractive',\n",
              "                                                     [key], {});\n",
              "          if (!dataTable) return;\n",
              "\n",
              "          const docLinkHtml = 'Like what you see? Visit the ' +\n",
              "            '<a target=\"_blank\" href=https://colab.research.google.com/notebooks/data_table.ipynb>data table notebook</a>'\n",
              "            + ' to learn more about interactive tables.';\n",
              "          element.innerHTML = '';\n",
              "          dataTable['output_type'] = 'display_data';\n",
              "          await google.colab.output.renderOutput(dataTable, element);\n",
              "          const docLink = document.createElement('div');\n",
              "          docLink.innerHTML = docLinkHtml;\n",
              "          element.appendChild(docLink);\n",
              "        }\n",
              "      </script>\n",
              "    </div>\n",
              "  </div>\n",
              "  "
            ]
          },
          "metadata": {},
          "execution_count": 10
        }
      ]
    },
    {
      "cell_type": "markdown",
      "source": [
        "#**Displaying basic information** "
      ],
      "metadata": {
        "id": "W_EvRfhJYkSi"
      }
    },
    {
      "cell_type": "code",
      "source": [
        "df_train.shape"
      ],
      "metadata": {
        "colab": {
          "base_uri": "https://localhost:8080/"
        },
        "id": "c0Hf_4MRY0dE",
        "outputId": "943e8f8a-5e27-4207-85f0-f7429e428588"
      },
      "execution_count": null,
      "outputs": [
        {
          "output_type": "execute_result",
          "data": {
            "text/plain": [
              "(800, 22)"
            ]
          },
          "metadata": {},
          "execution_count": 11
        }
      ]
    },
    {
      "cell_type": "code",
      "source": [
        "df_train.info()"
      ],
      "metadata": {
        "colab": {
          "base_uri": "https://localhost:8080/"
        },
        "id": "Zid7wrClYk52",
        "outputId": "59c5b3ae-fe37-4b0c-e849-04cfdc47e042"
      },
      "execution_count": null,
      "outputs": [
        {
          "output_type": "stream",
          "name": "stdout",
          "text": [
            "<class 'pandas.core.frame.DataFrame'>\n",
            "RangeIndex: 800 entries, 0 to 799\n",
            "Data columns (total 22 columns):\n",
            " #   Column           Non-Null Count  Dtype  \n",
            "---  ------           --------------  -----  \n",
            " 0   ID               800 non-null    int64  \n",
            " 1   A1_Score         800 non-null    int64  \n",
            " 2   A2_Score         800 non-null    int64  \n",
            " 3   A3_Score         800 non-null    int64  \n",
            " 4   A4_Score         800 non-null    int64  \n",
            " 5   A5_Score         800 non-null    int64  \n",
            " 6   A6_Score         800 non-null    int64  \n",
            " 7   A7_Score         800 non-null    int64  \n",
            " 8   A8_Score         800 non-null    int64  \n",
            " 9   A9_Score         800 non-null    int64  \n",
            " 10  A10_Score        800 non-null    int64  \n",
            " 11  age              800 non-null    float64\n",
            " 12  gender           800 non-null    object \n",
            " 13  ethnicity        800 non-null    object \n",
            " 14  jaundice         800 non-null    object \n",
            " 15  austim           800 non-null    object \n",
            " 16  contry_of_res    800 non-null    object \n",
            " 17  used_app_before  800 non-null    object \n",
            " 18  result           800 non-null    float64\n",
            " 19  age_desc         800 non-null    object \n",
            " 20  relation         800 non-null    object \n",
            " 21  Class/ASD        800 non-null    int64  \n",
            "dtypes: float64(2), int64(12), object(8)\n",
            "memory usage: 137.6+ KB\n"
          ]
        }
      ]
    },
    {
      "cell_type": "code",
      "source": [
        "df_test.shape"
      ],
      "metadata": {
        "colab": {
          "base_uri": "https://localhost:8080/"
        },
        "id": "p6jPlxxdY8aO",
        "outputId": "fc5ba2ec-afbd-4747-a9a6-95ffc10a92f2"
      },
      "execution_count": null,
      "outputs": [
        {
          "output_type": "execute_result",
          "data": {
            "text/plain": [
              "(200, 21)"
            ]
          },
          "metadata": {},
          "execution_count": 13
        }
      ]
    },
    {
      "cell_type": "code",
      "source": [
        "df_test.info()"
      ],
      "metadata": {
        "colab": {
          "base_uri": "https://localhost:8080/"
        },
        "id": "mw8e6PPEZYxY",
        "outputId": "420b6050-e631-4072-e4bc-057132976e7a"
      },
      "execution_count": null,
      "outputs": [
        {
          "output_type": "stream",
          "name": "stdout",
          "text": [
            "<class 'pandas.core.frame.DataFrame'>\n",
            "RangeIndex: 200 entries, 0 to 199\n",
            "Data columns (total 21 columns):\n",
            " #   Column           Non-Null Count  Dtype  \n",
            "---  ------           --------------  -----  \n",
            " 0   ID               200 non-null    int64  \n",
            " 1   A1_Score         200 non-null    int64  \n",
            " 2   A2_Score         200 non-null    int64  \n",
            " 3   A3_Score         200 non-null    int64  \n",
            " 4   A4_Score         200 non-null    int64  \n",
            " 5   A5_Score         200 non-null    int64  \n",
            " 6   A6_Score         200 non-null    int64  \n",
            " 7   A7_Score         200 non-null    int64  \n",
            " 8   A8_Score         200 non-null    int64  \n",
            " 9   A9_Score         200 non-null    int64  \n",
            " 10  A10_Score        200 non-null    int64  \n",
            " 11  age              200 non-null    float64\n",
            " 12  gender           200 non-null    object \n",
            " 13  ethnicity        200 non-null    object \n",
            " 14  jaundice         200 non-null    object \n",
            " 15  austim           200 non-null    object \n",
            " 16  contry_of_res    200 non-null    object \n",
            " 17  used_app_before  200 non-null    object \n",
            " 18  result           200 non-null    float64\n",
            " 19  age_desc         200 non-null    object \n",
            " 20  relation         200 non-null    object \n",
            "dtypes: float64(2), int64(11), object(8)\n",
            "memory usage: 32.9+ KB\n"
          ]
        }
      ]
    },
    {
      "cell_type": "markdown",
      "source": [
        "#**Null check**"
      ],
      "metadata": {
        "id": "ie7KS5EHbDDx"
      }
    },
    {
      "cell_type": "code",
      "source": [
        "df_train.isna().sum()"
      ],
      "metadata": {
        "colab": {
          "base_uri": "https://localhost:8080/"
        },
        "id": "-CpNEEJvZZfM",
        "outputId": "6f7ac81a-6332-4070-9fa0-970fc6016fea"
      },
      "execution_count": null,
      "outputs": [
        {
          "output_type": "execute_result",
          "data": {
            "text/plain": [
              "ID                 0\n",
              "A1_Score           0\n",
              "A2_Score           0\n",
              "A3_Score           0\n",
              "A4_Score           0\n",
              "A5_Score           0\n",
              "A6_Score           0\n",
              "A7_Score           0\n",
              "A8_Score           0\n",
              "A9_Score           0\n",
              "A10_Score          0\n",
              "age                0\n",
              "gender             0\n",
              "ethnicity          0\n",
              "jaundice           0\n",
              "austim             0\n",
              "contry_of_res      0\n",
              "used_app_before    0\n",
              "result             0\n",
              "age_desc           0\n",
              "relation           0\n",
              "Class/ASD          0\n",
              "dtype: int64"
            ]
          },
          "metadata": {},
          "execution_count": 15
        }
      ]
    },
    {
      "cell_type": "code",
      "source": [
        "df_test.isna().sum()"
      ],
      "metadata": {
        "colab": {
          "base_uri": "https://localhost:8080/"
        },
        "id": "iPLLYBNbbGUu",
        "outputId": "4aa51bc9-27d5-40bd-be5d-e0d280daa732"
      },
      "execution_count": null,
      "outputs": [
        {
          "output_type": "execute_result",
          "data": {
            "text/plain": [
              "ID                 0\n",
              "A1_Score           0\n",
              "A2_Score           0\n",
              "A3_Score           0\n",
              "A4_Score           0\n",
              "A5_Score           0\n",
              "A6_Score           0\n",
              "A7_Score           0\n",
              "A8_Score           0\n",
              "A9_Score           0\n",
              "A10_Score          0\n",
              "age                0\n",
              "gender             0\n",
              "ethnicity          0\n",
              "jaundice           0\n",
              "austim             0\n",
              "contry_of_res      0\n",
              "used_app_before    0\n",
              "result             0\n",
              "age_desc           0\n",
              "relation           0\n",
              "dtype: int64"
            ]
          },
          "metadata": {},
          "execution_count": 16
        }
      ]
    },
    {
      "cell_type": "markdown",
      "source": [
        "# **Data preparation**"
      ],
      "metadata": {
        "id": "vJez9ss6bkmQ"
      }
    },
    {
      "cell_type": "code",
      "source": [
        "df_train['ethnicity'] = df_train['ethnicity'].replace(['?', 'Others'], 'others')"
      ],
      "metadata": {
        "id": "XREEgPlP30z9"
      },
      "execution_count": null,
      "outputs": []
    },
    {
      "cell_type": "code",
      "source": [
        "df_train.head()"
      ],
      "metadata": {
        "colab": {
          "base_uri": "https://localhost:8080/",
          "height": 366
        },
        "id": "nKZOYjb7443r",
        "outputId": "34102fdd-f86b-41f2-f2b6-a38888984664"
      },
      "execution_count": null,
      "outputs": [
        {
          "output_type": "execute_result",
          "data": {
            "text/plain": [
              "   ID  A1_Score  A2_Score  A3_Score  A4_Score  A5_Score  A6_Score  A7_Score  \\\n",
              "0   1         1         0         1         0         1         0         1   \n",
              "1   2         0         0         0         0         0         0         0   \n",
              "2   3         1         1         1         1         1         1         1   \n",
              "3   4         0         0         0         0         0         0         0   \n",
              "4   5         0         0         0         0         0         0         0   \n",
              "\n",
              "   A8_Score  A9_Score  ...  gender       ethnicity jaundice austim  \\\n",
              "0         0         1  ...       f          others       no     no   \n",
              "1         0         0  ...       m          others       no     no   \n",
              "2         1         1  ...       m  White-European       no    yes   \n",
              "3         0         0  ...       f          others       no     no   \n",
              "4         0         0  ...       m          others       no     no   \n",
              "\n",
              "   contry_of_res used_app_before     result     age_desc  relation Class/ASD  \n",
              "0        Austria              no   6.351166  18 and more      Self         0  \n",
              "1          India              no   2.255185  18 and more      Self         0  \n",
              "2  United States              no  14.851484  18 and more      Self         1  \n",
              "3  United States              no   2.276617  18 and more      Self         0  \n",
              "4   South Africa              no  -4.777286  18 and more      Self         0  \n",
              "\n",
              "[5 rows x 22 columns]"
            ],
            "text/html": [
              "\n",
              "  <div id=\"df-d828985b-c6be-4bb8-86a4-deccd93d514d\">\n",
              "    <div class=\"colab-df-container\">\n",
              "      <div>\n",
              "<style scoped>\n",
              "    .dataframe tbody tr th:only-of-type {\n",
              "        vertical-align: middle;\n",
              "    }\n",
              "\n",
              "    .dataframe tbody tr th {\n",
              "        vertical-align: top;\n",
              "    }\n",
              "\n",
              "    .dataframe thead th {\n",
              "        text-align: right;\n",
              "    }\n",
              "</style>\n",
              "<table border=\"1\" class=\"dataframe\">\n",
              "  <thead>\n",
              "    <tr style=\"text-align: right;\">\n",
              "      <th></th>\n",
              "      <th>ID</th>\n",
              "      <th>A1_Score</th>\n",
              "      <th>A2_Score</th>\n",
              "      <th>A3_Score</th>\n",
              "      <th>A4_Score</th>\n",
              "      <th>A5_Score</th>\n",
              "      <th>A6_Score</th>\n",
              "      <th>A7_Score</th>\n",
              "      <th>A8_Score</th>\n",
              "      <th>A9_Score</th>\n",
              "      <th>...</th>\n",
              "      <th>gender</th>\n",
              "      <th>ethnicity</th>\n",
              "      <th>jaundice</th>\n",
              "      <th>austim</th>\n",
              "      <th>contry_of_res</th>\n",
              "      <th>used_app_before</th>\n",
              "      <th>result</th>\n",
              "      <th>age_desc</th>\n",
              "      <th>relation</th>\n",
              "      <th>Class/ASD</th>\n",
              "    </tr>\n",
              "  </thead>\n",
              "  <tbody>\n",
              "    <tr>\n",
              "      <th>0</th>\n",
              "      <td>1</td>\n",
              "      <td>1</td>\n",
              "      <td>0</td>\n",
              "      <td>1</td>\n",
              "      <td>0</td>\n",
              "      <td>1</td>\n",
              "      <td>0</td>\n",
              "      <td>1</td>\n",
              "      <td>0</td>\n",
              "      <td>1</td>\n",
              "      <td>...</td>\n",
              "      <td>f</td>\n",
              "      <td>others</td>\n",
              "      <td>no</td>\n",
              "      <td>no</td>\n",
              "      <td>Austria</td>\n",
              "      <td>no</td>\n",
              "      <td>6.351166</td>\n",
              "      <td>18 and more</td>\n",
              "      <td>Self</td>\n",
              "      <td>0</td>\n",
              "    </tr>\n",
              "    <tr>\n",
              "      <th>1</th>\n",
              "      <td>2</td>\n",
              "      <td>0</td>\n",
              "      <td>0</td>\n",
              "      <td>0</td>\n",
              "      <td>0</td>\n",
              "      <td>0</td>\n",
              "      <td>0</td>\n",
              "      <td>0</td>\n",
              "      <td>0</td>\n",
              "      <td>0</td>\n",
              "      <td>...</td>\n",
              "      <td>m</td>\n",
              "      <td>others</td>\n",
              "      <td>no</td>\n",
              "      <td>no</td>\n",
              "      <td>India</td>\n",
              "      <td>no</td>\n",
              "      <td>2.255185</td>\n",
              "      <td>18 and more</td>\n",
              "      <td>Self</td>\n",
              "      <td>0</td>\n",
              "    </tr>\n",
              "    <tr>\n",
              "      <th>2</th>\n",
              "      <td>3</td>\n",
              "      <td>1</td>\n",
              "      <td>1</td>\n",
              "      <td>1</td>\n",
              "      <td>1</td>\n",
              "      <td>1</td>\n",
              "      <td>1</td>\n",
              "      <td>1</td>\n",
              "      <td>1</td>\n",
              "      <td>1</td>\n",
              "      <td>...</td>\n",
              "      <td>m</td>\n",
              "      <td>White-European</td>\n",
              "      <td>no</td>\n",
              "      <td>yes</td>\n",
              "      <td>United States</td>\n",
              "      <td>no</td>\n",
              "      <td>14.851484</td>\n",
              "      <td>18 and more</td>\n",
              "      <td>Self</td>\n",
              "      <td>1</td>\n",
              "    </tr>\n",
              "    <tr>\n",
              "      <th>3</th>\n",
              "      <td>4</td>\n",
              "      <td>0</td>\n",
              "      <td>0</td>\n",
              "      <td>0</td>\n",
              "      <td>0</td>\n",
              "      <td>0</td>\n",
              "      <td>0</td>\n",
              "      <td>0</td>\n",
              "      <td>0</td>\n",
              "      <td>0</td>\n",
              "      <td>...</td>\n",
              "      <td>f</td>\n",
              "      <td>others</td>\n",
              "      <td>no</td>\n",
              "      <td>no</td>\n",
              "      <td>United States</td>\n",
              "      <td>no</td>\n",
              "      <td>2.276617</td>\n",
              "      <td>18 and more</td>\n",
              "      <td>Self</td>\n",
              "      <td>0</td>\n",
              "    </tr>\n",
              "    <tr>\n",
              "      <th>4</th>\n",
              "      <td>5</td>\n",
              "      <td>0</td>\n",
              "      <td>0</td>\n",
              "      <td>0</td>\n",
              "      <td>0</td>\n",
              "      <td>0</td>\n",
              "      <td>0</td>\n",
              "      <td>0</td>\n",
              "      <td>0</td>\n",
              "      <td>0</td>\n",
              "      <td>...</td>\n",
              "      <td>m</td>\n",
              "      <td>others</td>\n",
              "      <td>no</td>\n",
              "      <td>no</td>\n",
              "      <td>South Africa</td>\n",
              "      <td>no</td>\n",
              "      <td>-4.777286</td>\n",
              "      <td>18 and more</td>\n",
              "      <td>Self</td>\n",
              "      <td>0</td>\n",
              "    </tr>\n",
              "  </tbody>\n",
              "</table>\n",
              "<p>5 rows × 22 columns</p>\n",
              "</div>\n",
              "      <button class=\"colab-df-convert\" onclick=\"convertToInteractive('df-d828985b-c6be-4bb8-86a4-deccd93d514d')\"\n",
              "              title=\"Convert this dataframe to an interactive table.\"\n",
              "              style=\"display:none;\">\n",
              "        \n",
              "  <svg xmlns=\"http://www.w3.org/2000/svg\" height=\"24px\"viewBox=\"0 0 24 24\"\n",
              "       width=\"24px\">\n",
              "    <path d=\"M0 0h24v24H0V0z\" fill=\"none\"/>\n",
              "    <path d=\"M18.56 5.44l.94 2.06.94-2.06 2.06-.94-2.06-.94-.94-2.06-.94 2.06-2.06.94zm-11 1L8.5 8.5l.94-2.06 2.06-.94-2.06-.94L8.5 2.5l-.94 2.06-2.06.94zm10 10l.94 2.06.94-2.06 2.06-.94-2.06-.94-.94-2.06-.94 2.06-2.06.94z\"/><path d=\"M17.41 7.96l-1.37-1.37c-.4-.4-.92-.59-1.43-.59-.52 0-1.04.2-1.43.59L10.3 9.45l-7.72 7.72c-.78.78-.78 2.05 0 2.83L4 21.41c.39.39.9.59 1.41.59.51 0 1.02-.2 1.41-.59l7.78-7.78 2.81-2.81c.8-.78.8-2.07 0-2.86zM5.41 20L4 18.59l7.72-7.72 1.47 1.35L5.41 20z\"/>\n",
              "  </svg>\n",
              "      </button>\n",
              "      \n",
              "  <style>\n",
              "    .colab-df-container {\n",
              "      display:flex;\n",
              "      flex-wrap:wrap;\n",
              "      gap: 12px;\n",
              "    }\n",
              "\n",
              "    .colab-df-convert {\n",
              "      background-color: #E8F0FE;\n",
              "      border: none;\n",
              "      border-radius: 50%;\n",
              "      cursor: pointer;\n",
              "      display: none;\n",
              "      fill: #1967D2;\n",
              "      height: 32px;\n",
              "      padding: 0 0 0 0;\n",
              "      width: 32px;\n",
              "    }\n",
              "\n",
              "    .colab-df-convert:hover {\n",
              "      background-color: #E2EBFA;\n",
              "      box-shadow: 0px 1px 2px rgba(60, 64, 67, 0.3), 0px 1px 3px 1px rgba(60, 64, 67, 0.15);\n",
              "      fill: #174EA6;\n",
              "    }\n",
              "\n",
              "    [theme=dark] .colab-df-convert {\n",
              "      background-color: #3B4455;\n",
              "      fill: #D2E3FC;\n",
              "    }\n",
              "\n",
              "    [theme=dark] .colab-df-convert:hover {\n",
              "      background-color: #434B5C;\n",
              "      box-shadow: 0px 1px 3px 1px rgba(0, 0, 0, 0.15);\n",
              "      filter: drop-shadow(0px 1px 2px rgba(0, 0, 0, 0.3));\n",
              "      fill: #FFFFFF;\n",
              "    }\n",
              "  </style>\n",
              "\n",
              "      <script>\n",
              "        const buttonEl =\n",
              "          document.querySelector('#df-d828985b-c6be-4bb8-86a4-deccd93d514d button.colab-df-convert');\n",
              "        buttonEl.style.display =\n",
              "          google.colab.kernel.accessAllowed ? 'block' : 'none';\n",
              "\n",
              "        async function convertToInteractive(key) {\n",
              "          const element = document.querySelector('#df-d828985b-c6be-4bb8-86a4-deccd93d514d');\n",
              "          const dataTable =\n",
              "            await google.colab.kernel.invokeFunction('convertToInteractive',\n",
              "                                                     [key], {});\n",
              "          if (!dataTable) return;\n",
              "\n",
              "          const docLinkHtml = 'Like what you see? Visit the ' +\n",
              "            '<a target=\"_blank\" href=https://colab.research.google.com/notebooks/data_table.ipynb>data table notebook</a>'\n",
              "            + ' to learn more about interactive tables.';\n",
              "          element.innerHTML = '';\n",
              "          dataTable['output_type'] = 'display_data';\n",
              "          await google.colab.output.renderOutput(dataTable, element);\n",
              "          const docLink = document.createElement('div');\n",
              "          docLink.innerHTML = docLinkHtml;\n",
              "          element.appendChild(docLink);\n",
              "        }\n",
              "      </script>\n",
              "    </div>\n",
              "  </div>\n",
              "  "
            ]
          },
          "metadata": {},
          "execution_count": 18
        }
      ]
    },
    {
      "cell_type": "markdown",
      "source": [
        "#**Checking the characteristic values ​​**"
      ],
      "metadata": {
        "id": "JFqtJTo2bkCP"
      }
    },
    {
      "cell_type": "code",
      "source": [
        "df_train.describe()"
      ],
      "metadata": {
        "colab": {
          "base_uri": "https://localhost:8080/",
          "height": 300
        },
        "id": "FFXmOrTHchBk",
        "outputId": "71584019-1f4a-4c45-f0ec-1fbc1fab264d"
      },
      "execution_count": null,
      "outputs": [
        {
          "output_type": "execute_result",
          "data": {
            "text/plain": [
              "             ID    A1_Score    A2_Score    A3_Score   A4_Score    A5_Score  \\\n",
              "count  800.0000  800.000000  800.000000  800.000000  800.00000  800.000000   \n",
              "mean   400.5000    0.560000    0.530000    0.450000    0.41500    0.395000   \n",
              "std    231.0844    0.496697    0.499411    0.497805    0.49303    0.489157   \n",
              "min      1.0000    0.000000    0.000000    0.000000    0.00000    0.000000   \n",
              "25%    200.7500    0.000000    0.000000    0.000000    0.00000    0.000000   \n",
              "50%    400.5000    1.000000    1.000000    0.000000    0.00000    0.000000   \n",
              "75%    600.2500    1.000000    1.000000    1.000000    1.00000    1.000000   \n",
              "max    800.0000    1.000000    1.000000    1.000000    1.00000    1.000000   \n",
              "\n",
              "         A6_Score    A7_Score    A8_Score    A9_Score   A10_Score         age  \\\n",
              "count  800.000000  800.000000  800.000000  800.000000  800.000000  800.000000   \n",
              "mean     0.303750    0.397500    0.508750    0.495000    0.617500   28.452118   \n",
              "std      0.460164    0.489687    0.500236    0.500288    0.486302   16.310966   \n",
              "min      0.000000    0.000000    0.000000    0.000000    0.000000    2.718550   \n",
              "25%      0.000000    0.000000    0.000000    0.000000    0.000000   17.198153   \n",
              "50%      0.000000    0.000000    1.000000    0.000000    1.000000   24.848350   \n",
              "75%      1.000000    1.000000    1.000000    1.000000    1.000000   35.865429   \n",
              "max      1.000000    1.000000    1.000000    1.000000    1.000000   89.461718   \n",
              "\n",
              "           result   Class/ASD  \n",
              "count  800.000000  800.000000  \n",
              "mean     8.537303    0.201250  \n",
              "std      4.807676    0.401185  \n",
              "min     -6.137748    0.000000  \n",
              "25%      5.306575    0.000000  \n",
              "50%      9.605299    0.000000  \n",
              "75%     12.514484    0.000000  \n",
              "max     15.853126    1.000000  "
            ],
            "text/html": [
              "\n",
              "  <div id=\"df-98e97bf6-4f5c-499b-a02f-43dbe629d69e\">\n",
              "    <div class=\"colab-df-container\">\n",
              "      <div>\n",
              "<style scoped>\n",
              "    .dataframe tbody tr th:only-of-type {\n",
              "        vertical-align: middle;\n",
              "    }\n",
              "\n",
              "    .dataframe tbody tr th {\n",
              "        vertical-align: top;\n",
              "    }\n",
              "\n",
              "    .dataframe thead th {\n",
              "        text-align: right;\n",
              "    }\n",
              "</style>\n",
              "<table border=\"1\" class=\"dataframe\">\n",
              "  <thead>\n",
              "    <tr style=\"text-align: right;\">\n",
              "      <th></th>\n",
              "      <th>ID</th>\n",
              "      <th>A1_Score</th>\n",
              "      <th>A2_Score</th>\n",
              "      <th>A3_Score</th>\n",
              "      <th>A4_Score</th>\n",
              "      <th>A5_Score</th>\n",
              "      <th>A6_Score</th>\n",
              "      <th>A7_Score</th>\n",
              "      <th>A8_Score</th>\n",
              "      <th>A9_Score</th>\n",
              "      <th>A10_Score</th>\n",
              "      <th>age</th>\n",
              "      <th>result</th>\n",
              "      <th>Class/ASD</th>\n",
              "    </tr>\n",
              "  </thead>\n",
              "  <tbody>\n",
              "    <tr>\n",
              "      <th>count</th>\n",
              "      <td>800.0000</td>\n",
              "      <td>800.000000</td>\n",
              "      <td>800.000000</td>\n",
              "      <td>800.000000</td>\n",
              "      <td>800.00000</td>\n",
              "      <td>800.000000</td>\n",
              "      <td>800.000000</td>\n",
              "      <td>800.000000</td>\n",
              "      <td>800.000000</td>\n",
              "      <td>800.000000</td>\n",
              "      <td>800.000000</td>\n",
              "      <td>800.000000</td>\n",
              "      <td>800.000000</td>\n",
              "      <td>800.000000</td>\n",
              "    </tr>\n",
              "    <tr>\n",
              "      <th>mean</th>\n",
              "      <td>400.5000</td>\n",
              "      <td>0.560000</td>\n",
              "      <td>0.530000</td>\n",
              "      <td>0.450000</td>\n",
              "      <td>0.41500</td>\n",
              "      <td>0.395000</td>\n",
              "      <td>0.303750</td>\n",
              "      <td>0.397500</td>\n",
              "      <td>0.508750</td>\n",
              "      <td>0.495000</td>\n",
              "      <td>0.617500</td>\n",
              "      <td>28.452118</td>\n",
              "      <td>8.537303</td>\n",
              "      <td>0.201250</td>\n",
              "    </tr>\n",
              "    <tr>\n",
              "      <th>std</th>\n",
              "      <td>231.0844</td>\n",
              "      <td>0.496697</td>\n",
              "      <td>0.499411</td>\n",
              "      <td>0.497805</td>\n",
              "      <td>0.49303</td>\n",
              "      <td>0.489157</td>\n",
              "      <td>0.460164</td>\n",
              "      <td>0.489687</td>\n",
              "      <td>0.500236</td>\n",
              "      <td>0.500288</td>\n",
              "      <td>0.486302</td>\n",
              "      <td>16.310966</td>\n",
              "      <td>4.807676</td>\n",
              "      <td>0.401185</td>\n",
              "    </tr>\n",
              "    <tr>\n",
              "      <th>min</th>\n",
              "      <td>1.0000</td>\n",
              "      <td>0.000000</td>\n",
              "      <td>0.000000</td>\n",
              "      <td>0.000000</td>\n",
              "      <td>0.00000</td>\n",
              "      <td>0.000000</td>\n",
              "      <td>0.000000</td>\n",
              "      <td>0.000000</td>\n",
              "      <td>0.000000</td>\n",
              "      <td>0.000000</td>\n",
              "      <td>0.000000</td>\n",
              "      <td>2.718550</td>\n",
              "      <td>-6.137748</td>\n",
              "      <td>0.000000</td>\n",
              "    </tr>\n",
              "    <tr>\n",
              "      <th>25%</th>\n",
              "      <td>200.7500</td>\n",
              "      <td>0.000000</td>\n",
              "      <td>0.000000</td>\n",
              "      <td>0.000000</td>\n",
              "      <td>0.00000</td>\n",
              "      <td>0.000000</td>\n",
              "      <td>0.000000</td>\n",
              "      <td>0.000000</td>\n",
              "      <td>0.000000</td>\n",
              "      <td>0.000000</td>\n",
              "      <td>0.000000</td>\n",
              "      <td>17.198153</td>\n",
              "      <td>5.306575</td>\n",
              "      <td>0.000000</td>\n",
              "    </tr>\n",
              "    <tr>\n",
              "      <th>50%</th>\n",
              "      <td>400.5000</td>\n",
              "      <td>1.000000</td>\n",
              "      <td>1.000000</td>\n",
              "      <td>0.000000</td>\n",
              "      <td>0.00000</td>\n",
              "      <td>0.000000</td>\n",
              "      <td>0.000000</td>\n",
              "      <td>0.000000</td>\n",
              "      <td>1.000000</td>\n",
              "      <td>0.000000</td>\n",
              "      <td>1.000000</td>\n",
              "      <td>24.848350</td>\n",
              "      <td>9.605299</td>\n",
              "      <td>0.000000</td>\n",
              "    </tr>\n",
              "    <tr>\n",
              "      <th>75%</th>\n",
              "      <td>600.2500</td>\n",
              "      <td>1.000000</td>\n",
              "      <td>1.000000</td>\n",
              "      <td>1.000000</td>\n",
              "      <td>1.00000</td>\n",
              "      <td>1.000000</td>\n",
              "      <td>1.000000</td>\n",
              "      <td>1.000000</td>\n",
              "      <td>1.000000</td>\n",
              "      <td>1.000000</td>\n",
              "      <td>1.000000</td>\n",
              "      <td>35.865429</td>\n",
              "      <td>12.514484</td>\n",
              "      <td>0.000000</td>\n",
              "    </tr>\n",
              "    <tr>\n",
              "      <th>max</th>\n",
              "      <td>800.0000</td>\n",
              "      <td>1.000000</td>\n",
              "      <td>1.000000</td>\n",
              "      <td>1.000000</td>\n",
              "      <td>1.00000</td>\n",
              "      <td>1.000000</td>\n",
              "      <td>1.000000</td>\n",
              "      <td>1.000000</td>\n",
              "      <td>1.000000</td>\n",
              "      <td>1.000000</td>\n",
              "      <td>1.000000</td>\n",
              "      <td>89.461718</td>\n",
              "      <td>15.853126</td>\n",
              "      <td>1.000000</td>\n",
              "    </tr>\n",
              "  </tbody>\n",
              "</table>\n",
              "</div>\n",
              "      <button class=\"colab-df-convert\" onclick=\"convertToInteractive('df-98e97bf6-4f5c-499b-a02f-43dbe629d69e')\"\n",
              "              title=\"Convert this dataframe to an interactive table.\"\n",
              "              style=\"display:none;\">\n",
              "        \n",
              "  <svg xmlns=\"http://www.w3.org/2000/svg\" height=\"24px\"viewBox=\"0 0 24 24\"\n",
              "       width=\"24px\">\n",
              "    <path d=\"M0 0h24v24H0V0z\" fill=\"none\"/>\n",
              "    <path d=\"M18.56 5.44l.94 2.06.94-2.06 2.06-.94-2.06-.94-.94-2.06-.94 2.06-2.06.94zm-11 1L8.5 8.5l.94-2.06 2.06-.94-2.06-.94L8.5 2.5l-.94 2.06-2.06.94zm10 10l.94 2.06.94-2.06 2.06-.94-2.06-.94-.94-2.06-.94 2.06-2.06.94z\"/><path d=\"M17.41 7.96l-1.37-1.37c-.4-.4-.92-.59-1.43-.59-.52 0-1.04.2-1.43.59L10.3 9.45l-7.72 7.72c-.78.78-.78 2.05 0 2.83L4 21.41c.39.39.9.59 1.41.59.51 0 1.02-.2 1.41-.59l7.78-7.78 2.81-2.81c.8-.78.8-2.07 0-2.86zM5.41 20L4 18.59l7.72-7.72 1.47 1.35L5.41 20z\"/>\n",
              "  </svg>\n",
              "      </button>\n",
              "      \n",
              "  <style>\n",
              "    .colab-df-container {\n",
              "      display:flex;\n",
              "      flex-wrap:wrap;\n",
              "      gap: 12px;\n",
              "    }\n",
              "\n",
              "    .colab-df-convert {\n",
              "      background-color: #E8F0FE;\n",
              "      border: none;\n",
              "      border-radius: 50%;\n",
              "      cursor: pointer;\n",
              "      display: none;\n",
              "      fill: #1967D2;\n",
              "      height: 32px;\n",
              "      padding: 0 0 0 0;\n",
              "      width: 32px;\n",
              "    }\n",
              "\n",
              "    .colab-df-convert:hover {\n",
              "      background-color: #E2EBFA;\n",
              "      box-shadow: 0px 1px 2px rgba(60, 64, 67, 0.3), 0px 1px 3px 1px rgba(60, 64, 67, 0.15);\n",
              "      fill: #174EA6;\n",
              "    }\n",
              "\n",
              "    [theme=dark] .colab-df-convert {\n",
              "      background-color: #3B4455;\n",
              "      fill: #D2E3FC;\n",
              "    }\n",
              "\n",
              "    [theme=dark] .colab-df-convert:hover {\n",
              "      background-color: #434B5C;\n",
              "      box-shadow: 0px 1px 3px 1px rgba(0, 0, 0, 0.15);\n",
              "      filter: drop-shadow(0px 1px 2px rgba(0, 0, 0, 0.3));\n",
              "      fill: #FFFFFF;\n",
              "    }\n",
              "  </style>\n",
              "\n",
              "      <script>\n",
              "        const buttonEl =\n",
              "          document.querySelector('#df-98e97bf6-4f5c-499b-a02f-43dbe629d69e button.colab-df-convert');\n",
              "        buttonEl.style.display =\n",
              "          google.colab.kernel.accessAllowed ? 'block' : 'none';\n",
              "\n",
              "        async function convertToInteractive(key) {\n",
              "          const element = document.querySelector('#df-98e97bf6-4f5c-499b-a02f-43dbe629d69e');\n",
              "          const dataTable =\n",
              "            await google.colab.kernel.invokeFunction('convertToInteractive',\n",
              "                                                     [key], {});\n",
              "          if (!dataTable) return;\n",
              "\n",
              "          const docLinkHtml = 'Like what you see? Visit the ' +\n",
              "            '<a target=\"_blank\" href=https://colab.research.google.com/notebooks/data_table.ipynb>data table notebook</a>'\n",
              "            + ' to learn more about interactive tables.';\n",
              "          element.innerHTML = '';\n",
              "          dataTable['output_type'] = 'display_data';\n",
              "          await google.colab.output.renderOutput(dataTable, element);\n",
              "          const docLink = document.createElement('div');\n",
              "          docLink.innerHTML = docLinkHtml;\n",
              "          element.appendChild(docLink);\n",
              "        }\n",
              "      </script>\n",
              "    </div>\n",
              "  </div>\n",
              "  "
            ]
          },
          "metadata": {},
          "execution_count": 19
        }
      ]
    },
    {
      "cell_type": "code",
      "source": [
        "df_test.describe()"
      ],
      "metadata": {
        "colab": {
          "base_uri": "https://localhost:8080/",
          "height": 300
        },
        "id": "yQ43LWWCcmuo",
        "outputId": "46b8200b-a44e-4d4c-c402-48966f301d44"
      },
      "execution_count": null,
      "outputs": [
        {
          "output_type": "execute_result",
          "data": {
            "text/plain": [
              "               ID    A1_Score    A2_Score    A3_Score    A4_Score    A5_Score  \\\n",
              "count  200.000000  200.000000  200.000000  200.000000  200.000000  200.000000   \n",
              "mean   100.500000    0.575000    0.555000    0.475000    0.425000    0.450000   \n",
              "std     57.879185    0.495584    0.498213    0.500628    0.495584    0.498742   \n",
              "min      1.000000    0.000000    0.000000    0.000000    0.000000    0.000000   \n",
              "25%     50.750000    0.000000    0.000000    0.000000    0.000000    0.000000   \n",
              "50%    100.500000    1.000000    1.000000    0.000000    0.000000    0.000000   \n",
              "75%    150.250000    1.000000    1.000000    1.000000    1.000000    1.000000   \n",
              "max    200.000000    1.000000    1.000000    1.000000    1.000000    1.000000   \n",
              "\n",
              "         A6_Score    A7_Score   A8_Score    A9_Score   A10_Score         age  \\\n",
              "count  200.000000  200.000000  200.00000  200.000000  200.000000  200.000000   \n",
              "mean     0.340000    0.420000    0.54500    0.540000    0.640000   26.074568   \n",
              "std      0.474898    0.494797    0.49922    0.499648    0.481205   14.517024   \n",
              "min      0.000000    0.000000    0.00000    0.000000    0.000000    4.781474   \n",
              "25%      0.000000    0.000000    0.00000    0.000000    0.000000   16.152524   \n",
              "50%      0.000000    0.000000    1.00000    1.000000    1.000000   22.717970   \n",
              "75%      1.000000    1.000000    1.00000    1.000000    1.000000   32.004413   \n",
              "max      1.000000    1.000000    1.00000    1.000000    1.000000   77.110749   \n",
              "\n",
              "           result  \n",
              "count  200.000000  \n",
              "mean     8.671369  \n",
              "std      4.709994  \n",
              "min     -5.655613  \n",
              "25%      5.611695  \n",
              "50%      9.804165  \n",
              "75%     12.487160  \n",
              "max     15.731361  "
            ],
            "text/html": [
              "\n",
              "  <div id=\"df-6c573131-0114-4731-b8b8-81a4381edad4\">\n",
              "    <div class=\"colab-df-container\">\n",
              "      <div>\n",
              "<style scoped>\n",
              "    .dataframe tbody tr th:only-of-type {\n",
              "        vertical-align: middle;\n",
              "    }\n",
              "\n",
              "    .dataframe tbody tr th {\n",
              "        vertical-align: top;\n",
              "    }\n",
              "\n",
              "    .dataframe thead th {\n",
              "        text-align: right;\n",
              "    }\n",
              "</style>\n",
              "<table border=\"1\" class=\"dataframe\">\n",
              "  <thead>\n",
              "    <tr style=\"text-align: right;\">\n",
              "      <th></th>\n",
              "      <th>ID</th>\n",
              "      <th>A1_Score</th>\n",
              "      <th>A2_Score</th>\n",
              "      <th>A3_Score</th>\n",
              "      <th>A4_Score</th>\n",
              "      <th>A5_Score</th>\n",
              "      <th>A6_Score</th>\n",
              "      <th>A7_Score</th>\n",
              "      <th>A8_Score</th>\n",
              "      <th>A9_Score</th>\n",
              "      <th>A10_Score</th>\n",
              "      <th>age</th>\n",
              "      <th>result</th>\n",
              "    </tr>\n",
              "  </thead>\n",
              "  <tbody>\n",
              "    <tr>\n",
              "      <th>count</th>\n",
              "      <td>200.000000</td>\n",
              "      <td>200.000000</td>\n",
              "      <td>200.000000</td>\n",
              "      <td>200.000000</td>\n",
              "      <td>200.000000</td>\n",
              "      <td>200.000000</td>\n",
              "      <td>200.000000</td>\n",
              "      <td>200.000000</td>\n",
              "      <td>200.00000</td>\n",
              "      <td>200.000000</td>\n",
              "      <td>200.000000</td>\n",
              "      <td>200.000000</td>\n",
              "      <td>200.000000</td>\n",
              "    </tr>\n",
              "    <tr>\n",
              "      <th>mean</th>\n",
              "      <td>100.500000</td>\n",
              "      <td>0.575000</td>\n",
              "      <td>0.555000</td>\n",
              "      <td>0.475000</td>\n",
              "      <td>0.425000</td>\n",
              "      <td>0.450000</td>\n",
              "      <td>0.340000</td>\n",
              "      <td>0.420000</td>\n",
              "      <td>0.54500</td>\n",
              "      <td>0.540000</td>\n",
              "      <td>0.640000</td>\n",
              "      <td>26.074568</td>\n",
              "      <td>8.671369</td>\n",
              "    </tr>\n",
              "    <tr>\n",
              "      <th>std</th>\n",
              "      <td>57.879185</td>\n",
              "      <td>0.495584</td>\n",
              "      <td>0.498213</td>\n",
              "      <td>0.500628</td>\n",
              "      <td>0.495584</td>\n",
              "      <td>0.498742</td>\n",
              "      <td>0.474898</td>\n",
              "      <td>0.494797</td>\n",
              "      <td>0.49922</td>\n",
              "      <td>0.499648</td>\n",
              "      <td>0.481205</td>\n",
              "      <td>14.517024</td>\n",
              "      <td>4.709994</td>\n",
              "    </tr>\n",
              "    <tr>\n",
              "      <th>min</th>\n",
              "      <td>1.000000</td>\n",
              "      <td>0.000000</td>\n",
              "      <td>0.000000</td>\n",
              "      <td>0.000000</td>\n",
              "      <td>0.000000</td>\n",
              "      <td>0.000000</td>\n",
              "      <td>0.000000</td>\n",
              "      <td>0.000000</td>\n",
              "      <td>0.00000</td>\n",
              "      <td>0.000000</td>\n",
              "      <td>0.000000</td>\n",
              "      <td>4.781474</td>\n",
              "      <td>-5.655613</td>\n",
              "    </tr>\n",
              "    <tr>\n",
              "      <th>25%</th>\n",
              "      <td>50.750000</td>\n",
              "      <td>0.000000</td>\n",
              "      <td>0.000000</td>\n",
              "      <td>0.000000</td>\n",
              "      <td>0.000000</td>\n",
              "      <td>0.000000</td>\n",
              "      <td>0.000000</td>\n",
              "      <td>0.000000</td>\n",
              "      <td>0.00000</td>\n",
              "      <td>0.000000</td>\n",
              "      <td>0.000000</td>\n",
              "      <td>16.152524</td>\n",
              "      <td>5.611695</td>\n",
              "    </tr>\n",
              "    <tr>\n",
              "      <th>50%</th>\n",
              "      <td>100.500000</td>\n",
              "      <td>1.000000</td>\n",
              "      <td>1.000000</td>\n",
              "      <td>0.000000</td>\n",
              "      <td>0.000000</td>\n",
              "      <td>0.000000</td>\n",
              "      <td>0.000000</td>\n",
              "      <td>0.000000</td>\n",
              "      <td>1.00000</td>\n",
              "      <td>1.000000</td>\n",
              "      <td>1.000000</td>\n",
              "      <td>22.717970</td>\n",
              "      <td>9.804165</td>\n",
              "    </tr>\n",
              "    <tr>\n",
              "      <th>75%</th>\n",
              "      <td>150.250000</td>\n",
              "      <td>1.000000</td>\n",
              "      <td>1.000000</td>\n",
              "      <td>1.000000</td>\n",
              "      <td>1.000000</td>\n",
              "      <td>1.000000</td>\n",
              "      <td>1.000000</td>\n",
              "      <td>1.000000</td>\n",
              "      <td>1.00000</td>\n",
              "      <td>1.000000</td>\n",
              "      <td>1.000000</td>\n",
              "      <td>32.004413</td>\n",
              "      <td>12.487160</td>\n",
              "    </tr>\n",
              "    <tr>\n",
              "      <th>max</th>\n",
              "      <td>200.000000</td>\n",
              "      <td>1.000000</td>\n",
              "      <td>1.000000</td>\n",
              "      <td>1.000000</td>\n",
              "      <td>1.000000</td>\n",
              "      <td>1.000000</td>\n",
              "      <td>1.000000</td>\n",
              "      <td>1.000000</td>\n",
              "      <td>1.00000</td>\n",
              "      <td>1.000000</td>\n",
              "      <td>1.000000</td>\n",
              "      <td>77.110749</td>\n",
              "      <td>15.731361</td>\n",
              "    </tr>\n",
              "  </tbody>\n",
              "</table>\n",
              "</div>\n",
              "      <button class=\"colab-df-convert\" onclick=\"convertToInteractive('df-6c573131-0114-4731-b8b8-81a4381edad4')\"\n",
              "              title=\"Convert this dataframe to an interactive table.\"\n",
              "              style=\"display:none;\">\n",
              "        \n",
              "  <svg xmlns=\"http://www.w3.org/2000/svg\" height=\"24px\"viewBox=\"0 0 24 24\"\n",
              "       width=\"24px\">\n",
              "    <path d=\"M0 0h24v24H0V0z\" fill=\"none\"/>\n",
              "    <path d=\"M18.56 5.44l.94 2.06.94-2.06 2.06-.94-2.06-.94-.94-2.06-.94 2.06-2.06.94zm-11 1L8.5 8.5l.94-2.06 2.06-.94-2.06-.94L8.5 2.5l-.94 2.06-2.06.94zm10 10l.94 2.06.94-2.06 2.06-.94-2.06-.94-.94-2.06-.94 2.06-2.06.94z\"/><path d=\"M17.41 7.96l-1.37-1.37c-.4-.4-.92-.59-1.43-.59-.52 0-1.04.2-1.43.59L10.3 9.45l-7.72 7.72c-.78.78-.78 2.05 0 2.83L4 21.41c.39.39.9.59 1.41.59.51 0 1.02-.2 1.41-.59l7.78-7.78 2.81-2.81c.8-.78.8-2.07 0-2.86zM5.41 20L4 18.59l7.72-7.72 1.47 1.35L5.41 20z\"/>\n",
              "  </svg>\n",
              "      </button>\n",
              "      \n",
              "  <style>\n",
              "    .colab-df-container {\n",
              "      display:flex;\n",
              "      flex-wrap:wrap;\n",
              "      gap: 12px;\n",
              "    }\n",
              "\n",
              "    .colab-df-convert {\n",
              "      background-color: #E8F0FE;\n",
              "      border: none;\n",
              "      border-radius: 50%;\n",
              "      cursor: pointer;\n",
              "      display: none;\n",
              "      fill: #1967D2;\n",
              "      height: 32px;\n",
              "      padding: 0 0 0 0;\n",
              "      width: 32px;\n",
              "    }\n",
              "\n",
              "    .colab-df-convert:hover {\n",
              "      background-color: #E2EBFA;\n",
              "      box-shadow: 0px 1px 2px rgba(60, 64, 67, 0.3), 0px 1px 3px 1px rgba(60, 64, 67, 0.15);\n",
              "      fill: #174EA6;\n",
              "    }\n",
              "\n",
              "    [theme=dark] .colab-df-convert {\n",
              "      background-color: #3B4455;\n",
              "      fill: #D2E3FC;\n",
              "    }\n",
              "\n",
              "    [theme=dark] .colab-df-convert:hover {\n",
              "      background-color: #434B5C;\n",
              "      box-shadow: 0px 1px 3px 1px rgba(0, 0, 0, 0.15);\n",
              "      filter: drop-shadow(0px 1px 2px rgba(0, 0, 0, 0.3));\n",
              "      fill: #FFFFFF;\n",
              "    }\n",
              "  </style>\n",
              "\n",
              "      <script>\n",
              "        const buttonEl =\n",
              "          document.querySelector('#df-6c573131-0114-4731-b8b8-81a4381edad4 button.colab-df-convert');\n",
              "        buttonEl.style.display =\n",
              "          google.colab.kernel.accessAllowed ? 'block' : 'none';\n",
              "\n",
              "        async function convertToInteractive(key) {\n",
              "          const element = document.querySelector('#df-6c573131-0114-4731-b8b8-81a4381edad4');\n",
              "          const dataTable =\n",
              "            await google.colab.kernel.invokeFunction('convertToInteractive',\n",
              "                                                     [key], {});\n",
              "          if (!dataTable) return;\n",
              "\n",
              "          const docLinkHtml = 'Like what you see? Visit the ' +\n",
              "            '<a target=\"_blank\" href=https://colab.research.google.com/notebooks/data_table.ipynb>data table notebook</a>'\n",
              "            + ' to learn more about interactive tables.';\n",
              "          element.innerHTML = '';\n",
              "          dataTable['output_type'] = 'display_data';\n",
              "          await google.colab.output.renderOutput(dataTable, element);\n",
              "          const docLink = document.createElement('div');\n",
              "          docLink.innerHTML = docLinkHtml;\n",
              "          element.appendChild(docLink);\n",
              "        }\n",
              "      </script>\n",
              "    </div>\n",
              "  </div>\n",
              "  "
            ]
          },
          "metadata": {},
          "execution_count": 20
        }
      ]
    },
    {
      "cell_type": "markdown",
      "source": [
        "# **Data visualization**"
      ],
      "metadata": {
        "id": "KM-kRP17boq0"
      }
    },
    {
      "cell_type": "code",
      "source": [
        "plt.figure(figsize=(12,8))\n",
        "\n",
        "sns.heatmap(df_train.corr(), annot= True, cmap='coolwarm')"
      ],
      "metadata": {
        "colab": {
          "base_uri": "https://localhost:8080/",
          "height": 547
        },
        "id": "chLd8iHbnvNq",
        "outputId": "e8effe55-6353-42d2-cb6e-d6a00e017e28"
      },
      "execution_count": null,
      "outputs": [
        {
          "output_type": "execute_result",
          "data": {
            "text/plain": [
              "<matplotlib.axes._subplots.AxesSubplot at 0x7f2b8a7b03d0>"
            ]
          },
          "metadata": {},
          "execution_count": 21
        },
        {
          "output_type": "display_data",
          "data": {
            "text/plain": [
              "<Figure size 864x576 with 2 Axes>"
            ],
            "image/png": "[encoded data removed]"
          },
          "metadata": {
            "needs_background": "light"
          }
        }
      ]
    },
    {
      "cell_type": "code",
      "source": [
        "df_train.hist(figsize=(10,10))\n",
        "plt.show()"
      ],
      "metadata": {
        "colab": {
          "base_uri": "https://localhost:8080/",
          "height": 607
        },
        "id": "j7GPJErNi9me",
        "outputId": "6244953a-41d5-4c85-f570-8cfb6ba6a87f"
      },
      "execution_count": null,
      "outputs": [
        {
          "output_type": "display_data",
          "data": {
            "text/plain": [
              "<Figure size 720x720 with 16 Axes>"
            ],
            "image/png": "[encoded data removed]"
          },
          "metadata": {
            "needs_background": "light"
          }
        }
      ]
    },
    {
      "cell_type": "code",
      "source": [
        "plt.pie(df_train['Class/ASD'].value_counts(), labels=['Negative','Positive'], autopct='%1.1f%%', shadow=True)\n",
        "        \n",
        "centre_circle = plt.Circle((0,0),0.75,facecolor='white')\n",
        "fig = plt.gcf()\n",
        "fig.gca().add_artist(centre_circle)\n",
        "\n",
        "\n",
        "\n",
        "plt.axis('equal')\n",
        "plt.show()  "
      ],
      "metadata": {
        "colab": {
          "base_uri": "https://localhost:8080/",
          "height": 248
        },
        "id": "lt_a-_A0jeYJ",
        "outputId": "ac2ed5ce-9fa8-41c5-99a7-016722413c5c"
      },
      "execution_count": null,
      "outputs": [
        {
          "output_type": "display_data",
          "data": {
            "text/plain": [
              "<Figure size 432x288 with 1 Axes>"
            ],
            "image/png": "[encoded data removed]"
          },
          "metadata": {}
        }
      ]
    },
    {
      "cell_type": "code",
      "source": [
        "df_train['gender'].value_counts()"
      ],
      "metadata": {
        "colab": {
          "base_uri": "https://localhost:8080/"
        },
        "id": "NBRQISPgkSTB",
        "outputId": "6b0b3f95-0979-49e8-9996-2eed2db622cb"
      },
      "execution_count": null,
      "outputs": [
        {
          "output_type": "execute_result",
          "data": {
            "text/plain": [
              "m    530\n",
              "f    270\n",
              "Name: gender, dtype: int64"
            ]
          },
          "metadata": {},
          "execution_count": 24
        }
      ]
    },
    {
      "cell_type": "code",
      "source": [
        "plt.pie(df_train['gender'].value_counts(), labels=['Male','Female'], autopct='%1.1f%%', shadow=True)\n",
        "        \n",
        "centre_circle = plt.Circle((0,0),0.75,facecolor='white')\n",
        "fig = plt.gcf()\n",
        "fig.gca().add_artist(centre_circle)\n",
        "\n",
        "\n",
        "\n",
        "plt.axis('equal')\n",
        "plt.show()  "
      ],
      "metadata": {
        "colab": {
          "base_uri": "https://localhost:8080/",
          "height": 248
        },
        "id": "i3gNvMovkU-V",
        "outputId": "7c367d7c-d2be-4d7d-fae8-632f458a771c"
      },
      "execution_count": null,
      "outputs": [
        {
          "output_type": "display_data",
          "data": {
            "text/plain": [
              "<Figure size 432x288 with 1 Axes>"
            ],
            "image/png": "[encoded data removed]"
          },
          "metadata": {}
        }
      ]
    },
    {
      "cell_type": "code",
      "source": [
        "df_sort =df_train.sort_values(by=['age'], ascending=False).reset_index(drop=True)"
      ],
      "metadata": {
        "id": "6ynlpaeDswlD"
      },
      "execution_count": null,
      "outputs": []
    },
    {
      "cell_type": "code",
      "source": [
        "fig, ax=plt.subplots(figsize=(12,10))\n",
        "ax.bar(df_sort['ethnicity'],df_sort['age'])\n",
        "ax.xaxis.set_tick_params(rotation=60)\n",
        "ax.set_xlabel('Ethnicity')\n",
        "ax.set_ylabel('Age')\n",
        "\n",
        "plt.show()"
      ],
      "metadata": {
        "colab": {
          "base_uri": "https://localhost:8080/",
          "height": 670
        },
        "id": "68xgaNduq31x",
        "outputId": "8a857fa7-fed4-4317-f5ee-70769b56f97b"
      },
      "execution_count": null,
      "outputs": [
        {
          "output_type": "display_data",
          "data": {
            "text/plain": [
              "<Figure size 864x720 with 1 Axes>"
            ],
            "image/png": "[encoded data removed]"
          },
          "metadata": {
            "needs_background": "light"
          }
        }
      ]
    },
    {
      "cell_type": "code",
      "source": [
        "plt.figure(figsize=(12,8))\n",
        "sns.scatterplot(x='age',y='result', data=df_train, hue='Class/ASD')"
      ],
      "metadata": {
        "colab": {
          "base_uri": "https://localhost:8080/",
          "height": 515
        },
        "id": "9y3CQ3L0mBL8",
        "outputId": "cbbfe856-c797-4ef4-809e-851db77bd769"
      },
      "execution_count": null,
      "outputs": [
        {
          "output_type": "execute_result",
          "data": {
            "text/plain": [
              "<matplotlib.axes._subplots.AxesSubplot at 0x7f2b85b794c0>"
            ]
          },
          "metadata": {},
          "execution_count": 28
        },
        {
          "output_type": "display_data",
          "data": {
            "text/plain": [
              "<Figure size 864x576 with 1 Axes>"
            ],
            "image/png": "[encoded data removed]"
          },
          "metadata": {
            "needs_background": "light"
          }
        }
      ]
    },
    {
      "cell_type": "code",
      "source": [
        "px.scatter(data_frame = df_train, x = 'age', y = 'result', symbol = 'Class/ASD', color = 'gender')"
      ],
      "metadata": {
        "colab": {
          "base_uri": "https://localhost:8080/",
          "height": 542
        },
        "id": "Y4Y_QEkOmj4T",
        "outputId": "fd7dd48a-b2b6-47df-81ce-bb65bf22fe49"
      },
      "execution_count": null,
      "outputs": [
        {
          "output_type": "display_data",
          "data": {
            "text/html": [
              "<html>\n",
              "<head><meta charset=\"utf-8\" /></head>\n",
              "<body>\n",
              "    <div>            <script src=\"https://cdnjs.cloudflare.com/ajax/libs/mathjax/2.7.5/MathJax.js?config=TeX-AMS-MML_SVG\"></script><script type=\"text/javascript\">if (window.MathJax) {MathJax.Hub.Config({SVG: {font: \"STIX-Web\"}});}</script>                <script type=\"text/javascript\">window.PlotlyConfig = {MathJaxConfig: 'local'};</script>\n",
              "        <script src=\"https://cdn.plot.ly/plotly-2.8.3.min.js\"></script>                <div id=\"7fe4c421-1d32-4bb6-b9df-9acff083b565\" class=\"plotly-graph-div\" style=\"height:525px; width:100%;\"></div>            <script type=\"text/javascript\">                                    window.PLOTLYENV=window.PLOTLYENV || {};                                    if (document.getElementById(\"7fe4c421-1d32-4bb6-b9df-9acff083b565\")) {                    Plotly.newPlot(                        \"7fe4c421-1d32-4bb6-b9df-9acff083b565\",                        [{\"hovertemplate\":\"gender=f<br>Class/ASD=0<br>age=%{x}<br>result=%{y}<extra></extra>\",\"legendgroup\":\"f, 0\",\"marker\":{\"color\":\"#636efa\",\"symbol\":\"circle\"},\"mode\":\"markers\",\"name\":\"f, 0\",\"orientation\":\"v\",\"showlegend\":true,\"x\":[38.17274623,23.56192742,28.42797076,24.16794517,21.49703144,21.0875973,31.27199413,28.63694334,14.4049851,15.36750123,74.87051104,44.32227347,41.22877555,48.35947059,42.6822189,16.33264533,44.34770684,37.9815074,9.639597151,49.43016999,30.305466,6.452045955,24.33664251,17.34545279,18.66274416,25.49521753,19.30128986,35.34617085,36.8705646,57.22761286,28.71756272,32.7159742,21.29537981,22.9647067,10.77208836,11.44370159,18.90120708,10.93211644,18.61967217,21.42575616,21.72715919,79.11276316,17.00184669,9.250182393,17.60132015,30.52964696,29.43107748,23.61101157,40.15327622,35.15143448,22.92301793,22.7972632,26.77019887,20.36385314,26.71069968,18.12870286,31.23464906,32.02254802,27.22174438,35.58987032,64.35089943,16.60975392,30.58672663,18.95833149,33.40131444,11.02996585,16.62630721,33.1239131,11.62090195,18.67656506,16.74875257,17.67182156,29.1651257,58.98876759,10.14564909,21.33560305,17.62704467,21.92325221,20.41913405,33.43731714,44.70447567,2.718549681,36.38095841,15.76861029,12.70996598,16.72068767,22.7388808,44.40798131,28.6467955,8.877153698,18.60082704,62.51967116,17.11642197,32.7505561,24.70085993,34.17130773,36.51274683,15.3828918,22.81567014,19.6959262,16.12613366,31.4116274,31.49715786,30.04804822,9.934758179,23.66181422,10.5485238,7.236577455,13.47756812,27.15479942,35.01381913,38.842756,11.28568722,55.90859776,20.65635301,48.48455363,23.33417884,57.81966304,16.31823544,17.07368649,17.90190823,49.85449815,4.453293896,44.55701882,24.22690967,14.59406798,79.11102195,10.96376289,46.5338522,14.05170617,18.85005173,38.85342418,21.13873543,26.5114679,9.371728763,9.461743245,16.88459486,7.854624417,61.70319846,19.03195529,25.84237087,20.25879589,61.86047338,18.08118691,9.349182522,17.66414239,20.73675976,50.11502465,17.19030748,5.269044901,31.50283992,25.41229068,31.42076838,38.18866647,21.10488484,19.03466746,21.97781716,26.09819158,18.75313537,18.56431781,37.25003512,42.56977257,29.07657866,72.30565349,35.03725343,16.02161533,36.0116088,31.19192903,17.29958098,75.43564613,42.60796168,29.70977829,15.22563142,45.45945414,24.55302222,34.17744454,11.34689875,6.456264828,28.19979886,20.38977157,48.40603338,10.51910462,19.05322788,29.88154326,45.54051313,22.75326366,26.16962711,14.40145742,19.60231247,13.92724223,62.38233701,18.5800141,60.22634698,26.08472808,71.76154045,17.39450764,18.61259602,34.285632,31.62956141,21.22270646,7.180865392,35.81670205,18.54214253,56.14547932,13.67026588,39.0584698,50.34787317,47.22094071,5.935374614,19.41308495,25.53116592,37.45588076,16.91458211,16.41430494,46.96611321],\"xaxis\":\"x\",\"y\":[6.351165589,2.276617372,7.984569116,14.92257038,13.83925532,14.44915861,4.778928938,-4.095810694,1.132228454,13.9179274,2.412387021,11.34651463,2.494710624,0.602478061,4.248682678,1.38893796,-5.264833431,12.39264502,12.0919013,1.832432865,14.12699192,13.02228493,7.165592846,12.03978479,13.35224032,7.690054277,9.442224552,8.582736511,6.119879167,12.62114505,10.83214554,9.949666789,5.226544905,10.74987544,14.42952608,8.70747756,8.903636398,11.40352627,15.0586304,6.574095516,4.93849264,10.48214316,5.593677238,8.063681694,10.37722107,-0.40955124,13.20763559,7.313792985,-1.510017603,6.670124809,14.815028,2.956212914,6.009260224,7.767985246,0.215238156,6.027546688,6.273377437,13.4107773,8.128317971,13.16941871,2.142375549,11.82469323,8.224135755,9.901815955,7.35290755,12.97698347,12.32388114,-0.529653758,12.10342824,6.393709414,11.1445207,9.075686403,5.721396749,6.805642518,11.50858802,15.20152825,12.89163258,-3.986487803,8.444329232,1.193744809,14.36605109,15.49142133,1.776522306,6.173906805,10.2395632,7.113614388,11.83533155,3.253126025,0.977524608,10.47780177,10.63100704,0.824995829,5.130733789,-1.364261409,1.70336195,6.8682903,7.395720772,9.149349596,-2.144411814,2.630202944,5.277666022,10.26899123,14.06786886,13.9400946,12.22096627,4.230723828,13.43765492,15.61120057,14.4143344,2.248390072,13.03769543,1.464521756,10.58271356,13.07322892,12.8225814,-0.597038416,13.89237444,7.976992878,3.921399128,10.60687469,1.849045006,13.06601861,12.69519511,13.82053705,11.91573801,8.343739257,11.28203304,7.056855821,-1.980498251,11.15317413,9.789874618,4.042704203,9.714586596,6.39752786,15.50328561,3.726032821,-1.036112526,5.29916802,1.807809353,6.876088896,6.348272863,-0.158827708,-0.115810891,8.603026349,13.84288025,11.96532373,3.259466884,12.64449976,11.6166126,11.02253797,13.4177302,13.65197552,3.841771626,13.20104503,3.493170021,15.0421909,7.499999222,14.36745869,8.386297069,4.011663795,11.46043071,5.179487187,4.535480385,4.91738574,5.133789286,12.90161225,1.306728394,0.972586323,-2.455000958,-1.110048275,6.833134921,6.104485107,6.212423351,12.97558236,0.979153413,8.340744731,8.285316542,10.96789298,0.015734221,5.029462434,5.368019985,12.04635804,4.52095114,4.282063761,7.943738161,10.22543107,12.02971299,2.159843086,6.323962627,13.33232294,-6.137748048,7.574626491,14.42320241,-3.236757077,-2.995092089,13.19584858,6.448345795,9.000475178,10.98904853,8.867225885,11.75033511,7.511899906,12.78924021,9.48573536,1.34330198,9.077157271,9.002587153,2.14721548,6.463854475,9.420536452,12.61065343,12.28508197,8.193629581,9.069342143,2.243303986],\"yaxis\":\"y\",\"type\":\"scatter\"},{\"hovertemplate\":\"gender=f<br>Class/ASD=1<br>age=%{x}<br>result=%{y}<extra></extra>\",\"legendgroup\":\"f, 1\",\"marker\":{\"color\":\"#636efa\",\"symbol\":\"diamond\"},\"mode\":\"markers\",\"name\":\"f, 1\",\"orientation\":\"v\",\"showlegend\":true,\"x\":[30.94822637,30.19192183,38.91852862,19.59795973,18.67233175,58.80301856,15.36829295,55.18577022,31.0439347,23.67187989,44.47931841,32.02799875,54.01025251,69.53755283,64.26785425,43.03139942,33.0851046,78.4114102,60.11388775,63.75184165,25.16771919,27.9525836,16.44823741,51.99204147,28.25526662,28.59112183,26.01056018,11.78889369,51.14108512,41.76876811,12.7216715,43.61909028,31.02058195,8.974870377,39.60440278,34.90860491,9.993664756,20.38461635,20.02444735,17.2221795,25.17867009,67.56326151,32.40489683,18.1256107,18.4608962,29.13006869,42.92178822,77.92832772,19.64849408,34.81261003,20.54817058,13.68340339,80.54408543,36.29654842,28.7304325],\"xaxis\":\"x\",\"y\":[15.11245422,10.76178392,13.06709845,12.46408999,14.31920749,12.42345504,14.80675203,14.672526,11.31237271,11.95581377,11.41505734,5.714541497,12.79872393,2.459004084,13.75647592,2.619198051,13.55381925,12.2612254,10.67318563,10.81680581,13.27716667,10.91647472,12.28613019,13.40890873,13.82166383,12.20335172,12.1602208,10.6728679,12.72533121,12.57710136,12.16701069,7.141715518,11.01045582,8.040649381,14.33974691,13.70871792,15.85312603,14.42085317,14.49671653,11.88257551,10.15226577,8.913192001,11.93798653,14.30112564,11.30299009,10.88589865,15.42586275,11.8132352,11.03702865,13.85525481,15.26276457,13.17272154,11.30855772,9.21443944,14.71826178],\"yaxis\":\"y\",\"type\":\"scatter\"},{\"hovertemplate\":\"gender=m<br>Class/ASD=0<br>age=%{x}<br>result=%{y}<extra></extra>\",\"legendgroup\":\"m, 0\",\"marker\":{\"color\":\"#EF553B\",\"symbol\":\"circle\"},\"mode\":\"markers\",\"name\":\"m, 0\",\"orientation\":\"v\",\"showlegend\":true,\"x\":[47.7505168,43.20579044,31.5279644,48.20345856,9.044225836,56.00816807,29.14538397,23.73476684,41.95517061,21.05567436,14.12910836,54.49860242,26.59264047,26.42977485,26.07964814,67.00819233,22.46984114,24.92914563,24.94160486,11.88213606,26.75778566,74.53450864,35.73551276,22.41443272,47.59591916,7.572449555,17.34629766,18.70249321,6.928743499,41.8240423,46.08667963,23.63397697,21.53439758,21.47758213,35.23448231,14.05691123,19.60257605,56.37756899,42.20076431,12.21365126,22.34485729,31.11714494,18.59023999,15.7725694,28.82966177,21.08492273,17.9907349,36.1508941,44.98575141,37.49006561,25.46374378,23.51256271,75.87860795,79.43573875,26.22543598,28.43579016,22.54305937,25.87254066,34.77715118,18.92173927,30.30271898,55.38307087,27.52149445,61.05491667,12.43543536,14.36078798,29.56542236,24.00159227,8.590131092,38.2750098,55.50160724,28.48610351,56.69259349,22.83145741,22.55875808,31.76573735,15.30512819,25.48592655,21.79737168,37.63916869,19.45372943,12.67189514,47.13644601,33.56867295,14.68676718,33.31960391,41.77114822,11.37157929,12.41417804,17.43356002,10.18611218,20.61060104,25.21899253,48.46602742,7.400941755,35.37824,11.57164446,20.13589017,25.21724716,25.11317821,44.03321902,22.03254812,11.55465614,22.48167202,6.595659499,22.89222939,15.16988391,18.23668524,11.64483287,22.61007244,37.47208779,36.59208009,49.23088493,25.41767815,44.25662071,12.37019153,56.275489,20.22833394,20.39525702,3.200405006,11.25354769,23.25282556,19.64183952,18.51677833,45.56403098,12.95360535,18.39961762,30.6212188,20.85800467,13.54385459,17.51279586,10.19925722,41.18155811,29.31507131,41.86901884,9.49035963,29.56595595,18.46464178,24.06422345,18.70333865,9.842100769,48.04533042,25.5199863,6.850374464,39.46433099,11.01803726,23.26393272,56.90725608,25.56170036,24.19631659,7.517694311,33.09403653,15.97932192,44.62930202,47.28414908,13.87869908,32.1796856,24.53654723,45.38899346,25.83802099,47.01468384,27.45717342,14.29238232,24.02909819,10.98851765,22.72803244,24.86970829,18.76126134,20.78185298,28.39067005,30.63973834,27.82495742,20.0870018,37.83304675,16.58490705,55.39815256,28.46688925,40.20206282,29.74228544,77.14998035,11.98270598,13.94850283,31.52628522,45.48285704,8.032264203,30.27582168,30.8909964,27.90567795,29.56381774,73.84664232,80.06084312,6.416667779,14.06724544,67.08256513,15.00728179,18.83376683,30.95187842,19.33002358,25.98000929,48.23148619,23.40156226,29.66295259,26.52508208,29.22822411,10.76541131,21.12146453,34.38943316,41.01862038,7.478593014,22.63688778,18.73386827,55.67711117,39.11532756,17.99893252,7.194318843,15.31540377,23.94054951,12.48451178,26.88639264,30.63036943,30.02051137,15.95953681,22.97023239,11.18448847,17.12047719,28.28058374,26.47174882,10.86326988,24.69208663,46.04625435,42.45594686,28.37453113,17.28835392,63.67142511,73.54313684,18.18412249,15.60912074,28.75039923,42.83702889,21.47042547,63.03365142,15.6887224,21.89502993,17.38992837,12.22717207,74.4873026,21.39827238,22.05433738,19.83379504,19.20233182,23.91592017,36.96484961,15.76362297,14.35985502,54.82331256,9.607498662,40.47517267,21.54214808,22.22854403,23.83173374,7.537294608,12.07320911,32.71661947,20.27305465,31.64735624,11.5911081,9.223094111,10.28557225,9.475388159,22.46868324,70.27272613,9.66120514,16.55227764,22.87739781,18.15463026,28.98754372,27.8952774,47.35158806,68.24418123,7.141795833,6.448355598,32.2210736,33.17703521,23.42467957,32.19741083,14.11879222,15.5296286,15.40719423,67.53953091,23.39376897,26.41261599,36.19097496,38.72822749,21.92180686,34.85866929,83.20499393,3.675809478,30.3808728,11.71452254,13.01648262,42.60614266,25.11571301,17.97616617,28.55987,21.91263836,32.59621389,30.13373625,49.88753797,9.625445899,17.20076883,7.556140247,44.24329146,13.8045184,20.33309294,41.41325793,16.55510429,46.3517963,35.36473654,14.73224411,27.87907156,17.34239812,9.18247881,22.88637651,19.19401106,27.77092169,15.70486866,30.37491799,23.4022478,38.18090035,11.43180739,22.04966586,9.491727729,38.4795483,31.98212654,38.63586727,19.47030287,39.67888018,36.80794163,15.31485648,25.59025705,20.98579624,26.98992813,23.58257805,19.83540583,26.25045841,26.07648742,34.39691226,51.44151783,50.70799652,27.4613437,7.879765491,8.868008756,89.4617183,63.19569018,23.95302556,15.17367647,29.69280413,35.29037801,25.6905268,24.10730125,26.67022121,9.425982663,37.4995127,5.998394557,13.24280667,54.6194512,40.90449593,10.66311783,14.52815002,15.74848109,15.7445733,23.58802855,41.23245966,26.81585105,42.07447814,21.26002764,34.52627969,12.27385824,6.114311996,43.75474077,52.98767737,25.63768384,17.86312683,77.21061696,13.31239595,52.93157119,22.86982009,5.079304267,19.21834181,5.460896307,7.626851845,21.15231636,55.47617565,55.80810612,66.33610623,24.82699261,21.99322109,8.621630962,25.44924858,38.10881065,19.64091688,19.28079232,27.96828169,8.152584678,18.16842217,22.36778962,22.99087975,12.16140634,6.610117153,28.63930296,51.12991816,12.53546452,21.54155611,19.41472831,25.14881266,10.78431763,14.71129763,27.463043,5.469183357,19.4593028,14.60238664,16.59718731,20.70300104,5.711480896],\"xaxis\":\"x\",\"y\":[2.255185063,-4.777285747,9.562117428,-1.755773831,10.73077145,0.781776624,9.798029972,6.495259913,5.094295638,13.68671927,5.823938278,2.404298689,7.055674924,-2.612312227,5.405741271,11.64728066,10.65086564,7.056010418,10.83267415,13.40935439,3.451321955,7.387992163,5.903541182,-0.148261674,12.51226424,12.98339056,7.164183931,11.9201882,9.061897977,10.2648603,1.541491013,7.96520027,8.631819037,13.3711129,2.029616116,14.77242375,13.55572805,0.371560299,-0.678711276,6.850230959,1.033495784,3.203784499,12.1646131,6.473020792,0.245983836,11.38194492,13.60654806,12.35902637,-0.057151605,15.00738876,11.90708225,8.345052237,6.699799313,7.813124784,10.42188349,6.925967083,1.688764118,0.517169315,12.81216575,13.45203198,13.01119002,12.58306318,13.11996956,12.24684397,8.911819963,10.63791778,13.3826979,3.613420009,11.51435907,12.66268847,12.35904508,-1.358063873,0.673311915,5.497158478,13.80828524,-3.458618832,6.660514178,-1.820722363,8.172459879,9.429157992,-1.388358341,14.85423631,4.955516488,0.525595832,7.52523947,0.753407864,2.888878019,13.94711624,14.42795919,13.4727669,14.80037094,11.83426736,12.7614068,12.62263831,6.99085409,15.80630834,2.3831913,12.75184177,12.73761891,7.325519625,-2.184596983,7.579863848,11.68484344,-1.032083175,12.44916871,4.671102225,12.71441136,12.377607,8.686413545,3.025562749,1.17501677,10.79657199,1.803715351,8.728888768,10.47355431,1.910658666,9.718513073,8.725959335,-1.173497998,13.53734075,7.679460077,6.05587093,10.56410364,0.634262669,11.6885199,5.335500456,8.430913825,12.25504239,10.73791452,4.446639864,9.339450598,15.81537006,6.081174732,5.073514385,10.74605909,9.598110281,8.679561386,8.611012237,1.365397722,14.26983576,8.036309436,3.778063702,4.92547896,7.449491005,9.723796591,5.788562015,8.694979098,9.631875189,7.486502316,7.07702244,13.65886362,8.762223146,10.52598148,5.123411173,1.629858322,15.06624733,13.59977891,8.070766063,5.87801077,3.667178721,1.911068475,5.649672294,6.083620198,11.53510911,13.54504524,9.4809345,-0.402372229,14.83302938,10.78972479,11.58009352,11.28964359,12.0319299,10.67905476,5.404071778,12.38672029,-3.360882931,5.021849396,5.332328796,14.75316332,0.031782265,6.582428912,10.96322357,5.312815171,8.007298569,15.09821126,3.849207123,10.64497468,6.398351211,8.097968358,2.662243205,1.073381053,11.64657472,8.898527131,5.968829462,15.47466467,10.58266678,9.91210388,12.93398522,11.28568308,-4.798750885,5.837175919,5.656274047,6.202339451,-0.472551206,11.77143144,5.309043561,10.75855368,7.154220307,11.03060162,7.516198746,2.414244171,2.596199877,3.173023214,12.44982094,9.308900469,7.34074157,2.524189689,14.64240538,8.265746739,2.787927423,10.72785261,12.8276236,7.474939746,1.802697899,13.37726915,-1.472011634,10.91146413,11.90284019,10.97456431,1.699606901,11.67310788,13.61012358,9.071150503,11.50200963,0.932218701,1.182437305,6.000668167,3.844837363,4.6382647,10.91020668,12.82952773,12.83805151,8.668280103,14.13969475,13.56912969,-3.794296205,9.290559215,4.161324834,13.40171484,4.641358008,-0.470191267,1.500264012,10.49564805,8.37857085,4.589912834,9.663801809,11.07138448,10.93241133,8.937270802,6.235046296,9.743034656,3.804861394,8.536049062,8.165392297,-2.437805433,13.14283995,11.51827885,13.97320295,13.91265372,4.130121142,-2.423631277,7.194415275,9.334455094,1.794819457,10.75734269,3.099036088,0.817251199,14.17839744,6.296743251,9.707497259,2.621030768,7.431215411,9.850352946,-0.568834864,10.18351988,11.84059796,8.684450217,3.087417209,5.335650702,-0.148231354,12.6494325,6.9674868,-2.14023608,9.656316547,14.52571396,4.848527397,1.660271358,7.219579521,2.224837693,9.254698416,10.01801907,5.225078782,14.32756916,9.553745821,13.46748836,9.933357583,2.938906589,2.312450651,9.924128349,11.90994177,12.80261663,14.19359739,10.81017236,4.579505376,10.08523637,13.15744704,2.373840076,8.339935053,1.963125177,10.38756355,7.599611608,8.310689206,4.052434947,7.590219477,5.876345668,2.13855189,4.020798413,13.50560873,7.482762519,9.811851028,2.974260174,12.64715015,13.04902627,-1.200986859,1.188396033,8.378230793,11.42983473,3.662434705,9.645804544,-4.078998943,8.532780266,11.6264151,-2.136702633,6.459333978,4.074496202,12.58985338,9.262897573,4.613629553,11.89952959,9.662796876,5.42684179,12.35746057,8.898756307,5.328841891,0.739576626,9.875047035,-0.721845004,5.437205864,6.479508048,5.255031997,8.932499518,3.363683062,10.52949867,11.32001323,8.695166389,5.96351116,1.44332348,9.808669961,13.07242153,13.82263834,11.21849351,7.485175162,14.17614325,6.085732453,3.000612166,4.031412122,10.81694334,8.033658081,14.6999182,-2.018534075,6.654389895,3.98379734,9.91249886,4.36589251,5.927466808,2.874814118,9.153839194,13.82536039,9.78837074,10.0460744,7.081079956,0.298784329,11.53415121,-1.852078985,10.53745775,8.253368344,10.88401108,8.207356871,2.663414396,4.782976073,11.59780169,14.80187799,10.55977046,14.20778791,14.29412423,12.29794438,6.331345625,7.571889727,6.423886983,13.00398255,11.57679717,9.008081628,13.10526324,9.222104712,14.73420841,13.08753946,4.846235633,8.687280907,9.403803633,9.777375063,9.592718747,12.99950115,13.56151764,2.653177126],\"yaxis\":\"y\",\"type\":\"scatter\"},{\"hovertemplate\":\"gender=m<br>Class/ASD=1<br>age=%{x}<br>result=%{y}<extra></extra>\",\"legendgroup\":\"m, 1\",\"marker\":{\"color\":\"#EF553B\",\"symbol\":\"diamond\"},\"mode\":\"markers\",\"name\":\"m, 1\",\"orientation\":\"v\",\"showlegend\":true,\"x\":[7.380373076,26.48449442,72.83887066,25.06830214,12.84159731,9.662208553,30.50058819,23.58363906,25.64110026,22.57022313,51.91718291,13.56674871,17.52426083,32.79866553,11.93662079,6.10646724,21.45465367,49.35705181,27.546446,20.47304942,31.61938048,17.09685884,19.14896164,21.87103921,48.16365726,44.41130457,15.75636267,42.25262023,42.0131665,40.85927648,78.83950028,25.27406281,34.70057401,20.48420825,8.956665913,48.02778547,31.57671741,53.94441156,49.71985448,28.07434531,5.187738565,68.27279898,81.19065627,50.87682942,45.10521079,27.44059391,26.66155175,31.67634998,15.90398716,35.77222492,22.00388798,17.73208862,57.75825327,13.19184031,37.99376008,7.568021297,23.98569622,20.02112756,15.76158667,35.40924682,41.63525107,8.040117974,23.33708022,58.13476325,16.82037772,55.14835076,34.19282462,29.23557677,15.95709256,7.891800873,29.29615958,27.52214264,10.08202142,46.0191767,34.52651661,27.85896282,26.46947121,31.11770521,22.24867057,17.9929065,31.71559237,29.44683856,32.18251331,47.00243479,42.86494246,53.10287672,25.90583049,30.38262724,33.57188838,83.97817937,32.19043706,43.22505047,15.79333644,11.34505134,27.49300033,14.9432738,28.00098747,22.60969087,22.71257796,51.00830269,9.552792229,13.31317283,16.01007311,28.27177187,23.51216218,11.2755472],\"xaxis\":\"x\",\"y\":[14.85148447,13.23789759,12.28690477,13.99540321,9.612488335,15.77071475,13.18953139,14.064242,15.07862345,15.16591026,9.540116212,12.28922387,3.971813502,12.92665973,13.33382675,13.83450996,14.64794451,6.0629001,11.80277865,10.63847005,7.966506636,12.52114427,3.127276479,6.440025349,13.74766675,14.78389686,14.13718887,11.62172079,11.68842284,12.9387501,12.47333876,11.81349022,12.52917039,12.35735983,14.61558231,10.88206081,10.25663131,12.80665646,13.2594684,12.41088634,11.29298486,9.981936494,11.22051432,13.55228335,12.70807271,14.1076305,11.12136819,0.470296539,13.39523558,11.80424168,12.87923526,15.24439887,13.85942487,9.750506895,12.06760489,14.93868993,9.691084717,14.90326203,13.33602189,10.70889357,11.95421563,10.57834798,5.136241195,11.70524176,15.13779784,14.37644916,13.29305786,14.64023296,13.875569,9.023381492,10.54796138,11.16259906,13.83578126,13.77926562,12.24531148,13.49796123,6.878216878,14.30184557,6.643671555,12.99330349,13.82110626,13.35915851,14.44076183,12.81878593,5.860513739,12.02855484,12.0052276,12.65568587,5.149518905,9.441577344,13.66368978,12.49023698,13.79265171,14.17380684,12.32955496,11.29593452,14.71071596,13.22825483,10.9158212,13.50784259,14.84364959,12.46206057,11.92184933,10.34611707,9.220903954,7.645018798],\"yaxis\":\"y\",\"type\":\"scatter\"}],                        {\"template\":{\"data\":{\"bar\":[{\"error_x\":{\"color\":\"#2a3f5f\"},\"error_y\":{\"color\":\"#2a3f5f\"},\"marker\":{\"line\":{\"color\":\"#E5ECF6\",\"width\":0.5},\"pattern\":{\"fillmode\":\"overlay\",\"size\":10,\"solidity\":0.2}},\"type\":\"bar\"}],\"barpolar\":[{\"marker\":{\"line\":{\"color\":\"#E5ECF6\",\"width\":0.5},\"pattern\":{\"fillmode\":\"overlay\",\"size\":10,\"solidity\":0.2}},\"type\":\"barpolar\"}],\"carpet\":[{\"aaxis\":{\"endlinecolor\":\"#2a3f5f\",\"gridcolor\":\"white\",\"linecolor\":\"white\",\"minorgridcolor\":\"white\",\"startlinecolor\":\"#2a3f5f\"},\"baxis\":{\"endlinecolor\":\"#2a3f5f\",\"gridcolor\":\"white\",\"linecolor\":\"white\",\"minorgridcolor\":\"white\",\"startlinecolor\":\"#2a3f5f\"},\"type\":\"carpet\"}],\"choropleth\":[{\"colorbar\":{\"outlinewidth\":0,\"ticks\":\"\"},\"type\":\"choropleth\"}],\"contour\":[{\"colorbar\":{\"outlinewidth\":0,\"ticks\":\"\"},\"colorscale\":[[0.0,\"#0d0887\"],[0.1111111111111111,\"#46039f\"],[0.2222222222222222,\"#7201a8\"],[0.3333333333333333,\"#9c179e\"],[0.4444444444444444,\"#bd3786\"],[0.5555555555555556,\"#d8576b\"],[0.6666666666666666,\"#ed7953\"],[0.7777777777777778,\"#fb9f3a\"],[0.8888888888888888,\"#fdca26\"],[1.0,\"#f0f921\"]],\"type\":\"contour\"}],\"contourcarpet\":[{\"colorbar\":{\"outlinewidth\":0,\"ticks\":\"\"},\"type\":\"contourcarpet\"}],\"heatmap\":[{\"colorbar\":{\"outlinewidth\":0,\"ticks\":\"\"},\"colorscale\":[[0.0,\"#0d0887\"],[0.1111111111111111,\"#46039f\"],[0.2222222222222222,\"#7201a8\"],[0.3333333333333333,\"#9c179e\"],[0.4444444444444444,\"#bd3786\"],[0.5555555555555556,\"#d8576b\"],[0.6666666666666666,\"#ed7953\"],[0.7777777777777778,\"#fb9f3a\"],[0.8888888888888888,\"#fdca26\"],[1.0,\"#f0f921\"]],\"type\":\"heatmap\"}],\"heatmapgl\":[{\"colorbar\":{\"outlinewidth\":0,\"ticks\":\"\"},\"colorscale\":[[0.0,\"#0d0887\"],[0.1111111111111111,\"#46039f\"],[0.2222222222222222,\"#7201a8\"],[0.3333333333333333,\"#9c179e\"],[0.4444444444444444,\"#bd3786\"],[0.5555555555555556,\"#d8576b\"],[0.6666666666666666,\"#ed7953\"],[0.7777777777777778,\"#fb9f3a\"],[0.8888888888888888,\"#fdca26\"],[1.0,\"#f0f921\"]],\"type\":\"heatmapgl\"}],\"histogram\":[{\"marker\":{\"pattern\":{\"fillmode\":\"overlay\",\"size\":10,\"solidity\":0.2}},\"type\":\"histogram\"}],\"histogram2d\":[{\"colorbar\":{\"outlinewidth\":0,\"ticks\":\"\"},\"colorscale\":[[0.0,\"#0d0887\"],[0.1111111111111111,\"#46039f\"],[0.2222222222222222,\"#7201a8\"],[0.3333333333333333,\"#9c179e\"],[0.4444444444444444,\"#bd3786\"],[0.5555555555555556,\"#d8576b\"],[0.6666666666666666,\"#ed7953\"],[0.7777777777777778,\"#fb9f3a\"],[0.8888888888888888,\"#fdca26\"],[1.0,\"#f0f921\"]],\"type\":\"histogram2d\"}],\"histogram2dcontour\":[{\"colorbar\":{\"outlinewidth\":0,\"ticks\":\"\"},\"colorscale\":[[0.0,\"#0d0887\"],[0.1111111111111111,\"#46039f\"],[0.2222222222222222,\"#7201a8\"],[0.3333333333333333,\"#9c179e\"],[0.4444444444444444,\"#bd3786\"],[0.5555555555555556,\"#d8576b\"],[0.6666666666666666,\"#ed7953\"],[0.7777777777777778,\"#fb9f3a\"],[0.8888888888888888,\"#fdca26\"],[1.0,\"#f0f921\"]],\"type\":\"histogram2dcontour\"}],\"mesh3d\":[{\"colorbar\":{\"outlinewidth\":0,\"ticks\":\"\"},\"type\":\"mesh3d\"}],\"parcoords\":[{\"line\":{\"colorbar\":{\"outlinewidth\":0,\"ticks\":\"\"}},\"type\":\"parcoords\"}],\"pie\":[{\"automargin\":true,\"type\":\"pie\"}],\"scatter\":[{\"marker\":{\"colorbar\":{\"outlinewidth\":0,\"ticks\":\"\"}},\"type\":\"scatter\"}],\"scatter3d\":[{\"line\":{\"colorbar\":{\"outlinewidth\":0,\"ticks\":\"\"}},\"marker\":{\"colorbar\":{\"outlinewidth\":0,\"ticks\":\"\"}},\"type\":\"scatter3d\"}],\"scattercarpet\":[{\"marker\":{\"colorbar\":{\"outlinewidth\":0,\"ticks\":\"\"}},\"type\":\"scattercarpet\"}],\"scattergeo\":[{\"marker\":{\"colorbar\":{\"outlinewidth\":0,\"ticks\":\"\"}},\"type\":\"scattergeo\"}],\"scattergl\":[{\"marker\":{\"colorbar\":{\"outlinewidth\":0,\"ticks\":\"\"}},\"type\":\"scattergl\"}],\"scattermapbox\":[{\"marker\":{\"colorbar\":{\"outlinewidth\":0,\"ticks\":\"\"}},\"type\":\"scattermapbox\"}],\"scatterpolar\":[{\"marker\":{\"colorbar\":{\"outlinewidth\":0,\"ticks\":\"\"}},\"type\":\"scatterpolar\"}],\"scatterpolargl\":[{\"marker\":{\"colorbar\":{\"outlinewidth\":0,\"ticks\":\"\"}},\"type\":\"scatterpolargl\"}],\"scatterternary\":[{\"marker\":{\"colorbar\":{\"outlinewidth\":0,\"ticks\":\"\"}},\"type\":\"scatterternary\"}],\"surface\":[{\"colorbar\":{\"outlinewidth\":0,\"ticks\":\"\"},\"colorscale\":[[0.0,\"#0d0887\"],[0.1111111111111111,\"#46039f\"],[0.2222222222222222,\"#7201a8\"],[0.3333333333333333,\"#9c179e\"],[0.4444444444444444,\"#bd3786\"],[0.5555555555555556,\"#d8576b\"],[0.6666666666666666,\"#ed7953\"],[0.7777777777777778,\"#fb9f3a\"],[0.8888888888888888,\"#fdca26\"],[1.0,\"#f0f921\"]],\"type\":\"surface\"}],\"table\":[{\"cells\":{\"fill\":{\"color\":\"#EBF0F8\"},\"line\":{\"color\":\"white\"}},\"header\":{\"fill\":{\"color\":\"#C8D4E3\"},\"line\":{\"color\":\"white\"}},\"type\":\"table\"}]},\"layout\":{\"annotationdefaults\":{\"arrowcolor\":\"#2a3f5f\",\"arrowhead\":0,\"arrowwidth\":1},\"autotypenumbers\":\"strict\",\"coloraxis\":{\"colorbar\":{\"outlinewidth\":0,\"ticks\":\"\"}},\"colorscale\":{\"diverging\":[[0,\"#8e0152\"],[0.1,\"#c51b7d\"],[0.2,\"#de77ae\"],[0.3,\"#f1b6da\"],[0.4,\"#fde0ef\"],[0.5,\"#f7f7f7\"],[0.6,\"#e6f5d0\"],[0.7,\"#b8e186\"],[0.8,\"#7fbc41\"],[0.9,\"#4d9221\"],[1,\"#276419\"]],\"sequential\":[[0.0,\"#0d0887\"],[0.1111111111111111,\"#46039f\"],[0.2222222222222222,\"#7201a8\"],[0.3333333333333333,\"#9c179e\"],[0.4444444444444444,\"#bd3786\"],[0.5555555555555556,\"#d8576b\"],[0.6666666666666666,\"#ed7953\"],[0.7777777777777778,\"#fb9f3a\"],[0.8888888888888888,\"#fdca26\"],[1.0,\"#f0f921\"]],\"sequentialminus\":[[0.0,\"#0d0887\"],[0.1111111111111111,\"#46039f\"],[0.2222222222222222,\"#7201a8\"],[0.3333333333333333,\"#9c179e\"],[0.4444444444444444,\"#bd3786\"],[0.5555555555555556,\"#d8576b\"],[0.6666666666666666,\"#ed7953\"],[0.7777777777777778,\"#fb9f3a\"],[0.8888888888888888,\"#fdca26\"],[1.0,\"#f0f921\"]]},\"colorway\":[\"#636efa\",\"#EF553B\",\"#00cc96\",\"#ab63fa\",\"#FFA15A\",\"#19d3f3\",\"#FF6692\",\"#B6E880\",\"#FF97FF\",\"#FECB52\"],\"font\":{\"color\":\"#2a3f5f\"},\"geo\":{\"bgcolor\":\"white\",\"lakecolor\":\"white\",\"landcolor\":\"#E5ECF6\",\"showlakes\":true,\"showland\":true,\"subunitcolor\":\"white\"},\"hoverlabel\":{\"align\":\"left\"},\"hovermode\":\"closest\",\"mapbox\":{\"style\":\"light\"},\"paper_bgcolor\":\"white\",\"plot_bgcolor\":\"#E5ECF6\",\"polar\":{\"angularaxis\":{\"gridcolor\":\"white\",\"linecolor\":\"white\",\"ticks\":\"\"},\"bgcolor\":\"#E5ECF6\",\"radialaxis\":{\"gridcolor\":\"white\",\"linecolor\":\"white\",\"ticks\":\"\"}},\"scene\":{\"xaxis\":{\"backgroundcolor\":\"#E5ECF6\",\"gridcolor\":\"white\",\"gridwidth\":2,\"linecolor\":\"white\",\"showbackground\":true,\"ticks\":\"\",\"zerolinecolor\":\"white\"},\"yaxis\":{\"backgroundcolor\":\"#E5ECF6\",\"gridcolor\":\"white\",\"gridwidth\":2,\"linecolor\":\"white\",\"showbackground\":true,\"ticks\":\"\",\"zerolinecolor\":\"white\"},\"zaxis\":{\"backgroundcolor\":\"#E5ECF6\",\"gridcolor\":\"white\",\"gridwidth\":2,\"linecolor\":\"white\",\"showbackground\":true,\"ticks\":\"\",\"zerolinecolor\":\"white\"}},\"shapedefaults\":{\"line\":{\"color\":\"#2a3f5f\"}},\"ternary\":{\"aaxis\":{\"gridcolor\":\"white\",\"linecolor\":\"white\",\"ticks\":\"\"},\"baxis\":{\"gridcolor\":\"white\",\"linecolor\":\"white\",\"ticks\":\"\"},\"bgcolor\":\"#E5ECF6\",\"caxis\":{\"gridcolor\":\"white\",\"linecolor\":\"white\",\"ticks\":\"\"}},\"title\":{\"x\":0.05},\"xaxis\":{\"automargin\":true,\"gridcolor\":\"white\",\"linecolor\":\"white\",\"ticks\":\"\",\"title\":{\"standoff\":15},\"zerolinecolor\":\"white\",\"zerolinewidth\":2},\"yaxis\":{\"automargin\":true,\"gridcolor\":\"white\",\"linecolor\":\"white\",\"ticks\":\"\",\"title\":{\"standoff\":15},\"zerolinecolor\":\"white\",\"zerolinewidth\":2}}},\"xaxis\":{\"anchor\":\"y\",\"domain\":[0.0,1.0],\"title\":{\"text\":\"age\"}},\"yaxis\":{\"anchor\":\"x\",\"domain\":[0.0,1.0],\"title\":{\"text\":\"result\"}},\"legend\":{\"title\":{\"text\":\"gender, Class/ASD\"},\"tracegroupgap\":0},\"margin\":{\"t\":60}},                        {\"responsive\": true}                    ).then(function(){\n",
              "                            \n",
              "var gd = document.getElementById('7fe4c421-1d32-4bb6-b9df-9acff083b565');\n",
              "var x = new MutationObserver(function (mutations, observer) {{\n",
              "        var display = window.getComputedStyle(gd).display;\n",
              "        if (!display || display === 'none') {{\n",
              "            console.log([gd, 'removed!']);\n",
              "            Plotly.purge(gd);\n",
              "            observer.disconnect();\n",
              "        }}\n",
              "}});\n",
              "\n",
              "// Listen for the removal of the full notebook cells\n",
              "var notebookContainer = gd.closest('#notebook-container');\n",
              "if (notebookContainer) {{\n",
              "    x.observe(notebookContainer, {childList: true});\n",
              "}}\n",
              "\n",
              "// Listen for the clearing of the current output cell\n",
              "var outputEl = gd.closest('.output');\n",
              "if (outputEl) {{\n",
              "    x.observe(outputEl, {childList: true});\n",
              "}}\n",
              "\n",
              "                        })                };                            </script>        </div>\n",
              "</body>\n",
              "</html>"
            ]
          },
          "metadata": {}
        }
      ]
    },
    {
      "cell_type": "code",
      "source": [
        "df_train['age'].hist()"
      ],
      "metadata": {
        "colab": {
          "base_uri": "https://localhost:8080/",
          "height": 283
        },
        "id": "04VlhkByeuXG",
        "outputId": "c4f516f5-7db4-420f-e92f-95622ff46c3e"
      },
      "execution_count": null,
      "outputs": [
        {
          "output_type": "execute_result",
          "data": {
            "text/plain": [
              "<matplotlib.axes._subplots.AxesSubplot at 0x7f2b84b52fd0>"
            ]
          },
          "metadata": {},
          "execution_count": 30
        },
        {
          "output_type": "display_data",
          "data": {
            "text/plain": [
              "<Figure size 432x288 with 1 Axes>"
            ],
            "image/png": "[encoded data removed]"
          },
          "metadata": {
            "needs_background": "light"
          }
        }
      ]
    },
    {
      "cell_type": "markdown",
      "source": [
        "# **Outlier analysis using boxplot**"
      ],
      "metadata": {
        "id": "x1J2nizTiUce"
      }
    },
    {
      "cell_type": "code",
      "source": [
        "fig, ax=plt.subplots(figsize=(8,10))\n",
        "\n",
        "box=ax.boxplot([df_train['result'].dropna(),\n",
        "                df_train['age'].dropna()],\n",
        "               patch_artist=True)\n",
        "\n",
        "ax.set_xticklabels(['result', 'age'])\n",
        "\n",
        "colors=['blue', 'lightgreen']\n",
        "\n",
        "for patch, color in zip(box['boxes'], colors):\n",
        "  patch.set_facecolor(color)\n",
        "\n",
        "\n",
        "plt.show()"
      ],
      "metadata": {
        "colab": {
          "base_uri": "https://localhost:8080/",
          "height": 592
        },
        "id": "ezbd5twQZGBA",
        "outputId": "7bdf7c84-d62b-464f-efdd-9dbb343ff017"
      },
      "execution_count": null,
      "outputs": [
        {
          "output_type": "display_data",
          "data": {
            "text/plain": [
              "<Figure size 576x720 with 1 Axes>"
            ],
            "image/png": "[encoded data removed]"
          },
          "metadata": {
            "needs_background": "light"
          }
        }
      ]
    },
    {
      "cell_type": "markdown",
      "source": [
        "# **Checking for outliers for variables**"
      ],
      "metadata": {
        "id": "BkefuJjnqHBc"
      }
    },
    {
      "cell_type": "code",
      "source": [
        "df_train.quantile([0.01,0.05, 0.25, 0.5, 0.75, 0.95, 0.99])"
      ],
      "metadata": {
        "colab": {
          "base_uri": "https://localhost:8080/",
          "height": 269
        },
        "id": "YUAyeVRF82co",
        "outputId": "412bd077-65ac-4d16-f4ab-fdeaf2a84a1d"
      },
      "execution_count": null,
      "outputs": [
        {
          "output_type": "execute_result",
          "data": {
            "text/plain": [
              "          ID  A1_Score  A2_Score  A3_Score  A4_Score  A5_Score  A6_Score  \\\n",
              "0.01    8.99       0.0       0.0       0.0       0.0       0.0       0.0   \n",
              "0.05   40.95       0.0       0.0       0.0       0.0       0.0       0.0   \n",
              "0.25  200.75       0.0       0.0       0.0       0.0       0.0       0.0   \n",
              "0.50  400.50       1.0       1.0       0.0       0.0       0.0       0.0   \n",
              "0.75  600.25       1.0       1.0       1.0       1.0       1.0       1.0   \n",
              "0.95  760.05       1.0       1.0       1.0       1.0       1.0       1.0   \n",
              "0.99  792.01       1.0       1.0       1.0       1.0       1.0       1.0   \n",
              "\n",
              "      A7_Score  A8_Score  A9_Score  A10_Score        age     result  Class/ASD  \n",
              "0.01       0.0       0.0       0.0        0.0   5.469100  -3.461976        0.0  \n",
              "0.05       0.0       0.0       0.0        0.0   8.146961  -0.475406        0.0  \n",
              "0.25       0.0       0.0       0.0        0.0  17.198153   5.306575        0.0  \n",
              "0.50       0.0       1.0       0.0        1.0  24.848350   9.605299        0.0  \n",
              "0.75       1.0       1.0       1.0        1.0  35.865429  12.514484        0.0  \n",
              "0.95       1.0       1.0       1.0        1.0  62.389204  14.649174        1.0  \n",
              "0.99       1.0       1.0       1.0        1.0  79.111039  15.426351        1.0  "
            ],
            "text/html": [
              "\n",
              "  <div id=\"df-95672cf4-eb1b-4ba3-a016-8684911936ef\">\n",
              "    <div class=\"colab-df-container\">\n",
              "      <div>\n",
              "<style scoped>\n",
              "    .dataframe tbody tr th:only-of-type {\n",
              "        vertical-align: middle;\n",
              "    }\n",
              "\n",
              "    .dataframe tbody tr th {\n",
              "        vertical-align: top;\n",
              "    }\n",
              "\n",
              "    .dataframe thead th {\n",
              "        text-align: right;\n",
              "    }\n",
              "</style>\n",
              "<table border=\"1\" class=\"dataframe\">\n",
              "  <thead>\n",
              "    <tr style=\"text-align: right;\">\n",
              "      <th></th>\n",
              "      <th>ID</th>\n",
              "      <th>A1_Score</th>\n",
              "      <th>A2_Score</th>\n",
              "      <th>A3_Score</th>\n",
              "      <th>A4_Score</th>\n",
              "      <th>A5_Score</th>\n",
              "      <th>A6_Score</th>\n",
              "      <th>A7_Score</th>\n",
              "      <th>A8_Score</th>\n",
              "      <th>A9_Score</th>\n",
              "      <th>A10_Score</th>\n",
              "      <th>age</th>\n",
              "      <th>result</th>\n",
              "      <th>Class/ASD</th>\n",
              "    </tr>\n",
              "  </thead>\n",
              "  <tbody>\n",
              "    <tr>\n",
              "      <th>0.01</th>\n",
              "      <td>8.99</td>\n",
              "      <td>0.0</td>\n",
              "      <td>0.0</td>\n",
              "      <td>0.0</td>\n",
              "      <td>0.0</td>\n",
              "      <td>0.0</td>\n",
              "      <td>0.0</td>\n",
              "      <td>0.0</td>\n",
              "      <td>0.0</td>\n",
              "      <td>0.0</td>\n",
              "      <td>0.0</td>\n",
              "      <td>5.469100</td>\n",
              "      <td>-3.461976</td>\n",
              "      <td>0.0</td>\n",
              "    </tr>\n",
              "    <tr>\n",
              "      <th>0.05</th>\n",
              "      <td>40.95</td>\n",
              "      <td>0.0</td>\n",
              "      <td>0.0</td>\n",
              "      <td>0.0</td>\n",
              "      <td>0.0</td>\n",
              "      <td>0.0</td>\n",
              "      <td>0.0</td>\n",
              "      <td>0.0</td>\n",
              "      <td>0.0</td>\n",
              "      <td>0.0</td>\n",
              "      <td>0.0</td>\n",
              "      <td>8.146961</td>\n",
              "      <td>-0.475406</td>\n",
              "      <td>0.0</td>\n",
              "    </tr>\n",
              "    <tr>\n",
              "      <th>0.25</th>\n",
              "      <td>200.75</td>\n",
              "      <td>0.0</td>\n",
              "      <td>0.0</td>\n",
              "      <td>0.0</td>\n",
              "      <td>0.0</td>\n",
              "      <td>0.0</td>\n",
              "      <td>0.0</td>\n",
              "      <td>0.0</td>\n",
              "      <td>0.0</td>\n",
              "      <td>0.0</td>\n",
              "      <td>0.0</td>\n",
              "      <td>17.198153</td>\n",
              "      <td>5.306575</td>\n",
              "      <td>0.0</td>\n",
              "    </tr>\n",
              "    <tr>\n",
              "      <th>0.50</th>\n",
              "      <td>400.50</td>\n",
              "      <td>1.0</td>\n",
              "      <td>1.0</td>\n",
              "      <td>0.0</td>\n",
              "      <td>0.0</td>\n",
              "      <td>0.0</td>\n",
              "      <td>0.0</td>\n",
              "      <td>0.0</td>\n",
              "      <td>1.0</td>\n",
              "      <td>0.0</td>\n",
              "      <td>1.0</td>\n",
              "      <td>24.848350</td>\n",
              "      <td>9.605299</td>\n",
              "      <td>0.0</td>\n",
              "    </tr>\n",
              "    <tr>\n",
              "      <th>0.75</th>\n",
              "      <td>600.25</td>\n",
              "      <td>1.0</td>\n",
              "      <td>1.0</td>\n",
              "      <td>1.0</td>\n",
              "      <td>1.0</td>\n",
              "      <td>1.0</td>\n",
              "      <td>1.0</td>\n",
              "      <td>1.0</td>\n",
              "      <td>1.0</td>\n",
              "      <td>1.0</td>\n",
              "      <td>1.0</td>\n",
              "      <td>35.865429</td>\n",
              "      <td>12.514484</td>\n",
              "      <td>0.0</td>\n",
              "    </tr>\n",
              "    <tr>\n",
              "      <th>0.95</th>\n",
              "      <td>760.05</td>\n",
              "      <td>1.0</td>\n",
              "      <td>1.0</td>\n",
              "      <td>1.0</td>\n",
              "      <td>1.0</td>\n",
              "      <td>1.0</td>\n",
              "      <td>1.0</td>\n",
              "      <td>1.0</td>\n",
              "      <td>1.0</td>\n",
              "      <td>1.0</td>\n",
              "      <td>1.0</td>\n",
              "      <td>62.389204</td>\n",
              "      <td>14.649174</td>\n",
              "      <td>1.0</td>\n",
              "    </tr>\n",
              "    <tr>\n",
              "      <th>0.99</th>\n",
              "      <td>792.01</td>\n",
              "      <td>1.0</td>\n",
              "      <td>1.0</td>\n",
              "      <td>1.0</td>\n",
              "      <td>1.0</td>\n",
              "      <td>1.0</td>\n",
              "      <td>1.0</td>\n",
              "      <td>1.0</td>\n",
              "      <td>1.0</td>\n",
              "      <td>1.0</td>\n",
              "      <td>1.0</td>\n",
              "      <td>79.111039</td>\n",
              "      <td>15.426351</td>\n",
              "      <td>1.0</td>\n",
              "    </tr>\n",
              "  </tbody>\n",
              "</table>\n",
              "</div>\n",
              "      <button class=\"colab-df-convert\" onclick=\"convertToInteractive('df-95672cf4-eb1b-4ba3-a016-8684911936ef')\"\n",
              "              title=\"Convert this dataframe to an interactive table.\"\n",
              "              style=\"display:none;\">\n",
              "        \n",
              "  <svg xmlns=\"http://www.w3.org/2000/svg\" height=\"24px\"viewBox=\"0 0 24 24\"\n",
              "       width=\"24px\">\n",
              "    <path d=\"M0 0h24v24H0V0z\" fill=\"none\"/>\n",
              "    <path d=\"M18.56 5.44l.94 2.06.94-2.06 2.06-.94-2.06-.94-.94-2.06-.94 2.06-2.06.94zm-11 1L8.5 8.5l.94-2.06 2.06-.94-2.06-.94L8.5 2.5l-.94 2.06-2.06.94zm10 10l.94 2.06.94-2.06 2.06-.94-2.06-.94-.94-2.06-.94 2.06-2.06.94z\"/><path d=\"M17.41 7.96l-1.37-1.37c-.4-.4-.92-.59-1.43-.59-.52 0-1.04.2-1.43.59L10.3 9.45l-7.72 7.72c-.78.78-.78 2.05 0 2.83L4 21.41c.39.39.9.59 1.41.59.51 0 1.02-.2 1.41-.59l7.78-7.78 2.81-2.81c.8-.78.8-2.07 0-2.86zM5.41 20L4 18.59l7.72-7.72 1.47 1.35L5.41 20z\"/>\n",
              "  </svg>\n",
              "      </button>\n",
              "      \n",
              "  <style>\n",
              "    .colab-df-container {\n",
              "      display:flex;\n",
              "      flex-wrap:wrap;\n",
              "      gap: 12px;\n",
              "    }\n",
              "\n",
              "    .colab-df-convert {\n",
              "      background-color: #E8F0FE;\n",
              "      border: none;\n",
              "      border-radius: 50%;\n",
              "      cursor: pointer;\n",
              "      display: none;\n",
              "      fill: #1967D2;\n",
              "      height: 32px;\n",
              "      padding: 0 0 0 0;\n",
              "      width: 32px;\n",
              "    }\n",
              "\n",
              "    .colab-df-convert:hover {\n",
              "      background-color: #E2EBFA;\n",
              "      box-shadow: 0px 1px 2px rgba(60, 64, 67, 0.3), 0px 1px 3px 1px rgba(60, 64, 67, 0.15);\n",
              "      fill: #174EA6;\n",
              "    }\n",
              "\n",
              "    [theme=dark] .colab-df-convert {\n",
              "      background-color: #3B4455;\n",
              "      fill: #D2E3FC;\n",
              "    }\n",
              "\n",
              "    [theme=dark] .colab-df-convert:hover {\n",
              "      background-color: #434B5C;\n",
              "      box-shadow: 0px 1px 3px 1px rgba(0, 0, 0, 0.15);\n",
              "      filter: drop-shadow(0px 1px 2px rgba(0, 0, 0, 0.3));\n",
              "      fill: #FFFFFF;\n",
              "    }\n",
              "  </style>\n",
              "\n",
              "      <script>\n",
              "        const buttonEl =\n",
              "          document.querySelector('#df-95672cf4-eb1b-4ba3-a016-8684911936ef button.colab-df-convert');\n",
              "        buttonEl.style.display =\n",
              "          google.colab.kernel.accessAllowed ? 'block' : 'none';\n",
              "\n",
              "        async function convertToInteractive(key) {\n",
              "          const element = document.querySelector('#df-95672cf4-eb1b-4ba3-a016-8684911936ef');\n",
              "          const dataTable =\n",
              "            await google.colab.kernel.invokeFunction('convertToInteractive',\n",
              "                                                     [key], {});\n",
              "          if (!dataTable) return;\n",
              "\n",
              "          const docLinkHtml = 'Like what you see? Visit the ' +\n",
              "            '<a target=\"_blank\" href=https://colab.research.google.com/notebooks/data_table.ipynb>data table notebook</a>'\n",
              "            + ' to learn more about interactive tables.';\n",
              "          element.innerHTML = '';\n",
              "          dataTable['output_type'] = 'display_data';\n",
              "          await google.colab.output.renderOutput(dataTable, element);\n",
              "          const docLink = document.createElement('div');\n",
              "          docLink.innerHTML = docLinkHtml;\n",
              "          element.appendChild(docLink);\n",
              "        }\n",
              "      </script>\n",
              "    </div>\n",
              "  </div>\n",
              "  "
            ]
          },
          "metadata": {},
          "execution_count": 32
        }
      ]
    },
    {
      "cell_type": "markdown",
      "source": [
        "#**First step with model**"
      ],
      "metadata": {
        "id": "qc43I2ArqL2Y"
      }
    },
    {
      "cell_type": "code",
      "source": [
        "new1 = df_train['Class/ASD']\n",
        "new2 = df_train['result']\n",
        "new3= df_train['gender']\n",
        "new4 = df_train['jaundice']\n",
        "new5 = df_train['austim']\n",
        "new6= df_train['ethnicity']\n",
        "\n",
        "df_train_correct = pd.concat([new2,new1,new3,new4,new5,new6], axis=1)\n",
        "df_train_correct"
      ],
      "metadata": {
        "colab": {
          "base_uri": "https://localhost:8080/",
          "height": 423
        },
        "id": "KnEKIMKP9K_i",
        "outputId": "b417d8b1-6a4f-461b-a68d-6838e5ee6086"
      },
      "execution_count": null,
      "outputs": [
        {
          "output_type": "execute_result",
          "data": {
            "text/plain": [
              "        result  Class/ASD gender jaundice austim       ethnicity\n",
              "0     6.351166          0      f       no     no          others\n",
              "1     2.255185          0      m       no     no          others\n",
              "2    14.851484          1      m       no    yes  White-European\n",
              "3     2.276617          0      f       no     no          others\n",
              "4    -4.777286          0      m       no     no          others\n",
              "..         ...        ...    ...      ...    ...             ...\n",
              "795  12.999501          0      m       no     no        Hispanic\n",
              "796  13.561518          0      m       no     no  White-European\n",
              "797   2.653177          0      m      yes     no     South Asian\n",
              "798   9.069342          0      f       no     no          others\n",
              "799   2.243304          0      f       no     no          others\n",
              "\n",
              "[800 rows x 6 columns]"
            ],
            "text/html": [
              "\n",
              "  <div id=\"df-33b8ff94-196a-4e7b-bace-8a31107aec0d\">\n",
              "    <div class=\"colab-df-container\">\n",
              "      <div>\n",
              "<style scoped>\n",
              "    .dataframe tbody tr th:only-of-type {\n",
              "        vertical-align: middle;\n",
              "    }\n",
              "\n",
              "    .dataframe tbody tr th {\n",
              "        vertical-align: top;\n",
              "    }\n",
              "\n",
              "    .dataframe thead th {\n",
              "        text-align: right;\n",
              "    }\n",
              "</style>\n",
              "<table border=\"1\" class=\"dataframe\">\n",
              "  <thead>\n",
              "    <tr style=\"text-align: right;\">\n",
              "      <th></th>\n",
              "      <th>result</th>\n",
              "      <th>Class/ASD</th>\n",
              "      <th>gender</th>\n",
              "      <th>jaundice</th>\n",
              "      <th>austim</th>\n",
              "      <th>ethnicity</th>\n",
              "    </tr>\n",
              "  </thead>\n",
              "  <tbody>\n",
              "    <tr>\n",
              "      <th>0</th>\n",
              "      <td>6.351166</td>\n",
              "      <td>0</td>\n",
              "      <td>f</td>\n",
              "      <td>no</td>\n",
              "      <td>no</td>\n",
              "      <td>others</td>\n",
              "    </tr>\n",
              "    <tr>\n",
              "      <th>1</th>\n",
              "      <td>2.255185</td>\n",
              "      <td>0</td>\n",
              "      <td>m</td>\n",
              "      <td>no</td>\n",
              "      <td>no</td>\n",
              "      <td>others</td>\n",
              "    </tr>\n",
              "    <tr>\n",
              "      <th>2</th>\n",
              "      <td>14.851484</td>\n",
              "      <td>1</td>\n",
              "      <td>m</td>\n",
              "      <td>no</td>\n",
              "      <td>yes</td>\n",
              "      <td>White-European</td>\n",
              "    </tr>\n",
              "    <tr>\n",
              "      <th>3</th>\n",
              "      <td>2.276617</td>\n",
              "      <td>0</td>\n",
              "      <td>f</td>\n",
              "      <td>no</td>\n",
              "      <td>no</td>\n",
              "      <td>others</td>\n",
              "    </tr>\n",
              "    <tr>\n",
              "      <th>4</th>\n",
              "      <td>-4.777286</td>\n",
              "      <td>0</td>\n",
              "      <td>m</td>\n",
              "      <td>no</td>\n",
              "      <td>no</td>\n",
              "      <td>others</td>\n",
              "    </tr>\n",
              "    <tr>\n",
              "      <th>...</th>\n",
              "      <td>...</td>\n",
              "      <td>...</td>\n",
              "      <td>...</td>\n",
              "      <td>...</td>\n",
              "      <td>...</td>\n",
              "      <td>...</td>\n",
              "    </tr>\n",
              "    <tr>\n",
              "      <th>795</th>\n",
              "      <td>12.999501</td>\n",
              "      <td>0</td>\n",
              "      <td>m</td>\n",
              "      <td>no</td>\n",
              "      <td>no</td>\n",
              "      <td>Hispanic</td>\n",
              "    </tr>\n",
              "    <tr>\n",
              "      <th>796</th>\n",
              "      <td>13.561518</td>\n",
              "      <td>0</td>\n",
              "      <td>m</td>\n",
              "      <td>no</td>\n",
              "      <td>no</td>\n",
              "      <td>White-European</td>\n",
              "    </tr>\n",
              "    <tr>\n",
              "      <th>797</th>\n",
              "      <td>2.653177</td>\n",
              "      <td>0</td>\n",
              "      <td>m</td>\n",
              "      <td>yes</td>\n",
              "      <td>no</td>\n",
              "      <td>South Asian</td>\n",
              "    </tr>\n",
              "    <tr>\n",
              "      <th>798</th>\n",
              "      <td>9.069342</td>\n",
              "      <td>0</td>\n",
              "      <td>f</td>\n",
              "      <td>no</td>\n",
              "      <td>no</td>\n",
              "      <td>others</td>\n",
              "    </tr>\n",
              "    <tr>\n",
              "      <th>799</th>\n",
              "      <td>2.243304</td>\n",
              "      <td>0</td>\n",
              "      <td>f</td>\n",
              "      <td>no</td>\n",
              "      <td>no</td>\n",
              "      <td>others</td>\n",
              "    </tr>\n",
              "  </tbody>\n",
              "</table>\n",
              "<p>800 rows × 6 columns</p>\n",
              "</div>\n",
              "      <button class=\"colab-df-convert\" onclick=\"convertToInteractive('df-33b8ff94-196a-4e7b-bace-8a31107aec0d')\"\n",
              "              title=\"Convert this dataframe to an interactive table.\"\n",
              "              style=\"display:none;\">\n",
              "        \n",
              "  <svg xmlns=\"http://www.w3.org/2000/svg\" height=\"24px\"viewBox=\"0 0 24 24\"\n",
              "       width=\"24px\">\n",
              "    <path d=\"M0 0h24v24H0V0z\" fill=\"none\"/>\n",
              "    <path d=\"M18.56 5.44l.94 2.06.94-2.06 2.06-.94-2.06-.94-.94-2.06-.94 2.06-2.06.94zm-11 1L8.5 8.5l.94-2.06 2.06-.94-2.06-.94L8.5 2.5l-.94 2.06-2.06.94zm10 10l.94 2.06.94-2.06 2.06-.94-2.06-.94-.94-2.06-.94 2.06-2.06.94z\"/><path d=\"M17.41 7.96l-1.37-1.37c-.4-.4-.92-.59-1.43-.59-.52 0-1.04.2-1.43.59L10.3 9.45l-7.72 7.72c-.78.78-.78 2.05 0 2.83L4 21.41c.39.39.9.59 1.41.59.51 0 1.02-.2 1.41-.59l7.78-7.78 2.81-2.81c.8-.78.8-2.07 0-2.86zM5.41 20L4 18.59l7.72-7.72 1.47 1.35L5.41 20z\"/>\n",
              "  </svg>\n",
              "      </button>\n",
              "      \n",
              "  <style>\n",
              "    .colab-df-container {\n",
              "      display:flex;\n",
              "      flex-wrap:wrap;\n",
              "      gap: 12px;\n",
              "    }\n",
              "\n",
              "    .colab-df-convert {\n",
              "      background-color: #E8F0FE;\n",
              "      border: none;\n",
              "      border-radius: 50%;\n",
              "      cursor: pointer;\n",
              "      display: none;\n",
              "      fill: #1967D2;\n",
              "      height: 32px;\n",
              "      padding: 0 0 0 0;\n",
              "      width: 32px;\n",
              "    }\n",
              "\n",
              "    .colab-df-convert:hover {\n",
              "      background-color: #E2EBFA;\n",
              "      box-shadow: 0px 1px 2px rgba(60, 64, 67, 0.3), 0px 1px 3px 1px rgba(60, 64, 67, 0.15);\n",
              "      fill: #174EA6;\n",
              "    }\n",
              "\n",
              "    [theme=dark] .colab-df-convert {\n",
              "      background-color: #3B4455;\n",
              "      fill: #D2E3FC;\n",
              "    }\n",
              "\n",
              "    [theme=dark] .colab-df-convert:hover {\n",
              "      background-color: #434B5C;\n",
              "      box-shadow: 0px 1px 3px 1px rgba(0, 0, 0, 0.15);\n",
              "      filter: drop-shadow(0px 1px 2px rgba(0, 0, 0, 0.3));\n",
              "      fill: #FFFFFF;\n",
              "    }\n",
              "  </style>\n",
              "\n",
              "      <script>\n",
              "        const buttonEl =\n",
              "          document.querySelector('#df-33b8ff94-196a-4e7b-bace-8a31107aec0d button.colab-df-convert');\n",
              "        buttonEl.style.display =\n",
              "          google.colab.kernel.accessAllowed ? 'block' : 'none';\n",
              "\n",
              "        async function convertToInteractive(key) {\n",
              "          const element = document.querySelector('#df-33b8ff94-196a-4e7b-bace-8a31107aec0d');\n",
              "          const dataTable =\n",
              "            await google.colab.kernel.invokeFunction('convertToInteractive',\n",
              "                                                     [key], {});\n",
              "          if (!dataTable) return;\n",
              "\n",
              "          const docLinkHtml = 'Like what you see? Visit the ' +\n",
              "            '<a target=\"_blank\" href=https://colab.research.google.com/notebooks/data_table.ipynb>data table notebook</a>'\n",
              "            + ' to learn more about interactive tables.';\n",
              "          element.innerHTML = '';\n",
              "          dataTable['output_type'] = 'display_data';\n",
              "          await google.colab.output.renderOutput(dataTable, element);\n",
              "          const docLink = document.createElement('div');\n",
              "          docLink.innerHTML = docLinkHtml;\n",
              "          element.appendChild(docLink);\n",
              "        }\n",
              "      </script>\n",
              "    </div>\n",
              "  </div>\n",
              "  "
            ]
          },
          "metadata": {},
          "execution_count": 33
        }
      ]
    },
    {
      "cell_type": "code",
      "source": [
        "X = df_train_correct.copy()"
      ],
      "metadata": {
        "id": "BltFG-5Kuw6V"
      },
      "execution_count": null,
      "outputs": []
    },
    {
      "cell_type": "code",
      "source": [
        "X.drop(columns = 'Class/ASD', inplace = True)"
      ],
      "metadata": {
        "id": "Q6U6s2_31GX2"
      },
      "execution_count": null,
      "outputs": []
    },
    {
      "cell_type": "code",
      "source": [
        "X"
      ],
      "metadata": {
        "colab": {
          "base_uri": "https://localhost:8080/",
          "height": 423
        },
        "id": "9ixOdmt-H5FK",
        "outputId": "813f7396-36ac-4bd2-c105-58338eaac1dc"
      },
      "execution_count": null,
      "outputs": [
        {
          "output_type": "execute_result",
          "data": {
            "text/plain": [
              "        result gender jaundice austim       ethnicity\n",
              "0     6.351166      f       no     no          others\n",
              "1     2.255185      m       no     no          others\n",
              "2    14.851484      m       no    yes  White-European\n",
              "3     2.276617      f       no     no          others\n",
              "4    -4.777286      m       no     no          others\n",
              "..         ...    ...      ...    ...             ...\n",
              "795  12.999501      m       no     no        Hispanic\n",
              "796  13.561518      m       no     no  White-European\n",
              "797   2.653177      m      yes     no     South Asian\n",
              "798   9.069342      f       no     no          others\n",
              "799   2.243304      f       no     no          others\n",
              "\n",
              "[800 rows x 5 columns]"
            ],
            "text/html": [
              "\n",
              "  <div id=\"df-92ebe6f9-6053-467b-b4da-9df6f9281c87\">\n",
              "    <div class=\"colab-df-container\">\n",
              "      <div>\n",
              "<style scoped>\n",
              "    .dataframe tbody tr th:only-of-type {\n",
              "        vertical-align: middle;\n",
              "    }\n",
              "\n",
              "    .dataframe tbody tr th {\n",
              "        vertical-align: top;\n",
              "    }\n",
              "\n",
              "    .dataframe thead th {\n",
              "        text-align: right;\n",
              "    }\n",
              "</style>\n",
              "<table border=\"1\" class=\"dataframe\">\n",
              "  <thead>\n",
              "    <tr style=\"text-align: right;\">\n",
              "      <th></th>\n",
              "      <th>result</th>\n",
              "      <th>gender</th>\n",
              "      <th>jaundice</th>\n",
              "      <th>austim</th>\n",
              "      <th>ethnicity</th>\n",
              "    </tr>\n",
              "  </thead>\n",
              "  <tbody>\n",
              "    <tr>\n",
              "      <th>0</th>\n",
              "      <td>6.351166</td>\n",
              "      <td>f</td>\n",
              "      <td>no</td>\n",
              "      <td>no</td>\n",
              "      <td>others</td>\n",
              "    </tr>\n",
              "    <tr>\n",
              "      <th>1</th>\n",
              "      <td>2.255185</td>\n",
              "      <td>m</td>\n",
              "      <td>no</td>\n",
              "      <td>no</td>\n",
              "      <td>others</td>\n",
              "    </tr>\n",
              "    <tr>\n",
              "      <th>2</th>\n",
              "      <td>14.851484</td>\n",
              "      <td>m</td>\n",
              "      <td>no</td>\n",
              "      <td>yes</td>\n",
              "      <td>White-European</td>\n",
              "    </tr>\n",
              "    <tr>\n",
              "      <th>3</th>\n",
              "      <td>2.276617</td>\n",
              "      <td>f</td>\n",
              "      <td>no</td>\n",
              "      <td>no</td>\n",
              "      <td>others</td>\n",
              "    </tr>\n",
              "    <tr>\n",
              "      <th>4</th>\n",
              "      <td>-4.777286</td>\n",
              "      <td>m</td>\n",
              "      <td>no</td>\n",
              "      <td>no</td>\n",
              "      <td>others</td>\n",
              "    </tr>\n",
              "    <tr>\n",
              "      <th>...</th>\n",
              "      <td>...</td>\n",
              "      <td>...</td>\n",
              "      <td>...</td>\n",
              "      <td>...</td>\n",
              "      <td>...</td>\n",
              "    </tr>\n",
              "    <tr>\n",
              "      <th>795</th>\n",
              "      <td>12.999501</td>\n",
              "      <td>m</td>\n",
              "      <td>no</td>\n",
              "      <td>no</td>\n",
              "      <td>Hispanic</td>\n",
              "    </tr>\n",
              "    <tr>\n",
              "      <th>796</th>\n",
              "      <td>13.561518</td>\n",
              "      <td>m</td>\n",
              "      <td>no</td>\n",
              "      <td>no</td>\n",
              "      <td>White-European</td>\n",
              "    </tr>\n",
              "    <tr>\n",
              "      <th>797</th>\n",
              "      <td>2.653177</td>\n",
              "      <td>m</td>\n",
              "      <td>yes</td>\n",
              "      <td>no</td>\n",
              "      <td>South Asian</td>\n",
              "    </tr>\n",
              "    <tr>\n",
              "      <th>798</th>\n",
              "      <td>9.069342</td>\n",
              "      <td>f</td>\n",
              "      <td>no</td>\n",
              "      <td>no</td>\n",
              "      <td>others</td>\n",
              "    </tr>\n",
              "    <tr>\n",
              "      <th>799</th>\n",
              "      <td>2.243304</td>\n",
              "      <td>f</td>\n",
              "      <td>no</td>\n",
              "      <td>no</td>\n",
              "      <td>others</td>\n",
              "    </tr>\n",
              "  </tbody>\n",
              "</table>\n",
              "<p>800 rows × 5 columns</p>\n",
              "</div>\n",
              "      <button class=\"colab-df-convert\" onclick=\"convertToInteractive('df-92ebe6f9-6053-467b-b4da-9df6f9281c87')\"\n",
              "              title=\"Convert this dataframe to an interactive table.\"\n",
              "              style=\"display:none;\">\n",
              "        \n",
              "  <svg xmlns=\"http://www.w3.org/2000/svg\" height=\"24px\"viewBox=\"0 0 24 24\"\n",
              "       width=\"24px\">\n",
              "    <path d=\"M0 0h24v24H0V0z\" fill=\"none\"/>\n",
              "    <path d=\"M18.56 5.44l.94 2.06.94-2.06 2.06-.94-2.06-.94-.94-2.06-.94 2.06-2.06.94zm-11 1L8.5 8.5l.94-2.06 2.06-.94-2.06-.94L8.5 2.5l-.94 2.06-2.06.94zm10 10l.94 2.06.94-2.06 2.06-.94-2.06-.94-.94-2.06-.94 2.06-2.06.94z\"/><path d=\"M17.41 7.96l-1.37-1.37c-.4-.4-.92-.59-1.43-.59-.52 0-1.04.2-1.43.59L10.3 9.45l-7.72 7.72c-.78.78-.78 2.05 0 2.83L4 21.41c.39.39.9.59 1.41.59.51 0 1.02-.2 1.41-.59l7.78-7.78 2.81-2.81c.8-.78.8-2.07 0-2.86zM5.41 20L4 18.59l7.72-7.72 1.47 1.35L5.41 20z\"/>\n",
              "  </svg>\n",
              "      </button>\n",
              "      \n",
              "  <style>\n",
              "    .colab-df-container {\n",
              "      display:flex;\n",
              "      flex-wrap:wrap;\n",
              "      gap: 12px;\n",
              "    }\n",
              "\n",
              "    .colab-df-convert {\n",
              "      background-color: #E8F0FE;\n",
              "      border: none;\n",
              "      border-radius: 50%;\n",
              "      cursor: pointer;\n",
              "      display: none;\n",
              "      fill: #1967D2;\n",
              "      height: 32px;\n",
              "      padding: 0 0 0 0;\n",
              "      width: 32px;\n",
              "    }\n",
              "\n",
              "    .colab-df-convert:hover {\n",
              "      background-color: #E2EBFA;\n",
              "      box-shadow: 0px 1px 2px rgba(60, 64, 67, 0.3), 0px 1px 3px 1px rgba(60, 64, 67, 0.15);\n",
              "      fill: #174EA6;\n",
              "    }\n",
              "\n",
              "    [theme=dark] .colab-df-convert {\n",
              "      background-color: #3B4455;\n",
              "      fill: #D2E3FC;\n",
              "    }\n",
              "\n",
              "    [theme=dark] .colab-df-convert:hover {\n",
              "      background-color: #434B5C;\n",
              "      box-shadow: 0px 1px 3px 1px rgba(0, 0, 0, 0.15);\n",
              "      filter: drop-shadow(0px 1px 2px rgba(0, 0, 0, 0.3));\n",
              "      fill: #FFFFFF;\n",
              "    }\n",
              "  </style>\n",
              "\n",
              "      <script>\n",
              "        const buttonEl =\n",
              "          document.querySelector('#df-92ebe6f9-6053-467b-b4da-9df6f9281c87 button.colab-df-convert');\n",
              "        buttonEl.style.display =\n",
              "          google.colab.kernel.accessAllowed ? 'block' : 'none';\n",
              "\n",
              "        async function convertToInteractive(key) {\n",
              "          const element = document.querySelector('#df-92ebe6f9-6053-467b-b4da-9df6f9281c87');\n",
              "          const dataTable =\n",
              "            await google.colab.kernel.invokeFunction('convertToInteractive',\n",
              "                                                     [key], {});\n",
              "          if (!dataTable) return;\n",
              "\n",
              "          const docLinkHtml = 'Like what you see? Visit the ' +\n",
              "            '<a target=\"_blank\" href=https://colab.research.google.com/notebooks/data_table.ipynb>data table notebook</a>'\n",
              "            + ' to learn more about interactive tables.';\n",
              "          element.innerHTML = '';\n",
              "          dataTable['output_type'] = 'display_data';\n",
              "          await google.colab.output.renderOutput(dataTable, element);\n",
              "          const docLink = document.createElement('div');\n",
              "          docLink.innerHTML = docLinkHtml;\n",
              "          element.appendChild(docLink);\n",
              "        }\n",
              "      </script>\n",
              "    </div>\n",
              "  </div>\n",
              "  "
            ]
          },
          "metadata": {},
          "execution_count": 50
        }
      ]
    },
    {
      "cell_type": "code",
      "source": [
        "y = df_train['Class/ASD']"
      ],
      "metadata": {
        "id": "qwXTASADu136"
      },
      "execution_count": null,
      "outputs": []
    },
    {
      "cell_type": "code",
      "source": [
        "y"
      ],
      "metadata": {
        "colab": {
          "base_uri": "https://localhost:8080/"
        },
        "id": "063t29W6H7j0",
        "outputId": "70224ae4-48a5-455b-b632-02b3b5a6380d"
      },
      "execution_count": null,
      "outputs": [
        {
          "output_type": "execute_result",
          "data": {
            "text/plain": [
              "0      0\n",
              "1      0\n",
              "2      1\n",
              "3      0\n",
              "4      0\n",
              "      ..\n",
              "795    0\n",
              "796    0\n",
              "797    0\n",
              "798    0\n",
              "799    0\n",
              "Name: Class/ASD, Length: 800, dtype: int64"
            ]
          },
          "metadata": {},
          "execution_count": 52
        }
      ]
    },
    {
      "cell_type": "code",
      "source": [
        "cols_numerical = ['result']"
      ],
      "metadata": {
        "id": "2__ab5yS_8AE"
      },
      "execution_count": null,
      "outputs": []
    },
    {
      "cell_type": "code",
      "source": [
        "cols_numerical"
      ],
      "metadata": {
        "colab": {
          "base_uri": "https://localhost:8080/"
        },
        "id": "2fIbMFD-Bip_",
        "outputId": "d857107a-b8d2-4bc4-fc09-c9a7f2419136"
      },
      "execution_count": null,
      "outputs": [
        {
          "output_type": "execute_result",
          "data": {
            "text/plain": [
              "['result']"
            ]
          },
          "metadata": {},
          "execution_count": 38
        }
      ]
    },
    {
      "cell_type": "code",
      "source": [
        "cols_categorical =['ethnicity','gender','jaundice','austim']"
      ],
      "metadata": {
        "id": "vq66kRUc_8aa"
      },
      "execution_count": null,
      "outputs": []
    },
    {
      "cell_type": "code",
      "source": [
        "cols_categorical "
      ],
      "metadata": {
        "colab": {
          "base_uri": "https://localhost:8080/"
        },
        "id": "_UBcRLnNBjrD",
        "outputId": "76dc5660-96e1-40f6-8912-ca146db939ba"
      },
      "execution_count": null,
      "outputs": [
        {
          "output_type": "execute_result",
          "data": {
            "text/plain": [
              "['ethnicity', 'gender', 'jaundice', 'austim']"
            ]
          },
          "metadata": {},
          "execution_count": 40
        }
      ]
    },
    {
      "cell_type": "code",
      "source": [
        "X_temp, X_test, y_temp, y_test = train_test_split(X, y, test_size =0.2, random_state = 333, stratify=y)"
      ],
      "metadata": {
        "id": "NV-013r3__oS"
      },
      "execution_count": null,
      "outputs": []
    },
    {
      "cell_type": "code",
      "source": [
        "X_train, X_val, y_train, y_val = train_test_split(X_temp, y_temp, test_size=0.25, random_state=23, stratify=y_temp)"
      ],
      "metadata": {
        "id": "eFCJH5tJACaF"
      },
      "execution_count": null,
      "outputs": []
    },
    {
      "cell_type": "code",
      "source": [
        "y.sum()/y.count()"
      ],
      "metadata": {
        "colab": {
          "base_uri": "https://localhost:8080/"
        },
        "id": "R5dvDosBAHaV",
        "outputId": "9ea5a6e9-6b5c-4acf-b714-6937543d9dec"
      },
      "execution_count": null,
      "outputs": [
        {
          "output_type": "execute_result",
          "data": {
            "text/plain": [
              "0.20125"
            ]
          },
          "metadata": {},
          "execution_count": 43
        }
      ]
    },
    {
      "cell_type": "code",
      "source": [
        "y_train.sum()/y_train.count() "
      ],
      "metadata": {
        "colab": {
          "base_uri": "https://localhost:8080/"
        },
        "id": "yl3tYvanAHxE",
        "outputId": "b7451c15-6adf-49c4-fee1-78211530987c"
      },
      "execution_count": null,
      "outputs": [
        {
          "output_type": "execute_result",
          "data": {
            "text/plain": [
              "0.20208333333333334"
            ]
          },
          "metadata": {},
          "execution_count": 44
        }
      ]
    },
    {
      "cell_type": "code",
      "source": [
        "y_test.sum()/y_test.count()"
      ],
      "metadata": {
        "colab": {
          "base_uri": "https://localhost:8080/"
        },
        "id": "Z50yu0sJAJnL",
        "outputId": "121a59c8-6ea3-4427-e3a4-450a65a16f8a"
      },
      "execution_count": null,
      "outputs": [
        {
          "output_type": "execute_result",
          "data": {
            "text/plain": [
              "0.2"
            ]
          },
          "metadata": {},
          "execution_count": 45
        }
      ]
    },
    {
      "cell_type": "code",
      "source": [
        "y_val.sum()/y_val.count()"
      ],
      "metadata": {
        "colab": {
          "base_uri": "https://localhost:8080/"
        },
        "id": "yKtHuftHALl6",
        "outputId": "8f461d7b-cb6e-45fc-9df8-7c70717c2d0c"
      },
      "execution_count": null,
      "outputs": [
        {
          "output_type": "execute_result",
          "data": {
            "text/plain": [
              "0.2"
            ]
          },
          "metadata": {},
          "execution_count": 46
        }
      ]
    },
    {
      "cell_type": "markdown",
      "source": [
        "# **Pipeline and finish task with model**"
      ],
      "metadata": {
        "id": "pz8JVXtSqNZu"
      }
    },
    {
      "cell_type": "code",
      "source": [
        "def count_boundary(col):\n",
        "  \n",
        "  q1 = col.quantile(0.25)\n",
        "  q3 = col.quantile(0.75)\n",
        "  iqr = q3 - q1\n",
        "  \n",
        "  low_boundary = q1 - 1.5 * iqr\n",
        "  upper_boundary = q3 + 1.5 * iqr\n",
        "\n",
        "  return low_boundary, upper_boundary"
      ],
      "metadata": {
        "id": "n9kdxkF5IzNT"
      },
      "execution_count": null,
      "outputs": []
    },
    {
      "cell_type": "code",
      "source": [
        "lb, ub = count_boundary(X_train['result'])\n",
        "lb, ub"
      ],
      "metadata": {
        "colab": {
          "base_uri": "https://localhost:8080/"
        },
        "id": "nxS9pnWELJKG",
        "outputId": "4ce53539-a875-46ac-81d7-9646fd4c893c"
      },
      "execution_count": null,
      "outputs": [
        {
          "output_type": "execute_result",
          "data": {
            "text/plain": [
              "(-5.407164730625, 23.426138278375)"
            ]
          },
          "metadata": {},
          "execution_count": 81
        }
      ]
    },
    {
      "cell_type": "code",
      "source": [
        "class DetectOutliersTransformer(BaseEstimator, TransformerMixin):\n",
        "  def fit(self, X, y=None):\n",
        "\n",
        "    self.resultlb, self.resultub = count_boundary(X['result'])\n",
        "    self.resultmean = X['result'].mean()\n",
        "\n",
        "    return self\n",
        "\n",
        "  def transform(self, X):\n",
        "    X[(X['result']> self.resultub) | (X['result']< self.resultlb)]['result'] = self.resultmean\n",
        "\n",
        "    return X"
      ],
      "metadata": {
        "id": "r2SXrInoOinr"
      },
      "execution_count": null,
      "outputs": []
    },
    {
      "cell_type": "code",
      "source": [
        "transformer_numerical = Pipeline(steps = [\n",
        "    ('outlier', DetectOutliersTransformer()),\n",
        "    ('imputer', SimpleImputer(strategy = 'mean')),\n",
        "    ('discretizer', None), \n",
        "    ('scaler', StandardScaler())\n",
        "])"
      ],
      "metadata": {
        "id": "2p3DEwPELN7S"
      },
      "execution_count": null,
      "outputs": []
    },
    {
      "cell_type": "code",
      "source": [
        "transformer_categorical = Pipeline(steps = [\n",
        "    ('onehotenc', OneHotEncoder()),\n",
        "    ('imputer', SimpleImputer(strategy = 'most_frequent'))\n",
        "]) "
      ],
      "metadata": {
        "id": "PyyQOswzLQjc"
      },
      "execution_count": null,
      "outputs": []
    },
    {
      "cell_type": "code",
      "source": [
        "preprocessor = ColumnTransformer(transformers =[\n",
        "    ('numerical', transformer_numerical, cols_numerical),\n",
        "    ('categorical', transformer_categorical, cols_categorical),\n",
        "])"
      ],
      "metadata": {
        "id": "pf1_cwcTLSi7"
      },
      "execution_count": null,
      "outputs": []
    },
    {
      "cell_type": "code",
      "source": [
        "pipe = Pipeline( steps = [\n",
        "    ('preprocessor', preprocessor),\n",
        "    ('model',  LogisticRegression(random_state=0))\n",
        "    ])"
      ],
      "metadata": {
        "id": "sFmSeZY3Fd4t"
      },
      "execution_count": null,
      "outputs": []
    },
    {
      "cell_type": "code",
      "source": [
        "pipe"
      ],
      "metadata": {
        "colab": {
          "base_uri": "https://localhost:8080/"
        },
        "id": "v4GY7XUGO0UQ",
        "outputId": "9d399821-40bb-4666-bd0d-9a48088cd9cd"
      },
      "execution_count": null,
      "outputs": [
        {
          "output_type": "execute_result",
          "data": {
            "text/plain": [
              "Pipeline(steps=[('preprocessor',\n",
              "                 ColumnTransformer(transformers=[('numerical',\n",
              "                                                  Pipeline(steps=[('outlier',\n",
              "                                                                   DetectOutliersTransformer()),\n",
              "                                                                  ('imputer',\n",
              "                                                                   SimpleImputer()),\n",
              "                                                                  ('discretizer',\n",
              "                                                                   None),\n",
              "                                                                  ('scaler',\n",
              "                                                                   StandardScaler())]),\n",
              "                                                  ['result']),\n",
              "                                                 ('categorical',\n",
              "                                                  Pipeline(steps=[('onehotenc',\n",
              "                                                                   OneHotEncoder()),\n",
              "                                                                  ('imputer',\n",
              "                                                                   SimpleImputer(strategy='most_frequent'))]),\n",
              "                                                  ['ethnicity', 'gender',\n",
              "                                                   'jaundice', 'austim'])])),\n",
              "                ('model', LogisticRegression(random_state=0))])"
            ]
          },
          "metadata": {},
          "execution_count": 96
        }
      ]
    },
    {
      "cell_type": "code",
      "source": [
        "pipe.fit(X_train, y_train)"
      ],
      "metadata": {
        "colab": {
          "base_uri": "https://localhost:8080/"
        },
        "id": "gFe5v0cCLZo8",
        "outputId": "476549e3-344b-4d0d-bdf5-357fdaa28a34"
      },
      "execution_count": null,
      "outputs": [
        {
          "output_type": "execute_result",
          "data": {
            "text/plain": [
              "Pipeline(steps=[('preprocessor',\n",
              "                 ColumnTransformer(transformers=[('numerical',\n",
              "                                                  Pipeline(steps=[('outlier',\n",
              "                                                                   DetectOutliersTransformer()),\n",
              "                                                                  ('imputer',\n",
              "                                                                   SimpleImputer()),\n",
              "                                                                  ('discretizer',\n",
              "                                                                   None),\n",
              "                                                                  ('scaler',\n",
              "                                                                   StandardScaler())]),\n",
              "                                                  ['result']),\n",
              "                                                 ('categorical',\n",
              "                                                  Pipeline(steps=[('onehotenc',\n",
              "                                                                   OneHotEncoder()),\n",
              "                                                                  ('imputer',\n",
              "                                                                   SimpleImputer(strategy='most_frequent'))]),\n",
              "                                                  ['ethnicity', 'gender',\n",
              "                                                   'jaundice', 'austim'])])),\n",
              "                ('model', LogisticRegression(random_state=0))])"
            ]
          },
          "metadata": {},
          "execution_count": 97
        }
      ]
    },
    {
      "cell_type": "code",
      "source": [
        "y_pred_train = pipe.predict(X_train)"
      ],
      "metadata": {
        "id": "dJgjAxsuPIGe"
      },
      "execution_count": null,
      "outputs": []
    },
    {
      "cell_type": "code",
      "source": [
        "y_pred_train"
      ],
      "metadata": {
        "colab": {
          "base_uri": "https://localhost:8080/"
        },
        "id": "n6UHXu3fPowd",
        "outputId": "ab1afed5-c4c8-491c-ed9b-042a4e74f83e"
      },
      "execution_count": null,
      "outputs": [
        {
          "output_type": "execute_result",
          "data": {
            "text/plain": [
              "array([0, 0, 1, 0, 0, 0, 0, 0, 0, 0, 0, 0, 0, 0, 0, 1, 0, 0, 0, 0, 0, 0,\n",
              "       0, 0, 0, 0, 0, 0, 0, 0, 0, 0, 1, 1, 0, 0, 0, 1, 0, 0, 0, 0, 0, 0,\n",
              "       0, 0, 0, 0, 1, 0, 1, 0, 0, 0, 0, 1, 0, 0, 0, 0, 0, 0, 0, 0, 0, 0,\n",
              "       1, 0, 0, 0, 0, 0, 0, 0, 0, 0, 1, 0, 0, 0, 0, 0, 0, 0, 0, 0, 0, 0,\n",
              "       0, 0, 0, 0, 0, 0, 1, 0, 0, 0, 0, 1, 0, 0, 0, 0, 0, 0, 0, 0, 1, 0,\n",
              "       0, 0, 0, 0, 0, 1, 0, 0, 0, 0, 0, 1, 0, 0, 1, 1, 0, 0, 1, 0, 1, 0,\n",
              "       0, 0, 1, 0, 0, 0, 0, 0, 0, 0, 0, 0, 0, 0, 0, 0, 0, 0, 0, 0, 1, 0,\n",
              "       0, 0, 0, 0, 0, 0, 0, 0, 0, 0, 0, 0, 0, 0, 0, 0, 0, 1, 0, 0, 0, 1,\n",
              "       0, 1, 0, 0, 0, 0, 0, 0, 0, 0, 0, 1, 1, 0, 0, 0, 1, 0, 0, 0, 0, 0,\n",
              "       0, 0, 0, 0, 0, 1, 0, 0, 0, 0, 0, 0, 0, 0, 0, 0, 0, 0, 0, 0, 0, 0,\n",
              "       0, 0, 0, 1, 0, 0, 0, 1, 0, 0, 1, 0, 1, 0, 0, 0, 0, 0, 0, 0, 0, 0,\n",
              "       0, 0, 0, 0, 0, 0, 0, 0, 0, 0, 1, 0, 0, 0, 0, 0, 0, 0, 0, 0, 0, 0,\n",
              "       0, 0, 0, 0, 0, 0, 0, 0, 0, 0, 0, 0, 0, 0, 0, 1, 0, 1, 0, 0, 0, 0,\n",
              "       0, 1, 0, 0, 0, 0, 0, 0, 0, 0, 0, 0, 1, 1, 0, 1, 0, 0, 0, 0, 1, 1,\n",
              "       0, 0, 1, 0, 0, 1, 0, 0, 0, 0, 0, 0, 0, 0, 0, 0, 1, 0, 0, 0, 0, 0,\n",
              "       0, 0, 0, 0, 0, 0, 0, 0, 0, 0, 0, 0, 0, 0, 0, 0, 0, 0, 0, 0, 0, 0,\n",
              "       0, 0, 0, 0, 0, 0, 0, 0, 0, 0, 0, 0, 0, 0, 0, 0, 0, 0, 0, 1, 0, 1,\n",
              "       0, 0, 0, 1, 0, 0, 0, 0, 0, 0, 0, 0, 0, 1, 0, 0, 0, 0, 0, 0, 0, 0,\n",
              "       0, 0, 0, 0, 0, 0, 0, 0, 0, 0, 0, 0, 0, 0, 0, 0, 1, 0, 1, 0, 0, 0,\n",
              "       0, 0, 0, 0, 0, 0, 0, 0, 1, 0, 0, 1, 0, 0, 0, 0, 1, 0, 1, 0, 0, 0,\n",
              "       0, 0, 0, 0, 0, 0, 0, 0, 1, 0, 0, 0, 0, 0, 0, 0, 0, 0, 0, 0, 0, 0,\n",
              "       0, 1, 0, 0, 0, 0, 0, 0, 0, 1, 0, 1, 0, 1, 0, 0, 0, 0])"
            ]
          },
          "metadata": {},
          "execution_count": 100
        }
      ]
    },
    {
      "cell_type": "markdown",
      "source": [
        "##Metrics"
      ],
      "metadata": {
        "id": "MfijIAAfPO_N"
      }
    },
    {
      "cell_type": "markdown",
      "source": [
        "*  Metrics on the training set"
      ],
      "metadata": {
        "id": "ghfFOURHP-Dx"
      }
    },
    {
      "cell_type": "code",
      "source": [
        "sklearn.metrics.confusion_matrix(y_train, y_pred_train)"
      ],
      "metadata": {
        "colab": {
          "base_uri": "https://localhost:8080/"
        },
        "id": "wdvJfuAZPSn1",
        "outputId": "486b1995-7586-4e5a-cc18-0145897037ce"
      },
      "execution_count": null,
      "outputs": [
        {
          "output_type": "execute_result",
          "data": {
            "text/plain": [
              "array([[356,  27],\n",
              "       [ 65,  32]])"
            ]
          },
          "metadata": {},
          "execution_count": 101
        }
      ]
    },
    {
      "cell_type": "code",
      "source": [
        "accuracy_score(y_train, y_pred_train)"
      ],
      "metadata": {
        "colab": {
          "base_uri": "https://localhost:8080/"
        },
        "id": "bZbMJbSlPyyh",
        "outputId": "f3a4cbfd-813c-4e95-b0a7-7de613bfc2d0"
      },
      "execution_count": null,
      "outputs": [
        {
          "output_type": "execute_result",
          "data": {
            "text/plain": [
              "0.8083333333333333"
            ]
          },
          "metadata": {},
          "execution_count": 102
        }
      ]
    },
    {
      "cell_type": "code",
      "source": [
        "sklearn.metrics.recall_score(y_train, y_pred_train)"
      ],
      "metadata": {
        "colab": {
          "base_uri": "https://localhost:8080/"
        },
        "id": "nBlJNRYxP0Ea",
        "outputId": "c1b797ff-e6f5-448b-881d-5d7eaf47c156"
      },
      "execution_count": null,
      "outputs": [
        {
          "output_type": "execute_result",
          "data": {
            "text/plain": [
              "0.32989690721649484"
            ]
          },
          "metadata": {},
          "execution_count": 103
        }
      ]
    },
    {
      "cell_type": "code",
      "source": [
        "sklearn.metrics.precision_score(y_train, y_pred_train)"
      ],
      "metadata": {
        "colab": {
          "base_uri": "https://localhost:8080/"
        },
        "id": "atp7sC6mP1OB",
        "outputId": "3ef042e3-39c7-445f-d4f3-562f0c78fdd0"
      },
      "execution_count": null,
      "outputs": [
        {
          "output_type": "execute_result",
          "data": {
            "text/plain": [
              "0.5423728813559322"
            ]
          },
          "metadata": {},
          "execution_count": 104
        }
      ]
    },
    {
      "cell_type": "code",
      "source": [
        "sklearn.metrics.f1_score(y_train, y_pred_train)"
      ],
      "metadata": {
        "colab": {
          "base_uri": "https://localhost:8080/"
        },
        "id": "X5lxEZGWP2aK",
        "outputId": "8190e89c-b035-4d51-d919-12544d88613d"
      },
      "execution_count": null,
      "outputs": [
        {
          "output_type": "execute_result",
          "data": {
            "text/plain": [
              "0.4102564102564102"
            ]
          },
          "metadata": {},
          "execution_count": 105
        }
      ]
    },
    {
      "cell_type": "code",
      "source": [
        "fpr, tpr, _ = roc_curve(y_train, y_pred_train, pos_label=pipe.classes_[1]) \n",
        "roc_display = RocCurveDisplay(fpr=fpr, tpr=tpr).plot()\n",
        "plt.show()"
      ],
      "metadata": {
        "colab": {
          "base_uri": "https://localhost:8080/",
          "height": 279
        },
        "id": "-0n7nSmkP4PL",
        "outputId": "742a2658-c27f-4ca9-d32f-a2445138c9e0"
      },
      "execution_count": null,
      "outputs": [
        {
          "output_type": "display_data",
          "data": {
            "text/plain": [
              "<Figure size 432x288 with 1 Axes>"
            ],
            "image/png": "[encoded data removed]"
          },
          "metadata": {
            "needs_background": "light"
          }
        }
      ]
    },
    {
      "cell_type": "code",
      "source": [
        "sklearn.metrics.roc_auc_score(y_train, y_pred_train)"
      ],
      "metadata": {
        "colab": {
          "base_uri": "https://localhost:8080/"
        },
        "id": "KFgED4pnP7p-",
        "outputId": "64accbc0-9205-4a50-d1d2-214d2a0fc054"
      },
      "execution_count": null,
      "outputs": [
        {
          "output_type": "execute_result",
          "data": {
            "text/plain": [
              "0.6297004118327905"
            ]
          },
          "metadata": {},
          "execution_count": 107
        }
      ]
    },
    {
      "cell_type": "markdown",
      "source": [
        "*  Metrics on the validation set"
      ],
      "metadata": {
        "id": "CrdgAbNOQFU0"
      }
    },
    {
      "cell_type": "code",
      "source": [
        "y_pred_val = pipe.predict(X_val)\n",
        "print('Valid')\n",
        "print('confusion_matrix: ', confusion_matrix(y_val, y_pred_val))\n",
        "print('accuracy: ', accuracy_score(y_val, y_pred_val))\n",
        "print('recall: ', recall_score(y_val, y_pred_val))\n",
        "print('precision: ', precision_score(y_val, y_pred_val))\n",
        "print('f1: ', f1_score(y_val, y_pred_val))\n",
        "print('roc auc: ', roc_auc_score(y_val, y_pred_val))\n",
        "fpr, tpr, _ = roc_curve(y_val, y_pred_val, pos_label=pipe.classes_[1])\n",
        "roc_display = RocCurveDisplay(fpr=fpr, tpr=tpr).plot()"
      ],
      "metadata": {
        "colab": {
          "base_uri": "https://localhost:8080/",
          "height": 425
        },
        "id": "cZ7g9gSAQMLH",
        "outputId": "72a5d8aa-c8f1-41e0-bf34-d208f67c8c61"
      },
      "execution_count": null,
      "outputs": [
        {
          "output_type": "stream",
          "name": "stdout",
          "text": [
            "Valid\n",
            "confusion_matrix:  [[121   7]\n",
            " [ 20  12]]\n",
            "accuracy:  0.83125\n",
            "recall:  0.375\n",
            "precision:  0.631578947368421\n",
            "f1:  0.47058823529411764\n",
            "roc auc:  0.66015625\n"
          ]
        },
        {
          "output_type": "display_data",
          "data": {
            "text/plain": [
              "<Figure size 432x288 with 1 Axes>"
            ],
            "image/png": "[encoded data removed]"
          },
          "metadata": {
            "needs_background": "light"
          }
        }
      ]
    },
    {
      "cell_type": "markdown",
      "source": [
        "* Returned to prepear model and pipeline"
      ],
      "metadata": {
        "id": "xOuI6AWkSCou"
      }
    },
    {
      "cell_type": "code",
      "source": [
        "penalty = ['none', 'l1', 'elasticnet']"
      ],
      "metadata": {
        "id": "yGHKikE5QX41"
      },
      "execution_count": null,
      "outputs": []
    },
    {
      "cell_type": "code",
      "source": [
        "one_pipe = Pipeline( steps = [\n",
        "    ('preprocessor', preprocessor),\n",
        "    ('model',  LogisticRegression(random_state=0))\n",
        "    ])"
      ],
      "metadata": {
        "id": "mfzoth6rQyH7"
      },
      "execution_count": null,
      "outputs": []
    },
    {
      "cell_type": "code",
      "source": [
        "models_df = pd.DataFrame() # table for saving metrics\n",
        "for pen in penalty: #for each model\n",
        "\n",
        "  if pen == 'l1':\n",
        "    pipe_params = {\n",
        "        'model__solver': 'liblinear',\n",
        "        'model__penalty': 'l1'\n",
        "    }\n",
        "  elif pen == 'elasticnet':\n",
        "    pipe_params = {\n",
        "        'model__solver': 'saga',\n",
        "        'model__l1_ratio': 0.1,\n",
        "        'model__penalty': 'elasticnet'\n",
        "    }\n",
        "  else:\n",
        "    pipe_params = {\n",
        "        'model__random_state': 0,\n",
        "        'model__solver': 'lbfgs',\n",
        "        'model__penalty': 'l2'       \n",
        "    }\n",
        "\n",
        "\n",
        "  one_pipe.set_params(**pipe_params)\n",
        "\n",
        "  start_time = time.time() \n",
        "  one_pipe.fit(X_train, y_train)\n",
        "  end_time = time.time()\n",
        "\n",
        "   \n",
        "  y_pred_train = one_pipe.predict(X_train) \n",
        "  y_pred_val = one_pipe.predict(X_val)\n",
        "\n",
        "  acc_train = accuracy_score(y_train, y_pred_train)\n",
        "  acc_val = accuracy_score(y_val, y_pred_val)\n",
        "\n",
        "  rec_train = recall_score(y_train, y_pred_train)\n",
        "  rec_val = recall_score(y_val, y_pred_val)\n",
        "\n",
        "  prec_train = precision_score(y_train, y_pred_train)\n",
        "  prec_val = precision_score(y_val, y_pred_val)\n",
        "  \n",
        "  f1_train = f1_score(y_train, y_pred_train)\n",
        "  f1_val = f1_score(y_val, y_pred_val)\n",
        "\n",
        "  roc_auc_train = roc_auc_score(y_train, y_pred_train)\n",
        "  roc_auc_val  = roc_auc_score(y_val, y_pred_val)\n",
        "\n",
        "  param_dict = {\n",
        "      'model__solver': one_pipe.get_params()['model__solver'],\n",
        "      'model__l1_ratio': one_pipe.get_params()['model__l1_ratio'],\n",
        "      'model__penalty':  one_pipe.get_params()['model__penalty'],\n",
        "      'acc_train': acc_train,\n",
        "      'acc_val':acc_val,\n",
        "      'rec_train':rec_train,\n",
        "      'rec_val': rec_val,\n",
        "      'prec_train': prec_train,\n",
        "      'prec_val':prec_val, \n",
        "      'f1_train':f1_train, \n",
        "      'f1_val':f1_val,\n",
        "      'roc_auc_train':roc_auc_train, \n",
        "      'roc_auc_val':roc_auc_val\n",
        "  }\n",
        "  \n",
        "  models_df = models_df.append(pd.DataFrame(param_dict, index = [0]))"
      ],
      "metadata": {
        "colab": {
          "base_uri": "https://localhost:8080/"
        },
        "id": "OKLgsDzFvtnx",
        "outputId": "41ee15ba-136c-41d4-8ecf-7e439e39076f"
      },
      "execution_count": null,
      "outputs": [
        {
          "output_type": "stream",
          "name": "stderr",
          "text": [
            "/usr/local/lib/python3.8/dist-packages/sklearn/linear_model/_sag.py:352: ConvergenceWarning:\n",
            "\n",
            "The max_iter was reached which means the coef_ did not converge\n",
            "\n"
          ]
        }
      ]
    },
    {
      "cell_type": "code",
      "source": [
        "models_df.reset_index(drop = True, inplace=True)"
      ],
      "metadata": {
        "id": "VhKdrl6xUSDP"
      },
      "execution_count": null,
      "outputs": []
    },
    {
      "cell_type": "code",
      "source": [
        "models_df"
      ],
      "metadata": {
        "colab": {
          "base_uri": "https://localhost:8080/",
          "height": 143
        },
        "id": "fkT7TEeWUSho",
        "outputId": "686776c1-b410-42c8-fe4e-2311364b06d7"
      },
      "execution_count": null,
      "outputs": [
        {
          "output_type": "execute_result",
          "data": {
            "text/plain": [
              "  model__solver  model__l1_ratio model__penalty  acc_train  acc_val  \\\n",
              "0         lbfgs              NaN             l2   0.808333  0.83125   \n",
              "1     liblinear              NaN             l1   0.810417  0.83750   \n",
              "2          saga              0.1     elasticnet   0.806250  0.83125   \n",
              "\n",
              "   rec_train  rec_val  prec_train  prec_val  f1_train    f1_val  \\\n",
              "0   0.329897    0.375    0.542373  0.631579  0.410256  0.470588   \n",
              "1   0.329897    0.375    0.551724  0.666667  0.412903  0.480000   \n",
              "2   0.329897    0.375    0.533333  0.631579  0.407643  0.470588   \n",
              "\n",
              "   roc_auc_train  roc_auc_val  \n",
              "0       0.629700     0.660156  \n",
              "1       0.631006     0.664062  \n",
              "2       0.628395     0.660156  "
            ],
            "text/html": [
              "\n",
              "  <div id=\"df-bc3ef5e3-d17a-4bbb-9bbc-aa98c24a25fa\">\n",
              "    <div class=\"colab-df-container\">\n",
              "      <div>\n",
              "<style scoped>\n",
              "    .dataframe tbody tr th:only-of-type {\n",
              "        vertical-align: middle;\n",
              "    }\n",
              "\n",
              "    .dataframe tbody tr th {\n",
              "        vertical-align: top;\n",
              "    }\n",
              "\n",
              "    .dataframe thead th {\n",
              "        text-align: right;\n",
              "    }\n",
              "</style>\n",
              "<table border=\"1\" class=\"dataframe\">\n",
              "  <thead>\n",
              "    <tr style=\"text-align: right;\">\n",
              "      <th></th>\n",
              "      <th>model__solver</th>\n",
              "      <th>model__l1_ratio</th>\n",
              "      <th>model__penalty</th>\n",
              "      <th>acc_train</th>\n",
              "      <th>acc_val</th>\n",
              "      <th>rec_train</th>\n",
              "      <th>rec_val</th>\n",
              "      <th>prec_train</th>\n",
              "      <th>prec_val</th>\n",
              "      <th>f1_train</th>\n",
              "      <th>f1_val</th>\n",
              "      <th>roc_auc_train</th>\n",
              "      <th>roc_auc_val</th>\n",
              "    </tr>\n",
              "  </thead>\n",
              "  <tbody>\n",
              "    <tr>\n",
              "      <th>0</th>\n",
              "      <td>lbfgs</td>\n",
              "      <td>NaN</td>\n",
              "      <td>l2</td>\n",
              "      <td>0.808333</td>\n",
              "      <td>0.83125</td>\n",
              "      <td>0.329897</td>\n",
              "      <td>0.375</td>\n",
              "      <td>0.542373</td>\n",
              "      <td>0.631579</td>\n",
              "      <td>0.410256</td>\n",
              "      <td>0.470588</td>\n",
              "      <td>0.629700</td>\n",
              "      <td>0.660156</td>\n",
              "    </tr>\n",
              "    <tr>\n",
              "      <th>1</th>\n",
              "      <td>liblinear</td>\n",
              "      <td>NaN</td>\n",
              "      <td>l1</td>\n",
              "      <td>0.810417</td>\n",
              "      <td>0.83750</td>\n",
              "      <td>0.329897</td>\n",
              "      <td>0.375</td>\n",
              "      <td>0.551724</td>\n",
              "      <td>0.666667</td>\n",
              "      <td>0.412903</td>\n",
              "      <td>0.480000</td>\n",
              "      <td>0.631006</td>\n",
              "      <td>0.664062</td>\n",
              "    </tr>\n",
              "    <tr>\n",
              "      <th>2</th>\n",
              "      <td>saga</td>\n",
              "      <td>0.1</td>\n",
              "      <td>elasticnet</td>\n",
              "      <td>0.806250</td>\n",
              "      <td>0.83125</td>\n",
              "      <td>0.329897</td>\n",
              "      <td>0.375</td>\n",
              "      <td>0.533333</td>\n",
              "      <td>0.631579</td>\n",
              "      <td>0.407643</td>\n",
              "      <td>0.470588</td>\n",
              "      <td>0.628395</td>\n",
              "      <td>0.660156</td>\n",
              "    </tr>\n",
              "  </tbody>\n",
              "</table>\n",
              "</div>\n",
              "      <button class=\"colab-df-convert\" onclick=\"convertToInteractive('df-bc3ef5e3-d17a-4bbb-9bbc-aa98c24a25fa')\"\n",
              "              title=\"Convert this dataframe to an interactive table.\"\n",
              "              style=\"display:none;\">\n",
              "        \n",
              "  <svg xmlns=\"http://www.w3.org/2000/svg\" height=\"24px\"viewBox=\"0 0 24 24\"\n",
              "       width=\"24px\">\n",
              "    <path d=\"M0 0h24v24H0V0z\" fill=\"none\"/>\n",
              "    <path d=\"M18.56 5.44l.94 2.06.94-2.06 2.06-.94-2.06-.94-.94-2.06-.94 2.06-2.06.94zm-11 1L8.5 8.5l.94-2.06 2.06-.94-2.06-.94L8.5 2.5l-.94 2.06-2.06.94zm10 10l.94 2.06.94-2.06 2.06-.94-2.06-.94-.94-2.06-.94 2.06-2.06.94z\"/><path d=\"M17.41 7.96l-1.37-1.37c-.4-.4-.92-.59-1.43-.59-.52 0-1.04.2-1.43.59L10.3 9.45l-7.72 7.72c-.78.78-.78 2.05 0 2.83L4 21.41c.39.39.9.59 1.41.59.51 0 1.02-.2 1.41-.59l7.78-7.78 2.81-2.81c.8-.78.8-2.07 0-2.86zM5.41 20L4 18.59l7.72-7.72 1.47 1.35L5.41 20z\"/>\n",
              "  </svg>\n",
              "      </button>\n",
              "      \n",
              "  <style>\n",
              "    .colab-df-container {\n",
              "      display:flex;\n",
              "      flex-wrap:wrap;\n",
              "      gap: 12px;\n",
              "    }\n",
              "\n",
              "    .colab-df-convert {\n",
              "      background-color: #E8F0FE;\n",
              "      border: none;\n",
              "      border-radius: 50%;\n",
              "      cursor: pointer;\n",
              "      display: none;\n",
              "      fill: #1967D2;\n",
              "      height: 32px;\n",
              "      padding: 0 0 0 0;\n",
              "      width: 32px;\n",
              "    }\n",
              "\n",
              "    .colab-df-convert:hover {\n",
              "      background-color: #E2EBFA;\n",
              "      box-shadow: 0px 1px 2px rgba(60, 64, 67, 0.3), 0px 1px 3px 1px rgba(60, 64, 67, 0.15);\n",
              "      fill: #174EA6;\n",
              "    }\n",
              "\n",
              "    [theme=dark] .colab-df-convert {\n",
              "      background-color: #3B4455;\n",
              "      fill: #D2E3FC;\n",
              "    }\n",
              "\n",
              "    [theme=dark] .colab-df-convert:hover {\n",
              "      background-color: #434B5C;\n",
              "      box-shadow: 0px 1px 3px 1px rgba(0, 0, 0, 0.15);\n",
              "      filter: drop-shadow(0px 1px 2px rgba(0, 0, 0, 0.3));\n",
              "      fill: #FFFFFF;\n",
              "    }\n",
              "  </style>\n",
              "\n",
              "      <script>\n",
              "        const buttonEl =\n",
              "          document.querySelector('#df-bc3ef5e3-d17a-4bbb-9bbc-aa98c24a25fa button.colab-df-convert');\n",
              "        buttonEl.style.display =\n",
              "          google.colab.kernel.accessAllowed ? 'block' : 'none';\n",
              "\n",
              "        async function convertToInteractive(key) {\n",
              "          const element = document.querySelector('#df-bc3ef5e3-d17a-4bbb-9bbc-aa98c24a25fa');\n",
              "          const dataTable =\n",
              "            await google.colab.kernel.invokeFunction('convertToInteractive',\n",
              "                                                     [key], {});\n",
              "          if (!dataTable) return;\n",
              "\n",
              "          const docLinkHtml = 'Like what you see? Visit the ' +\n",
              "            '<a target=\"_blank\" href=https://colab.research.google.com/notebooks/data_table.ipynb>data table notebook</a>'\n",
              "            + ' to learn more about interactive tables.';\n",
              "          element.innerHTML = '';\n",
              "          dataTable['output_type'] = 'display_data';\n",
              "          await google.colab.output.renderOutput(dataTable, element);\n",
              "          const docLink = document.createElement('div');\n",
              "          docLink.innerHTML = docLinkHtml;\n",
              "          element.appendChild(docLink);\n",
              "        }\n",
              "      </script>\n",
              "    </div>\n",
              "  </div>\n",
              "  "
            ]
          },
          "metadata": {},
          "execution_count": 131
        }
      ]
    },
    {
      "cell_type": "code",
      "source": [
        "clf1 = LogisticRegression(random_state=1)\n",
        "clf2 = RandomForestClassifier(n_estimators=50, random_state=1)\n",
        "clf3 = GaussianNB()"
      ],
      "metadata": {
        "id": "I5FR5boquq69"
      },
      "execution_count": null,
      "outputs": []
    },
    {
      "cell_type": "code",
      "source": [
        "models = [DummyClassifier(strategy = 'most_frequent'),\n",
        "          LogisticRegression(random_state = 0),\n",
        "          SVC(random_state = 0),\n",
        "          KNeighborsClassifier(n_neighbors=5, weights='uniform', algorithm='ball_tree'),\n",
        "          # GaussianNB(),\n",
        "          # MultinomialNB(alpha=1.0),\n",
        "          # ComplementNB(alpha=1.0),\n",
        "          BernoulliNB(alpha=1.0),\n",
        "          # CategoricalNB(alpha=1.0),\n",
        "          DecisionTreeClassifier(random_state=0, max_depth=4, min_samples_leaf = 5, min_samples_split=7, criterion='gini'),\n",
        "          RandomForestClassifier(n_estimators=75, criterion='entropy'),\n",
        "          RandomForestClassifier(n_estimators=1, criterion='gini', min_samples_split=5, max_samples=20),\n",
        "          # VotingClassifier(estimators=[('lr', clf1), ('rf', clf2), ('gnb', clf3)],voting='hard'),\n",
        "          AdaBoostClassifier(n_estimators=100, random_state=0),\n",
        "          AdaBoostClassifier(n_estimators=75, learning_rate=1.0, random_state=0),\n",
        "          # AdaBoostClassifier(n_estimators = 77, random_state= 1),\n",
        "          # AdaBoostClassifier(learning_rate=0.5, algorithm='SAMME', random_state= 1),\n",
        "          # AdaBoostClassifier(learning_rate=0.5, algorithm='SAMME', random_state= 1),\n",
        "          RandomForestClassifier(max_depth=10, max_features=4,random_state=0)\n",
        "                ]"
      ],
      "metadata": {
        "id": "D59AnaTEu7lX"
      },
      "execution_count": null,
      "outputs": []
    },
    {
      "cell_type": "code",
      "source": [
        "discretizers = [None, KBinsDiscretizer(n_bins=10, encode='ordinal', strategy='uniform')]"
      ],
      "metadata": {
        "id": "GnlXu1lPvfBX"
      },
      "execution_count": null,
      "outputs": []
    },
    {
      "cell_type": "code",
      "source": [
        "pipe_for_models = Pipeline( steps = [\n",
        "    ('preprocessor', preprocessor),\n",
        "    ('model',  None)\n",
        "    ])"
      ],
      "metadata": {
        "id": "zn5i2fSfwN2P"
      },
      "execution_count": null,
      "outputs": []
    },
    {
      "cell_type": "code",
      "source": [
        "models_df = pd.DataFrame() \n",
        "for model in models: \n",
        "  for discretizer in discretizers:\n",
        "    model_name =  type(pipe_for_models.get_params()['model']).__name__\n",
        "    if model_name =='ComplementNB':  \n",
        "      pipe_params = {   \n",
        "          'model': model,\n",
        "          'preprocessor__numerical__discretizer':discretizer,\n",
        "          'preprocessor__numerical__scaler':None\n",
        "      }\n",
        "    elif model_name == 'DecisionTreeClassifier':\n",
        "            pipe_params = {\n",
        "                'model': model,\n",
        "                'preprocessor__numerical__discretizer': discretizer,\n",
        "                'preprocessor__numerical__scaler': None\n",
        "            }\n",
        "    else:\n",
        "        pipe_params = {   \n",
        "            'model': model,\n",
        "            'preprocessor__numerical__discretizer': discretizer\n",
        "        }\n",
        "\n",
        "    \n",
        "\n",
        "    pipe_for_models.set_params(**pipe_params)\n",
        "\n",
        "    start_time = time.time() \n",
        "    pipe_for_models.fit(X_train, y_train)\n",
        "    end_time = time.time()\n",
        "\n",
        "    \n",
        "    y_pred_train = pipe_for_models.predict(X_train) \n",
        "    y_pred_val = pipe_for_models.predict(X_val)\n",
        "\n",
        "    acc_train = accuracy_score(y_train, y_pred_train)\n",
        "    acc_val = accuracy_score(y_val, y_pred_val)\n",
        "\n",
        "    rec_train = recall_score(y_train, y_pred_train)\n",
        "    rec_val = recall_score(y_val, y_pred_val)\n",
        "\n",
        "    prec_train = precision_score(y_train, y_pred_train)\n",
        "    prec_val = precision_score(y_val, y_pred_val)\n",
        "    \n",
        "    f1_train = f1_score(y_train, y_pred_train)\n",
        "    f1_val = f1_score(y_val, y_pred_val)\n",
        "\n",
        "    roc_auc_train = roc_auc_score(y_train, y_pred_train)\n",
        "    roc_auc_val  = roc_auc_score(y_val, y_pred_val)\n",
        "\n",
        "    param_dict = {\n",
        "        'model': str(pipe_for_models.get_params()['model']),\n",
        "        'discretizer': str(pipe_for_models.get_params()['preprocessor__numerical__discretizer']),\n",
        "        'acc_train': acc_train,\n",
        "        'acc_val':acc_val,\n",
        "        'rec_train':rec_train,\n",
        "        'rec_val': rec_val,\n",
        "        'prec_train': prec_train,\n",
        "        'prec_val':prec_val, \n",
        "        'f1_train':f1_train, \n",
        "        'f1_val':f1_val,\n",
        "        'roc_auc_train':roc_auc_train, \n",
        "        'roc_auc_val':roc_auc_val\n",
        "    }\n",
        " \n",
        "    print(param_dict)\n",
        "    models_df = models_df.append(pd.DataFrame(param_dict, index = [0]))"
      ],
      "metadata": {
        "id": "bpyVgPtCUkRg"
      },
      "execution_count": null,
      "outputs": []
    },
    {
      "cell_type": "code",
      "source": [
        "models_df.reset_index(drop = True, inplace=True)"
      ],
      "metadata": {
        "id": "xORi1hpfV93s"
      },
      "execution_count": null,
      "outputs": []
    },
    {
      "cell_type": "code",
      "source": [
        "models_df.sort_values('f1_val', ascending=False)"
      ],
      "metadata": {
        "colab": {
          "base_uri": "https://localhost:8080/",
          "height": 739
        },
        "id": "IN3ffPvhV_gT",
        "outputId": "13580227-0429-4ed0-c746-19de0b3c41e9"
      },
      "execution_count": null,
      "outputs": [
        {
          "output_type": "execute_result",
          "data": {
            "text/plain": [
              "                                                model  \\\n",
              "6         KNeighborsClassifier(algorithm='ball_tree')   \n",
              "8                                       BernoulliNB()   \n",
              "9                                       BernoulliNB()   \n",
              "15  RandomForestClassifier(max_samples=20, min_sam...   \n",
              "20  RandomForestClassifier(max_depth=10, max_featu...   \n",
              "3                  LogisticRegression(random_state=0)   \n",
              "12  RandomForestClassifier(criterion='entropy', n_...   \n",
              "2                  LogisticRegression(random_state=0)   \n",
              "16  AdaBoostClassifier(n_estimators=100, random_st...   \n",
              "19  AdaBoostClassifier(n_estimators=75, random_sta...   \n",
              "17  AdaBoostClassifier(n_estimators=100, random_st...   \n",
              "18  AdaBoostClassifier(n_estimators=75, random_sta...   \n",
              "11  DecisionTreeClassifier(max_depth=4, min_sample...   \n",
              "7         KNeighborsClassifier(algorithm='ball_tree')   \n",
              "10  DecisionTreeClassifier(max_depth=4, min_sample...   \n",
              "21  RandomForestClassifier(max_depth=10, max_featu...   \n",
              "13  RandomForestClassifier(criterion='entropy', n_...   \n",
              "14  RandomForestClassifier(max_samples=20, min_sam...   \n",
              "1           DummyClassifier(strategy='most_frequent')   \n",
              "5                                 SVC(random_state=0)   \n",
              "4                                 SVC(random_state=0)   \n",
              "0           DummyClassifier(strategy='most_frequent')   \n",
              "\n",
              "                                          discretizer  acc_train  acc_val  \\\n",
              "6                                                None   0.864583  0.83125   \n",
              "8                                                None   0.808333  0.82500   \n",
              "9   KBinsDiscretizer(encode='ordinal', n_bins=10, ...   0.806250  0.82500   \n",
              "15  KBinsDiscretizer(encode='ordinal', n_bins=10, ...   0.812500  0.85625   \n",
              "20                                               None   0.977083  0.82500   \n",
              "3   KBinsDiscretizer(encode='ordinal', n_bins=10, ...   0.808333  0.83750   \n",
              "12                                               None   0.997917  0.80625   \n",
              "2                                                None   0.806250  0.83125   \n",
              "16                                               None   0.847917  0.80625   \n",
              "19  KBinsDiscretizer(encode='ordinal', n_bins=10, ...   0.808333  0.81875   \n",
              "17  KBinsDiscretizer(encode='ordinal', n_bins=10, ...   0.808333  0.81875   \n",
              "18                                               None   0.847917  0.80000   \n",
              "11  KBinsDiscretizer(encode='ordinal', n_bins=10, ...   0.845833  0.79375   \n",
              "7   KBinsDiscretizer(encode='ordinal', n_bins=10, ...   0.858333  0.80625   \n",
              "10                                               None   0.856250  0.78125   \n",
              "21  KBinsDiscretizer(encode='ordinal', n_bins=10, ...   0.893750  0.80000   \n",
              "13  KBinsDiscretizer(encode='ordinal', n_bins=10, ...   0.897917  0.79375   \n",
              "14                                               None   0.797917  0.80000   \n",
              "1   KBinsDiscretizer(encode='ordinal', n_bins=10, ...   0.797917  0.80000   \n",
              "5   KBinsDiscretizer(encode='ordinal', n_bins=10, ...   0.797917  0.80000   \n",
              "4                                                None   0.797917  0.80000   \n",
              "0                                                None   0.797917  0.80000   \n",
              "\n",
              "    rec_train  rec_val  prec_train  prec_val  f1_train    f1_val  \\\n",
              "6    0.556701  0.46875    0.710526  0.600000  0.624277  0.526316   \n",
              "8    0.577320  0.46875    0.523364  0.576923  0.549020  0.517241   \n",
              "9    0.577320  0.46875    0.518519  0.576923  0.546341  0.517241   \n",
              "15   0.329897  0.34375    0.561404  0.846154  0.415584  0.488889   \n",
              "20   0.896907  0.40625    0.988636  0.590909  0.940541  0.481481   \n",
              "3    0.329897  0.37500    0.542373  0.666667  0.410256  0.480000   \n",
              "12   0.989691  0.43750    1.000000  0.518519  0.994819  0.474576   \n",
              "2    0.329897  0.37500    0.533333  0.631579  0.407643  0.470588   \n",
              "16   0.474227  0.40625    0.676471  0.520000  0.557576  0.456140   \n",
              "19   0.340206  0.37500    0.540984  0.571429  0.417722  0.452830   \n",
              "17   0.340206  0.37500    0.540984  0.571429  0.417722  0.452830   \n",
              "18   0.474227  0.37500    0.676471  0.500000  0.557576  0.428571   \n",
              "11   0.567010  0.31250    0.632184  0.476190  0.597826  0.377358   \n",
              "7    0.505155  0.25000    0.710145  0.533333  0.590361  0.340426   \n",
              "10   0.577320  0.25000    0.666667  0.421053  0.618785  0.313725   \n",
              "21   0.567010  0.21875    0.859375  0.500000  0.683230  0.304348   \n",
              "13   0.618557  0.21875    0.833333  0.466667  0.710059  0.297872   \n",
              "14   0.000000  0.00000    0.000000  0.000000  0.000000  0.000000   \n",
              "1    0.000000  0.00000    0.000000  0.000000  0.000000  0.000000   \n",
              "5    0.000000  0.00000    0.000000  0.000000  0.000000  0.000000   \n",
              "4    0.000000  0.00000    0.000000  0.000000  0.000000  0.000000   \n",
              "0    0.000000  0.00000    0.000000  0.000000  0.000000  0.000000   \n",
              "\n",
              "    roc_auc_train  roc_auc_val  \n",
              "6        0.749630     0.695312  \n",
              "8        0.722080     0.691406  \n",
              "9        0.720775     0.691406  \n",
              "15       0.632311     0.664062  \n",
              "20       0.947148     0.667969  \n",
              "3        0.629700     0.664062  \n",
              "12       0.994845     0.667969  \n",
              "2        0.628395     0.660156  \n",
              "16       0.708393     0.656250  \n",
              "19       0.633550     0.652344  \n",
              "17       0.633550     0.652344  \n",
              "18       0.708393     0.640625  \n",
              "11       0.741730     0.613281  \n",
              "7        0.726468     0.597656  \n",
              "10       0.752106     0.582031  \n",
              "21       0.771756     0.582031  \n",
              "13       0.793613     0.578125  \n",
              "14       0.500000     0.500000  \n",
              "1        0.500000     0.500000  \n",
              "5        0.500000     0.500000  \n",
              "4        0.500000     0.500000  \n",
              "0        0.500000     0.500000  "
            ],
            "text/html": [
              "\n",
              "  <div id=\"df-318c7293-408f-4379-a734-f1972ccd130c\">\n",
              "    <div class=\"colab-df-container\">\n",
              "      <div>\n",
              "<style scoped>\n",
              "    .dataframe tbody tr th:only-of-type {\n",
              "        vertical-align: middle;\n",
              "    }\n",
              "\n",
              "    .dataframe tbody tr th {\n",
              "        vertical-align: top;\n",
              "    }\n",
              "\n",
              "    .dataframe thead th {\n",
              "        text-align: right;\n",
              "    }\n",
              "</style>\n",
              "<table border=\"1\" class=\"dataframe\">\n",
              "  <thead>\n",
              "    <tr style=\"text-align: right;\">\n",
              "      <th></th>\n",
              "      <th>model</th>\n",
              "      <th>discretizer</th>\n",
              "      <th>acc_train</th>\n",
              "      <th>acc_val</th>\n",
              "      <th>rec_train</th>\n",
              "      <th>rec_val</th>\n",
              "      <th>prec_train</th>\n",
              "      <th>prec_val</th>\n",
              "      <th>f1_train</th>\n",
              "      <th>f1_val</th>\n",
              "      <th>roc_auc_train</th>\n",
              "      <th>roc_auc_val</th>\n",
              "    </tr>\n",
              "  </thead>\n",
              "  <tbody>\n",
              "    <tr>\n",
              "      <th>6</th>\n",
              "      <td>KNeighborsClassifier(algorithm='ball_tree')</td>\n",
              "      <td>None</td>\n",
              "      <td>0.864583</td>\n",
              "      <td>0.83125</td>\n",
              "      <td>0.556701</td>\n",
              "      <td>0.46875</td>\n",
              "      <td>0.710526</td>\n",
              "      <td>0.600000</td>\n",
              "      <td>0.624277</td>\n",
              "      <td>0.526316</td>\n",
              "      <td>0.749630</td>\n",
              "      <td>0.695312</td>\n",
              "    </tr>\n",
              "    <tr>\n",
              "      <th>8</th>\n",
              "      <td>BernoulliNB()</td>\n",
              "      <td>None</td>\n",
              "      <td>0.808333</td>\n",
              "      <td>0.82500</td>\n",
              "      <td>0.577320</td>\n",
              "      <td>0.46875</td>\n",
              "      <td>0.523364</td>\n",
              "      <td>0.576923</td>\n",
              "      <td>0.549020</td>\n",
              "      <td>0.517241</td>\n",
              "      <td>0.722080</td>\n",
              "      <td>0.691406</td>\n",
              "    </tr>\n",
              "    <tr>\n",
              "      <th>9</th>\n",
              "      <td>BernoulliNB()</td>\n",
              "      <td>KBinsDiscretizer(encode='ordinal', n_bins=10, ...</td>\n",
              "      <td>0.806250</td>\n",
              "      <td>0.82500</td>\n",
              "      <td>0.577320</td>\n",
              "      <td>0.46875</td>\n",
              "      <td>0.518519</td>\n",
              "      <td>0.576923</td>\n",
              "      <td>0.546341</td>\n",
              "      <td>0.517241</td>\n",
              "      <td>0.720775</td>\n",
              "      <td>0.691406</td>\n",
              "    </tr>\n",
              "    <tr>\n",
              "      <th>15</th>\n",
              "      <td>RandomForestClassifier(max_samples=20, min_sam...</td>\n",
              "      <td>KBinsDiscretizer(encode='ordinal', n_bins=10, ...</td>\n",
              "      <td>0.812500</td>\n",
              "      <td>0.85625</td>\n",
              "      <td>0.329897</td>\n",
              "      <td>0.34375</td>\n",
              "      <td>0.561404</td>\n",
              "      <td>0.846154</td>\n",
              "      <td>0.415584</td>\n",
              "      <td>0.488889</td>\n",
              "      <td>0.632311</td>\n",
              "      <td>0.664062</td>\n",
              "    </tr>\n",
              "    <tr>\n",
              "      <th>20</th>\n",
              "      <td>RandomForestClassifier(max_depth=10, max_featu...</td>\n",
              "      <td>None</td>\n",
              "      <td>0.977083</td>\n",
              "      <td>0.82500</td>\n",
              "      <td>0.896907</td>\n",
              "      <td>0.40625</td>\n",
              "      <td>0.988636</td>\n",
              "      <td>0.590909</td>\n",
              "      <td>0.940541</td>\n",
              "      <td>0.481481</td>\n",
              "      <td>0.947148</td>\n",
              "      <td>0.667969</td>\n",
              "    </tr>\n",
              "    <tr>\n",
              "      <th>3</th>\n",
              "      <td>LogisticRegression(random_state=0)</td>\n",
              "      <td>KBinsDiscretizer(encode='ordinal', n_bins=10, ...</td>\n",
              "      <td>0.808333</td>\n",
              "      <td>0.83750</td>\n",
              "      <td>0.329897</td>\n",
              "      <td>0.37500</td>\n",
              "      <td>0.542373</td>\n",
              "      <td>0.666667</td>\n",
              "      <td>0.410256</td>\n",
              "      <td>0.480000</td>\n",
              "      <td>0.629700</td>\n",
              "      <td>0.664062</td>\n",
              "    </tr>\n",
              "    <tr>\n",
              "      <th>12</th>\n",
              "      <td>RandomForestClassifier(criterion='entropy', n_...</td>\n",
              "      <td>None</td>\n",
              "      <td>0.997917</td>\n",
              "      <td>0.80625</td>\n",
              "      <td>0.989691</td>\n",
              "      <td>0.43750</td>\n",
              "      <td>1.000000</td>\n",
              "      <td>0.518519</td>\n",
              "      <td>0.994819</td>\n",
              "      <td>0.474576</td>\n",
              "      <td>0.994845</td>\n",
              "      <td>0.667969</td>\n",
              "    </tr>\n",
              "    <tr>\n",
              "      <th>2</th>\n",
              "      <td>LogisticRegression(random_state=0)</td>\n",
              "      <td>None</td>\n",
              "      <td>0.806250</td>\n",
              "      <td>0.83125</td>\n",
              "      <td>0.329897</td>\n",
              "      <td>0.37500</td>\n",
              "      <td>0.533333</td>\n",
              "      <td>0.631579</td>\n",
              "      <td>0.407643</td>\n",
              "      <td>0.470588</td>\n",
              "      <td>0.628395</td>\n",
              "      <td>0.660156</td>\n",
              "    </tr>\n",
              "    <tr>\n",
              "      <th>16</th>\n",
              "      <td>AdaBoostClassifier(n_estimators=100, random_st...</td>\n",
              "      <td>None</td>\n",
              "      <td>0.847917</td>\n",
              "      <td>0.80625</td>\n",
              "      <td>0.474227</td>\n",
              "      <td>0.40625</td>\n",
              "      <td>0.676471</td>\n",
              "      <td>0.520000</td>\n",
              "      <td>0.557576</td>\n",
              "      <td>0.456140</td>\n",
              "      <td>0.708393</td>\n",
              "      <td>0.656250</td>\n",
              "    </tr>\n",
              "    <tr>\n",
              "      <th>19</th>\n",
              "      <td>AdaBoostClassifier(n_estimators=75, random_sta...</td>\n",
              "      <td>KBinsDiscretizer(encode='ordinal', n_bins=10, ...</td>\n",
              "      <td>0.808333</td>\n",
              "      <td>0.81875</td>\n",
              "      <td>0.340206</td>\n",
              "      <td>0.37500</td>\n",
              "      <td>0.540984</td>\n",
              "      <td>0.571429</td>\n",
              "      <td>0.417722</td>\n",
              "      <td>0.452830</td>\n",
              "      <td>0.633550</td>\n",
              "      <td>0.652344</td>\n",
              "    </tr>\n",
              "    <tr>\n",
              "      <th>17</th>\n",
              "      <td>AdaBoostClassifier(n_estimators=100, random_st...</td>\n",
              "      <td>KBinsDiscretizer(encode='ordinal', n_bins=10, ...</td>\n",
              "      <td>0.808333</td>\n",
              "      <td>0.81875</td>\n",
              "      <td>0.340206</td>\n",
              "      <td>0.37500</td>\n",
              "      <td>0.540984</td>\n",
              "      <td>0.571429</td>\n",
              "      <td>0.417722</td>\n",
              "      <td>0.452830</td>\n",
              "      <td>0.633550</td>\n",
              "      <td>0.652344</td>\n",
              "    </tr>\n",
              "    <tr>\n",
              "      <th>18</th>\n",
              "      <td>AdaBoostClassifier(n_estimators=75, random_sta...</td>\n",
              "      <td>None</td>\n",
              "      <td>0.847917</td>\n",
              "      <td>0.80000</td>\n",
              "      <td>0.474227</td>\n",
              "      <td>0.37500</td>\n",
              "      <td>0.676471</td>\n",
              "      <td>0.500000</td>\n",
              "      <td>0.557576</td>\n",
              "      <td>0.428571</td>\n",
              "      <td>0.708393</td>\n",
              "      <td>0.640625</td>\n",
              "    </tr>\n",
              "    <tr>\n",
              "      <th>11</th>\n",
              "      <td>DecisionTreeClassifier(max_depth=4, min_sample...</td>\n",
              "      <td>KBinsDiscretizer(encode='ordinal', n_bins=10, ...</td>\n",
              "      <td>0.845833</td>\n",
              "      <td>0.79375</td>\n",
              "      <td>0.567010</td>\n",
              "      <td>0.31250</td>\n",
              "      <td>0.632184</td>\n",
              "      <td>0.476190</td>\n",
              "      <td>0.597826</td>\n",
              "      <td>0.377358</td>\n",
              "      <td>0.741730</td>\n",
              "      <td>0.613281</td>\n",
              "    </tr>\n",
              "    <tr>\n",
              "      <th>7</th>\n",
              "      <td>KNeighborsClassifier(algorithm='ball_tree')</td>\n",
              "      <td>KBinsDiscretizer(encode='ordinal', n_bins=10, ...</td>\n",
              "      <td>0.858333</td>\n",
              "      <td>0.80625</td>\n",
              "      <td>0.505155</td>\n",
              "      <td>0.25000</td>\n",
              "      <td>0.710145</td>\n",
              "      <td>0.533333</td>\n",
              "      <td>0.590361</td>\n",
              "      <td>0.340426</td>\n",
              "      <td>0.726468</td>\n",
              "      <td>0.597656</td>\n",
              "    </tr>\n",
              "    <tr>\n",
              "      <th>10</th>\n",
              "      <td>DecisionTreeClassifier(max_depth=4, min_sample...</td>\n",
              "      <td>None</td>\n",
              "      <td>0.856250</td>\n",
              "      <td>0.78125</td>\n",
              "      <td>0.577320</td>\n",
              "      <td>0.25000</td>\n",
              "      <td>0.666667</td>\n",
              "      <td>0.421053</td>\n",
              "      <td>0.618785</td>\n",
              "      <td>0.313725</td>\n",
              "      <td>0.752106</td>\n",
              "      <td>0.582031</td>\n",
              "    </tr>\n",
              "    <tr>\n",
              "      <th>21</th>\n",
              "      <td>RandomForestClassifier(max_depth=10, max_featu...</td>\n",
              "      <td>KBinsDiscretizer(encode='ordinal', n_bins=10, ...</td>\n",
              "      <td>0.893750</td>\n",
              "      <td>0.80000</td>\n",
              "      <td>0.567010</td>\n",
              "      <td>0.21875</td>\n",
              "      <td>0.859375</td>\n",
              "      <td>0.500000</td>\n",
              "      <td>0.683230</td>\n",
              "      <td>0.304348</td>\n",
              "      <td>0.771756</td>\n",
              "      <td>0.582031</td>\n",
              "    </tr>\n",
              "    <tr>\n",
              "      <th>13</th>\n",
              "      <td>RandomForestClassifier(criterion='entropy', n_...</td>\n",
              "      <td>KBinsDiscretizer(encode='ordinal', n_bins=10, ...</td>\n",
              "      <td>0.897917</td>\n",
              "      <td>0.79375</td>\n",
              "      <td>0.618557</td>\n",
              "      <td>0.21875</td>\n",
              "      <td>0.833333</td>\n",
              "      <td>0.466667</td>\n",
              "      <td>0.710059</td>\n",
              "      <td>0.297872</td>\n",
              "      <td>0.793613</td>\n",
              "      <td>0.578125</td>\n",
              "    </tr>\n",
              "    <tr>\n",
              "      <th>14</th>\n",
              "      <td>RandomForestClassifier(max_samples=20, min_sam...</td>\n",
              "      <td>None</td>\n",
              "      <td>0.797917</td>\n",
              "      <td>0.80000</td>\n",
              "      <td>0.000000</td>\n",
              "      <td>0.00000</td>\n",
              "      <td>0.000000</td>\n",
              "      <td>0.000000</td>\n",
              "      <td>0.000000</td>\n",
              "      <td>0.000000</td>\n",
              "      <td>0.500000</td>\n",
              "      <td>0.500000</td>\n",
              "    </tr>\n",
              "    <tr>\n",
              "      <th>1</th>\n",
              "      <td>DummyClassifier(strategy='most_frequent')</td>\n",
              "      <td>KBinsDiscretizer(encode='ordinal', n_bins=10, ...</td>\n",
              "      <td>0.797917</td>\n",
              "      <td>0.80000</td>\n",
              "      <td>0.000000</td>\n",
              "      <td>0.00000</td>\n",
              "      <td>0.000000</td>\n",
              "      <td>0.000000</td>\n",
              "      <td>0.000000</td>\n",
              "      <td>0.000000</td>\n",
              "      <td>0.500000</td>\n",
              "      <td>0.500000</td>\n",
              "    </tr>\n",
              "    <tr>\n",
              "      <th>5</th>\n",
              "      <td>SVC(random_state=0)</td>\n",
              "      <td>KBinsDiscretizer(encode='ordinal', n_bins=10, ...</td>\n",
              "      <td>0.797917</td>\n",
              "      <td>0.80000</td>\n",
              "      <td>0.000000</td>\n",
              "      <td>0.00000</td>\n",
              "      <td>0.000000</td>\n",
              "      <td>0.000000</td>\n",
              "      <td>0.000000</td>\n",
              "      <td>0.000000</td>\n",
              "      <td>0.500000</td>\n",
              "      <td>0.500000</td>\n",
              "    </tr>\n",
              "    <tr>\n",
              "      <th>4</th>\n",
              "      <td>SVC(random_state=0)</td>\n",
              "      <td>None</td>\n",
              "      <td>0.797917</td>\n",
              "      <td>0.80000</td>\n",
              "      <td>0.000000</td>\n",
              "      <td>0.00000</td>\n",
              "      <td>0.000000</td>\n",
              "      <td>0.000000</td>\n",
              "      <td>0.000000</td>\n",
              "      <td>0.000000</td>\n",
              "      <td>0.500000</td>\n",
              "      <td>0.500000</td>\n",
              "    </tr>\n",
              "    <tr>\n",
              "      <th>0</th>\n",
              "      <td>DummyClassifier(strategy='most_frequent')</td>\n",
              "      <td>None</td>\n",
              "      <td>0.797917</td>\n",
              "      <td>0.80000</td>\n",
              "      <td>0.000000</td>\n",
              "      <td>0.00000</td>\n",
              "      <td>0.000000</td>\n",
              "      <td>0.000000</td>\n",
              "      <td>0.000000</td>\n",
              "      <td>0.000000</td>\n",
              "      <td>0.500000</td>\n",
              "      <td>0.500000</td>\n",
              "    </tr>\n",
              "  </tbody>\n",
              "</table>\n",
              "</div>\n",
              "      <button class=\"colab-df-convert\" onclick=\"convertToInteractive('df-318c7293-408f-4379-a734-f1972ccd130c')\"\n",
              "              title=\"Convert this dataframe to an interactive table.\"\n",
              "              style=\"display:none;\">\n",
              "        \n",
              "  <svg xmlns=\"http://www.w3.org/2000/svg\" height=\"24px\"viewBox=\"0 0 24 24\"\n",
              "       width=\"24px\">\n",
              "    <path d=\"M0 0h24v24H0V0z\" fill=\"none\"/>\n",
              "    <path d=\"M18.56 5.44l.94 2.06.94-2.06 2.06-.94-2.06-.94-.94-2.06-.94 2.06-2.06.94zm-11 1L8.5 8.5l.94-2.06 2.06-.94-2.06-.94L8.5 2.5l-.94 2.06-2.06.94zm10 10l.94 2.06.94-2.06 2.06-.94-2.06-.94-.94-2.06-.94 2.06-2.06.94z\"/><path d=\"M17.41 7.96l-1.37-1.37c-.4-.4-.92-.59-1.43-.59-.52 0-1.04.2-1.43.59L10.3 9.45l-7.72 7.72c-.78.78-.78 2.05 0 2.83L4 21.41c.39.39.9.59 1.41.59.51 0 1.02-.2 1.41-.59l7.78-7.78 2.81-2.81c.8-.78.8-2.07 0-2.86zM5.41 20L4 18.59l7.72-7.72 1.47 1.35L5.41 20z\"/>\n",
              "  </svg>\n",
              "      </button>\n",
              "      \n",
              "  <style>\n",
              "    .colab-df-container {\n",
              "      display:flex;\n",
              "      flex-wrap:wrap;\n",
              "      gap: 12px;\n",
              "    }\n",
              "\n",
              "    .colab-df-convert {\n",
              "      background-color: #E8F0FE;\n",
              "      border: none;\n",
              "      border-radius: 50%;\n",
              "      cursor: pointer;\n",
              "      display: none;\n",
              "      fill: #1967D2;\n",
              "      height: 32px;\n",
              "      padding: 0 0 0 0;\n",
              "      width: 32px;\n",
              "    }\n",
              "\n",
              "    .colab-df-convert:hover {\n",
              "      background-color: #E2EBFA;\n",
              "      box-shadow: 0px 1px 2px rgba(60, 64, 67, 0.3), 0px 1px 3px 1px rgba(60, 64, 67, 0.15);\n",
              "      fill: #174EA6;\n",
              "    }\n",
              "\n",
              "    [theme=dark] .colab-df-convert {\n",
              "      background-color: #3B4455;\n",
              "      fill: #D2E3FC;\n",
              "    }\n",
              "\n",
              "    [theme=dark] .colab-df-convert:hover {\n",
              "      background-color: #434B5C;\n",
              "      box-shadow: 0px 1px 3px 1px rgba(0, 0, 0, 0.15);\n",
              "      filter: drop-shadow(0px 1px 2px rgba(0, 0, 0, 0.3));\n",
              "      fill: #FFFFFF;\n",
              "    }\n",
              "  </style>\n",
              "\n",
              "      <script>\n",
              "        const buttonEl =\n",
              "          document.querySelector('#df-318c7293-408f-4379-a734-f1972ccd130c button.colab-df-convert');\n",
              "        buttonEl.style.display =\n",
              "          google.colab.kernel.accessAllowed ? 'block' : 'none';\n",
              "\n",
              "        async function convertToInteractive(key) {\n",
              "          const element = document.querySelector('#df-318c7293-408f-4379-a734-f1972ccd130c');\n",
              "          const dataTable =\n",
              "            await google.colab.kernel.invokeFunction('convertToInteractive',\n",
              "                                                     [key], {});\n",
              "          if (!dataTable) return;\n",
              "\n",
              "          const docLinkHtml = 'Like what you see? Visit the ' +\n",
              "            '<a target=\"_blank\" href=https://colab.research.google.com/notebooks/data_table.ipynb>data table notebook</a>'\n",
              "            + ' to learn more about interactive tables.';\n",
              "          element.innerHTML = '';\n",
              "          dataTable['output_type'] = 'display_data';\n",
              "          await google.colab.output.renderOutput(dataTable, element);\n",
              "          const docLink = document.createElement('div');\n",
              "          docLink.innerHTML = docLinkHtml;\n",
              "          element.appendChild(docLink);\n",
              "        }\n",
              "      </script>\n",
              "    </div>\n",
              "  </div>\n",
              "  "
            ]
          },
          "metadata": {},
          "execution_count": 172
        }
      ]
    }
  ]
}